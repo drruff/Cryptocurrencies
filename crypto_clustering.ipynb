{
 "cells": [
  {
   "cell_type": "markdown",
   "metadata": {},
   "source": [
    "# Clustering Crypto"
   ]
  },
  {
   "cell_type": "code",
   "execution_count": 28,
   "metadata": {},
   "outputs": [],
   "source": [
    "# Initial imports\n",
    "import pandas as pd, numpy as np\n",
    "import hvplot.pandas\n",
    "from path import Path\n",
    "import plotly.express as px\n",
    "from sklearn.preprocessing import StandardScaler, MinMaxScaler\n",
    "from sklearn.decomposition import PCA\n",
    "from sklearn.cluster import KMeans\n",
    "from sklearn.cluster import AgglomerativeClustering"
   ]
  },
  {
   "cell_type": "markdown",
   "metadata": {},
   "source": [
    "### Deliverable 1: Preprocessing the Data for PCA"
   ]
  },
  {
   "cell_type": "code",
   "execution_count": 29,
   "metadata": {},
   "outputs": [
    {
     "data": {
      "text/html": [
       "<div>\n",
       "<style scoped>\n",
       "    .dataframe tbody tr th:only-of-type {\n",
       "        vertical-align: middle;\n",
       "    }\n",
       "\n",
       "    .dataframe tbody tr th {\n",
       "        vertical-align: top;\n",
       "    }\n",
       "\n",
       "    .dataframe thead th {\n",
       "        text-align: right;\n",
       "    }\n",
       "</style>\n",
       "<table border=\"1\" class=\"dataframe\">\n",
       "  <thead>\n",
       "    <tr style=\"text-align: right;\">\n",
       "      <th></th>\n",
       "      <th>CoinName</th>\n",
       "      <th>Algorithm</th>\n",
       "      <th>IsTrading</th>\n",
       "      <th>ProofType</th>\n",
       "      <th>TotalCoinsMined</th>\n",
       "      <th>TotalCoinSupply</th>\n",
       "    </tr>\n",
       "  </thead>\n",
       "  <tbody>\n",
       "    <tr>\n",
       "      <th>42</th>\n",
       "      <td>42 Coin</td>\n",
       "      <td>Scrypt</td>\n",
       "      <td>True</td>\n",
       "      <td>PoW/PoS</td>\n",
       "      <td>4.199995e+01</td>\n",
       "      <td>42</td>\n",
       "    </tr>\n",
       "    <tr>\n",
       "      <th>365</th>\n",
       "      <td>365Coin</td>\n",
       "      <td>X11</td>\n",
       "      <td>True</td>\n",
       "      <td>PoW/PoS</td>\n",
       "      <td>NaN</td>\n",
       "      <td>2300000000</td>\n",
       "    </tr>\n",
       "    <tr>\n",
       "      <th>404</th>\n",
       "      <td>404Coin</td>\n",
       "      <td>Scrypt</td>\n",
       "      <td>True</td>\n",
       "      <td>PoW/PoS</td>\n",
       "      <td>1.055185e+09</td>\n",
       "      <td>532000000</td>\n",
       "    </tr>\n",
       "    <tr>\n",
       "      <th>611</th>\n",
       "      <td>SixEleven</td>\n",
       "      <td>SHA-256</td>\n",
       "      <td>True</td>\n",
       "      <td>PoW</td>\n",
       "      <td>NaN</td>\n",
       "      <td>611000</td>\n",
       "    </tr>\n",
       "    <tr>\n",
       "      <th>808</th>\n",
       "      <td>808</td>\n",
       "      <td>SHA-256</td>\n",
       "      <td>True</td>\n",
       "      <td>PoW/PoS</td>\n",
       "      <td>0.000000e+00</td>\n",
       "      <td>0</td>\n",
       "    </tr>\n",
       "  </tbody>\n",
       "</table>\n",
       "</div>"
      ],
      "text/plain": [
       "      CoinName Algorithm  IsTrading ProofType  TotalCoinsMined TotalCoinSupply\n",
       "42     42 Coin    Scrypt       True   PoW/PoS     4.199995e+01              42\n",
       "365    365Coin       X11       True   PoW/PoS              NaN      2300000000\n",
       "404    404Coin    Scrypt       True   PoW/PoS     1.055185e+09       532000000\n",
       "611  SixEleven   SHA-256       True       PoW              NaN          611000\n",
       "808        808   SHA-256       True   PoW/PoS     0.000000e+00               0"
      ]
     },
     "execution_count": 29,
     "metadata": {},
     "output_type": "execute_result"
    }
   ],
   "source": [
    "# Load the crypto_data.csv dataset.\n",
    "# YOUR CODE HERE\n",
    "file_path = \"crypto_data.csv\"\n",
    "crypto_df = pd.read_csv(file_path, index_col = 0)\n",
    "crypto_df.head()"
   ]
  },
  {
   "cell_type": "code",
   "execution_count": 30,
   "metadata": {},
   "outputs": [
    {
     "data": {
      "text/html": [
       "<div>\n",
       "<style scoped>\n",
       "    .dataframe tbody tr th:only-of-type {\n",
       "        vertical-align: middle;\n",
       "    }\n",
       "\n",
       "    .dataframe tbody tr th {\n",
       "        vertical-align: top;\n",
       "    }\n",
       "\n",
       "    .dataframe thead th {\n",
       "        text-align: right;\n",
       "    }\n",
       "</style>\n",
       "<table border=\"1\" class=\"dataframe\">\n",
       "  <thead>\n",
       "    <tr style=\"text-align: right;\">\n",
       "      <th></th>\n",
       "      <th>CoinName</th>\n",
       "      <th>Algorithm</th>\n",
       "      <th>IsTrading</th>\n",
       "      <th>ProofType</th>\n",
       "      <th>TotalCoinsMined</th>\n",
       "      <th>TotalCoinSupply</th>\n",
       "    </tr>\n",
       "  </thead>\n",
       "  <tbody>\n",
       "    <tr>\n",
       "      <th>42</th>\n",
       "      <td>42 Coin</td>\n",
       "      <td>Scrypt</td>\n",
       "      <td>True</td>\n",
       "      <td>PoW/PoS</td>\n",
       "      <td>4.199995e+01</td>\n",
       "      <td>42</td>\n",
       "    </tr>\n",
       "    <tr>\n",
       "      <th>365</th>\n",
       "      <td>365Coin</td>\n",
       "      <td>X11</td>\n",
       "      <td>True</td>\n",
       "      <td>PoW/PoS</td>\n",
       "      <td>NaN</td>\n",
       "      <td>2300000000</td>\n",
       "    </tr>\n",
       "    <tr>\n",
       "      <th>404</th>\n",
       "      <td>404Coin</td>\n",
       "      <td>Scrypt</td>\n",
       "      <td>True</td>\n",
       "      <td>PoW/PoS</td>\n",
       "      <td>1.055185e+09</td>\n",
       "      <td>532000000</td>\n",
       "    </tr>\n",
       "    <tr>\n",
       "      <th>611</th>\n",
       "      <td>SixEleven</td>\n",
       "      <td>SHA-256</td>\n",
       "      <td>True</td>\n",
       "      <td>PoW</td>\n",
       "      <td>NaN</td>\n",
       "      <td>611000</td>\n",
       "    </tr>\n",
       "    <tr>\n",
       "      <th>808</th>\n",
       "      <td>808</td>\n",
       "      <td>SHA-256</td>\n",
       "      <td>True</td>\n",
       "      <td>PoW/PoS</td>\n",
       "      <td>0.000000e+00</td>\n",
       "      <td>0</td>\n",
       "    </tr>\n",
       "    <tr>\n",
       "      <th>...</th>\n",
       "      <td>...</td>\n",
       "      <td>...</td>\n",
       "      <td>...</td>\n",
       "      <td>...</td>\n",
       "      <td>...</td>\n",
       "      <td>...</td>\n",
       "    </tr>\n",
       "    <tr>\n",
       "      <th>SERO</th>\n",
       "      <td>Super Zero</td>\n",
       "      <td>Ethash</td>\n",
       "      <td>True</td>\n",
       "      <td>PoW</td>\n",
       "      <td>NaN</td>\n",
       "      <td>1000000000</td>\n",
       "    </tr>\n",
       "    <tr>\n",
       "      <th>UOS</th>\n",
       "      <td>UOS</td>\n",
       "      <td>SHA-256</td>\n",
       "      <td>True</td>\n",
       "      <td>DPoI</td>\n",
       "      <td>NaN</td>\n",
       "      <td>1000000000</td>\n",
       "    </tr>\n",
       "    <tr>\n",
       "      <th>BDX</th>\n",
       "      <td>Beldex</td>\n",
       "      <td>CryptoNight</td>\n",
       "      <td>True</td>\n",
       "      <td>PoW</td>\n",
       "      <td>9.802226e+08</td>\n",
       "      <td>1400222610</td>\n",
       "    </tr>\n",
       "    <tr>\n",
       "      <th>ZEN</th>\n",
       "      <td>Horizen</td>\n",
       "      <td>Equihash</td>\n",
       "      <td>True</td>\n",
       "      <td>PoW</td>\n",
       "      <td>7.296538e+06</td>\n",
       "      <td>21000000</td>\n",
       "    </tr>\n",
       "    <tr>\n",
       "      <th>XBC</th>\n",
       "      <td>BitcoinPlus</td>\n",
       "      <td>Scrypt</td>\n",
       "      <td>True</td>\n",
       "      <td>PoS</td>\n",
       "      <td>1.283270e+05</td>\n",
       "      <td>1000000</td>\n",
       "    </tr>\n",
       "  </tbody>\n",
       "</table>\n",
       "<p>1144 rows × 6 columns</p>\n",
       "</div>"
      ],
      "text/plain": [
       "         CoinName    Algorithm  IsTrading ProofType  TotalCoinsMined  \\\n",
       "42        42 Coin       Scrypt       True   PoW/PoS     4.199995e+01   \n",
       "365       365Coin          X11       True   PoW/PoS              NaN   \n",
       "404       404Coin       Scrypt       True   PoW/PoS     1.055185e+09   \n",
       "611     SixEleven      SHA-256       True       PoW              NaN   \n",
       "808           808      SHA-256       True   PoW/PoS     0.000000e+00   \n",
       "...           ...          ...        ...       ...              ...   \n",
       "SERO   Super Zero       Ethash       True       PoW              NaN   \n",
       "UOS           UOS      SHA-256       True      DPoI              NaN   \n",
       "BDX        Beldex  CryptoNight       True       PoW     9.802226e+08   \n",
       "ZEN       Horizen     Equihash       True       PoW     7.296538e+06   \n",
       "XBC   BitcoinPlus       Scrypt       True       PoS     1.283270e+05   \n",
       "\n",
       "     TotalCoinSupply  \n",
       "42                42  \n",
       "365       2300000000  \n",
       "404        532000000  \n",
       "611           611000  \n",
       "808                0  \n",
       "...              ...  \n",
       "SERO      1000000000  \n",
       "UOS       1000000000  \n",
       "BDX       1400222610  \n",
       "ZEN         21000000  \n",
       "XBC          1000000  \n",
       "\n",
       "[1144 rows x 6 columns]"
      ]
     },
     "execution_count": 30,
     "metadata": {},
     "output_type": "execute_result"
    }
   ],
   "source": [
    "# Keep all the cryptocurrencies that are being traded.\n",
    "# YOUR CODE HERE\n",
    "crypto_df = crypto_df[crypto_df['IsTrading']==True]\n",
    "crypto_df"
   ]
  },
  {
   "cell_type": "code",
   "execution_count": 31,
   "metadata": {},
   "outputs": [
    {
     "data": {
      "text/plain": [
       "42      False\n",
       "365     False\n",
       "404     False\n",
       "611     False\n",
       "808     False\n",
       "        ...  \n",
       "SERO    False\n",
       "UOS     False\n",
       "BDX     False\n",
       "ZEN     False\n",
       "XBC     False\n",
       "Name: Algorithm, Length: 1144, dtype: bool"
      ]
     },
     "execution_count": 31,
     "metadata": {},
     "output_type": "execute_result"
    }
   ],
   "source": [
    "# Keep all the cryptocurrencies that have a working algorithm.\n",
    "# YOUR CODE HERE\n",
    "pd.isna(crypto_df['Algorithm'])"
   ]
  },
  {
   "cell_type": "code",
   "execution_count": 32,
   "metadata": {},
   "outputs": [
    {
     "data": {
      "text/html": [
       "<div>\n",
       "<style scoped>\n",
       "    .dataframe tbody tr th:only-of-type {\n",
       "        vertical-align: middle;\n",
       "    }\n",
       "\n",
       "    .dataframe tbody tr th {\n",
       "        vertical-align: top;\n",
       "    }\n",
       "\n",
       "    .dataframe thead th {\n",
       "        text-align: right;\n",
       "    }\n",
       "</style>\n",
       "<table border=\"1\" class=\"dataframe\">\n",
       "  <thead>\n",
       "    <tr style=\"text-align: right;\">\n",
       "      <th></th>\n",
       "      <th>CoinName</th>\n",
       "      <th>Algorithm</th>\n",
       "      <th>ProofType</th>\n",
       "      <th>TotalCoinsMined</th>\n",
       "      <th>TotalCoinSupply</th>\n",
       "    </tr>\n",
       "  </thead>\n",
       "  <tbody>\n",
       "    <tr>\n",
       "      <th>42</th>\n",
       "      <td>42 Coin</td>\n",
       "      <td>Scrypt</td>\n",
       "      <td>PoW/PoS</td>\n",
       "      <td>4.199995e+01</td>\n",
       "      <td>42</td>\n",
       "    </tr>\n",
       "    <tr>\n",
       "      <th>365</th>\n",
       "      <td>365Coin</td>\n",
       "      <td>X11</td>\n",
       "      <td>PoW/PoS</td>\n",
       "      <td>NaN</td>\n",
       "      <td>2300000000</td>\n",
       "    </tr>\n",
       "    <tr>\n",
       "      <th>404</th>\n",
       "      <td>404Coin</td>\n",
       "      <td>Scrypt</td>\n",
       "      <td>PoW/PoS</td>\n",
       "      <td>1.055185e+09</td>\n",
       "      <td>532000000</td>\n",
       "    </tr>\n",
       "    <tr>\n",
       "      <th>611</th>\n",
       "      <td>SixEleven</td>\n",
       "      <td>SHA-256</td>\n",
       "      <td>PoW</td>\n",
       "      <td>NaN</td>\n",
       "      <td>611000</td>\n",
       "    </tr>\n",
       "    <tr>\n",
       "      <th>808</th>\n",
       "      <td>808</td>\n",
       "      <td>SHA-256</td>\n",
       "      <td>PoW/PoS</td>\n",
       "      <td>0.000000e+00</td>\n",
       "      <td>0</td>\n",
       "    </tr>\n",
       "  </tbody>\n",
       "</table>\n",
       "</div>"
      ],
      "text/plain": [
       "      CoinName Algorithm ProofType  TotalCoinsMined TotalCoinSupply\n",
       "42     42 Coin    Scrypt   PoW/PoS     4.199995e+01              42\n",
       "365    365Coin       X11   PoW/PoS              NaN      2300000000\n",
       "404    404Coin    Scrypt   PoW/PoS     1.055185e+09       532000000\n",
       "611  SixEleven   SHA-256       PoW              NaN          611000\n",
       "808        808   SHA-256   PoW/PoS     0.000000e+00               0"
      ]
     },
     "execution_count": 32,
     "metadata": {},
     "output_type": "execute_result"
    }
   ],
   "source": [
    "# Remove the \"IsTrading\" column. \n",
    "# YOUR CODE HERE\n",
    "crypto_df.drop(columns=[\"IsTrading\"], inplace=True)\n",
    "crypto_df.head()"
   ]
  },
  {
   "cell_type": "code",
   "execution_count": 33,
   "metadata": {},
   "outputs": [
    {
     "data": {
      "text/plain": [
       "CoinName           685\n",
       "Algorithm          685\n",
       "ProofType          685\n",
       "TotalCoinsMined    685\n",
       "TotalCoinSupply    685\n",
       "dtype: int64"
      ]
     },
     "execution_count": 33,
     "metadata": {},
     "output_type": "execute_result"
    }
   ],
   "source": [
    "# Remove rows that have at least 1 null value.\n",
    "# YOUR CODE HERE\n",
    "crypto_df=crypto_df.dropna()\n",
    "crypto_df.count()"
   ]
  },
  {
   "cell_type": "code",
   "execution_count": 34,
   "metadata": {},
   "outputs": [
    {
     "data": {
      "text/html": [
       "<div>\n",
       "<style scoped>\n",
       "    .dataframe tbody tr th:only-of-type {\n",
       "        vertical-align: middle;\n",
       "    }\n",
       "\n",
       "    .dataframe tbody tr th {\n",
       "        vertical-align: top;\n",
       "    }\n",
       "\n",
       "    .dataframe thead th {\n",
       "        text-align: right;\n",
       "    }\n",
       "</style>\n",
       "<table border=\"1\" class=\"dataframe\">\n",
       "  <thead>\n",
       "    <tr style=\"text-align: right;\">\n",
       "      <th></th>\n",
       "      <th>CoinName</th>\n",
       "      <th>Algorithm</th>\n",
       "      <th>ProofType</th>\n",
       "      <th>TotalCoinsMined</th>\n",
       "      <th>TotalCoinSupply</th>\n",
       "    </tr>\n",
       "  </thead>\n",
       "  <tbody>\n",
       "    <tr>\n",
       "      <th>42</th>\n",
       "      <td>42 Coin</td>\n",
       "      <td>Scrypt</td>\n",
       "      <td>PoW/PoS</td>\n",
       "      <td>4.199995e+01</td>\n",
       "      <td>42</td>\n",
       "    </tr>\n",
       "    <tr>\n",
       "      <th>404</th>\n",
       "      <td>404Coin</td>\n",
       "      <td>Scrypt</td>\n",
       "      <td>PoW/PoS</td>\n",
       "      <td>1.055185e+09</td>\n",
       "      <td>532000000</td>\n",
       "    </tr>\n",
       "    <tr>\n",
       "      <th>1337</th>\n",
       "      <td>EliteCoin</td>\n",
       "      <td>X13</td>\n",
       "      <td>PoW/PoS</td>\n",
       "      <td>2.927942e+10</td>\n",
       "      <td>314159265359</td>\n",
       "    </tr>\n",
       "    <tr>\n",
       "      <th>BTC</th>\n",
       "      <td>Bitcoin</td>\n",
       "      <td>SHA-256</td>\n",
       "      <td>PoW</td>\n",
       "      <td>1.792718e+07</td>\n",
       "      <td>21000000</td>\n",
       "    </tr>\n",
       "    <tr>\n",
       "      <th>ETH</th>\n",
       "      <td>Ethereum</td>\n",
       "      <td>Ethash</td>\n",
       "      <td>PoW</td>\n",
       "      <td>1.076842e+08</td>\n",
       "      <td>0</td>\n",
       "    </tr>\n",
       "    <tr>\n",
       "      <th>...</th>\n",
       "      <td>...</td>\n",
       "      <td>...</td>\n",
       "      <td>...</td>\n",
       "      <td>...</td>\n",
       "      <td>...</td>\n",
       "    </tr>\n",
       "    <tr>\n",
       "      <th>ZEPH</th>\n",
       "      <td>ZEPHYR</td>\n",
       "      <td>SHA-256</td>\n",
       "      <td>DPoS</td>\n",
       "      <td>2.000000e+09</td>\n",
       "      <td>2000000000</td>\n",
       "    </tr>\n",
       "    <tr>\n",
       "      <th>GAP</th>\n",
       "      <td>Gapcoin</td>\n",
       "      <td>Scrypt</td>\n",
       "      <td>PoW/PoS</td>\n",
       "      <td>1.493105e+07</td>\n",
       "      <td>250000000</td>\n",
       "    </tr>\n",
       "    <tr>\n",
       "      <th>BDX</th>\n",
       "      <td>Beldex</td>\n",
       "      <td>CryptoNight</td>\n",
       "      <td>PoW</td>\n",
       "      <td>9.802226e+08</td>\n",
       "      <td>1400222610</td>\n",
       "    </tr>\n",
       "    <tr>\n",
       "      <th>ZEN</th>\n",
       "      <td>Horizen</td>\n",
       "      <td>Equihash</td>\n",
       "      <td>PoW</td>\n",
       "      <td>7.296538e+06</td>\n",
       "      <td>21000000</td>\n",
       "    </tr>\n",
       "    <tr>\n",
       "      <th>XBC</th>\n",
       "      <td>BitcoinPlus</td>\n",
       "      <td>Scrypt</td>\n",
       "      <td>PoS</td>\n",
       "      <td>1.283270e+05</td>\n",
       "      <td>1000000</td>\n",
       "    </tr>\n",
       "  </tbody>\n",
       "</table>\n",
       "<p>532 rows × 5 columns</p>\n",
       "</div>"
      ],
      "text/plain": [
       "         CoinName    Algorithm ProofType  TotalCoinsMined TotalCoinSupply\n",
       "42        42 Coin       Scrypt   PoW/PoS     4.199995e+01              42\n",
       "404       404Coin       Scrypt   PoW/PoS     1.055185e+09       532000000\n",
       "1337    EliteCoin          X13   PoW/PoS     2.927942e+10    314159265359\n",
       "BTC       Bitcoin      SHA-256       PoW     1.792718e+07        21000000\n",
       "ETH      Ethereum       Ethash       PoW     1.076842e+08               0\n",
       "...           ...          ...       ...              ...             ...\n",
       "ZEPH       ZEPHYR      SHA-256      DPoS     2.000000e+09      2000000000\n",
       "GAP       Gapcoin       Scrypt   PoW/PoS     1.493105e+07       250000000\n",
       "BDX        Beldex  CryptoNight       PoW     9.802226e+08      1400222610\n",
       "ZEN       Horizen     Equihash       PoW     7.296538e+06        21000000\n",
       "XBC   BitcoinPlus       Scrypt       PoS     1.283270e+05         1000000\n",
       "\n",
       "[532 rows x 5 columns]"
      ]
     },
     "execution_count": 34,
     "metadata": {},
     "output_type": "execute_result"
    }
   ],
   "source": [
    "# Keep the rows where coins are mined.\n",
    "# YOUR CODE HERE\n",
    "crypto_df = crypto_df[crypto_df.TotalCoinsMined > 0]\n",
    "crypto_df"
   ]
  },
  {
   "cell_type": "code",
   "execution_count": 35,
   "metadata": {},
   "outputs": [
    {
     "data": {
      "text/html": [
       "<div>\n",
       "<style scoped>\n",
       "    .dataframe tbody tr th:only-of-type {\n",
       "        vertical-align: middle;\n",
       "    }\n",
       "\n",
       "    .dataframe tbody tr th {\n",
       "        vertical-align: top;\n",
       "    }\n",
       "\n",
       "    .dataframe thead th {\n",
       "        text-align: right;\n",
       "    }\n",
       "</style>\n",
       "<table border=\"1\" class=\"dataframe\">\n",
       "  <thead>\n",
       "    <tr style=\"text-align: right;\">\n",
       "      <th></th>\n",
       "      <th>CoinName</th>\n",
       "    </tr>\n",
       "  </thead>\n",
       "  <tbody>\n",
       "    <tr>\n",
       "      <th>42</th>\n",
       "      <td>42 Coin</td>\n",
       "    </tr>\n",
       "    <tr>\n",
       "      <th>404</th>\n",
       "      <td>404Coin</td>\n",
       "    </tr>\n",
       "    <tr>\n",
       "      <th>1337</th>\n",
       "      <td>EliteCoin</td>\n",
       "    </tr>\n",
       "    <tr>\n",
       "      <th>BTC</th>\n",
       "      <td>Bitcoin</td>\n",
       "    </tr>\n",
       "    <tr>\n",
       "      <th>ETH</th>\n",
       "      <td>Ethereum</td>\n",
       "    </tr>\n",
       "    <tr>\n",
       "      <th>...</th>\n",
       "      <td>...</td>\n",
       "    </tr>\n",
       "    <tr>\n",
       "      <th>ZEPH</th>\n",
       "      <td>ZEPHYR</td>\n",
       "    </tr>\n",
       "    <tr>\n",
       "      <th>GAP</th>\n",
       "      <td>Gapcoin</td>\n",
       "    </tr>\n",
       "    <tr>\n",
       "      <th>BDX</th>\n",
       "      <td>Beldex</td>\n",
       "    </tr>\n",
       "    <tr>\n",
       "      <th>ZEN</th>\n",
       "      <td>Horizen</td>\n",
       "    </tr>\n",
       "    <tr>\n",
       "      <th>XBC</th>\n",
       "      <td>BitcoinPlus</td>\n",
       "    </tr>\n",
       "  </tbody>\n",
       "</table>\n",
       "<p>532 rows × 1 columns</p>\n",
       "</div>"
      ],
      "text/plain": [
       "         CoinName\n",
       "42        42 Coin\n",
       "404       404Coin\n",
       "1337    EliteCoin\n",
       "BTC       Bitcoin\n",
       "ETH      Ethereum\n",
       "...           ...\n",
       "ZEPH       ZEPHYR\n",
       "GAP       Gapcoin\n",
       "BDX        Beldex\n",
       "ZEN       Horizen\n",
       "XBC   BitcoinPlus\n",
       "\n",
       "[532 rows x 1 columns]"
      ]
     },
     "execution_count": 35,
     "metadata": {},
     "output_type": "execute_result"
    }
   ],
   "source": [
    "# Create a new DataFrame that holds only the cryptocurrencies names.\n",
    "# YOUR CODE HERE\n",
    "coin_name_df = crypto_df[['CoinName']].set_index([crypto_df.index])\n",
    "coin_name_df"
   ]
  },
  {
   "cell_type": "code",
   "execution_count": 36,
   "metadata": {},
   "outputs": [
    {
     "data": {
      "text/html": [
       "<div>\n",
       "<style scoped>\n",
       "    .dataframe tbody tr th:only-of-type {\n",
       "        vertical-align: middle;\n",
       "    }\n",
       "\n",
       "    .dataframe tbody tr th {\n",
       "        vertical-align: top;\n",
       "    }\n",
       "\n",
       "    .dataframe thead th {\n",
       "        text-align: right;\n",
       "    }\n",
       "</style>\n",
       "<table border=\"1\" class=\"dataframe\">\n",
       "  <thead>\n",
       "    <tr style=\"text-align: right;\">\n",
       "      <th></th>\n",
       "      <th>Algorithm</th>\n",
       "      <th>ProofType</th>\n",
       "      <th>TotalCoinsMined</th>\n",
       "      <th>TotalCoinSupply</th>\n",
       "    </tr>\n",
       "  </thead>\n",
       "  <tbody>\n",
       "    <tr>\n",
       "      <th>42</th>\n",
       "      <td>Scrypt</td>\n",
       "      <td>PoW/PoS</td>\n",
       "      <td>4.199995e+01</td>\n",
       "      <td>42</td>\n",
       "    </tr>\n",
       "    <tr>\n",
       "      <th>404</th>\n",
       "      <td>Scrypt</td>\n",
       "      <td>PoW/PoS</td>\n",
       "      <td>1.055185e+09</td>\n",
       "      <td>532000000</td>\n",
       "    </tr>\n",
       "    <tr>\n",
       "      <th>1337</th>\n",
       "      <td>X13</td>\n",
       "      <td>PoW/PoS</td>\n",
       "      <td>2.927942e+10</td>\n",
       "      <td>314159265359</td>\n",
       "    </tr>\n",
       "    <tr>\n",
       "      <th>BTC</th>\n",
       "      <td>SHA-256</td>\n",
       "      <td>PoW</td>\n",
       "      <td>1.792718e+07</td>\n",
       "      <td>21000000</td>\n",
       "    </tr>\n",
       "    <tr>\n",
       "      <th>ETH</th>\n",
       "      <td>Ethash</td>\n",
       "      <td>PoW</td>\n",
       "      <td>1.076842e+08</td>\n",
       "      <td>0</td>\n",
       "    </tr>\n",
       "    <tr>\n",
       "      <th>...</th>\n",
       "      <td>...</td>\n",
       "      <td>...</td>\n",
       "      <td>...</td>\n",
       "      <td>...</td>\n",
       "    </tr>\n",
       "    <tr>\n",
       "      <th>ZEPH</th>\n",
       "      <td>SHA-256</td>\n",
       "      <td>DPoS</td>\n",
       "      <td>2.000000e+09</td>\n",
       "      <td>2000000000</td>\n",
       "    </tr>\n",
       "    <tr>\n",
       "      <th>GAP</th>\n",
       "      <td>Scrypt</td>\n",
       "      <td>PoW/PoS</td>\n",
       "      <td>1.493105e+07</td>\n",
       "      <td>250000000</td>\n",
       "    </tr>\n",
       "    <tr>\n",
       "      <th>BDX</th>\n",
       "      <td>CryptoNight</td>\n",
       "      <td>PoW</td>\n",
       "      <td>9.802226e+08</td>\n",
       "      <td>1400222610</td>\n",
       "    </tr>\n",
       "    <tr>\n",
       "      <th>ZEN</th>\n",
       "      <td>Equihash</td>\n",
       "      <td>PoW</td>\n",
       "      <td>7.296538e+06</td>\n",
       "      <td>21000000</td>\n",
       "    </tr>\n",
       "    <tr>\n",
       "      <th>XBC</th>\n",
       "      <td>Scrypt</td>\n",
       "      <td>PoS</td>\n",
       "      <td>1.283270e+05</td>\n",
       "      <td>1000000</td>\n",
       "    </tr>\n",
       "  </tbody>\n",
       "</table>\n",
       "<p>532 rows × 4 columns</p>\n",
       "</div>"
      ],
      "text/plain": [
       "        Algorithm ProofType  TotalCoinsMined TotalCoinSupply\n",
       "42         Scrypt   PoW/PoS     4.199995e+01              42\n",
       "404        Scrypt   PoW/PoS     1.055185e+09       532000000\n",
       "1337          X13   PoW/PoS     2.927942e+10    314159265359\n",
       "BTC       SHA-256       PoW     1.792718e+07        21000000\n",
       "ETH        Ethash       PoW     1.076842e+08               0\n",
       "...           ...       ...              ...             ...\n",
       "ZEPH      SHA-256      DPoS     2.000000e+09      2000000000\n",
       "GAP        Scrypt   PoW/PoS     1.493105e+07       250000000\n",
       "BDX   CryptoNight       PoW     9.802226e+08      1400222610\n",
       "ZEN      Equihash       PoW     7.296538e+06        21000000\n",
       "XBC        Scrypt       PoS     1.283270e+05         1000000\n",
       "\n",
       "[532 rows x 4 columns]"
      ]
     },
     "execution_count": 36,
     "metadata": {},
     "output_type": "execute_result"
    }
   ],
   "source": [
    "# Drop the 'CoinName' column since it's not going to be used on the clustering algorithm.\n",
    "# YOUR CODE HERE\n",
    "crypto_df.drop(columns=[\"CoinName\"], inplace=True)\n",
    "crypto_df"
   ]
  },
  {
   "cell_type": "code",
   "execution_count": 37,
   "metadata": {},
   "outputs": [
    {
     "data": {
      "text/html": [
       "<div>\n",
       "<style scoped>\n",
       "    .dataframe tbody tr th:only-of-type {\n",
       "        vertical-align: middle;\n",
       "    }\n",
       "\n",
       "    .dataframe tbody tr th {\n",
       "        vertical-align: top;\n",
       "    }\n",
       "\n",
       "    .dataframe thead th {\n",
       "        text-align: right;\n",
       "    }\n",
       "</style>\n",
       "<table border=\"1\" class=\"dataframe\">\n",
       "  <thead>\n",
       "    <tr style=\"text-align: right;\">\n",
       "      <th></th>\n",
       "      <th>TotalCoinsMined</th>\n",
       "      <th>TotalCoinSupply</th>\n",
       "      <th>1GB AES Pattern Search</th>\n",
       "      <th>536</th>\n",
       "      <th>Argon2d</th>\n",
       "      <th>BLAKE256</th>\n",
       "      <th>Blake</th>\n",
       "      <th>Blake2S</th>\n",
       "      <th>Blake2b</th>\n",
       "      <th>C11</th>\n",
       "      <th>...</th>\n",
       "      <th>PoW/PoS</th>\n",
       "      <th>PoW/PoS</th>\n",
       "      <th>PoW/PoW</th>\n",
       "      <th>PoW/nPoS</th>\n",
       "      <th>Pos</th>\n",
       "      <th>Proof of Authority</th>\n",
       "      <th>Proof of Trust</th>\n",
       "      <th>TPoS</th>\n",
       "      <th>Zero-Knowledge Proof</th>\n",
       "      <th>dPoW/PoW</th>\n",
       "    </tr>\n",
       "  </thead>\n",
       "  <tbody>\n",
       "    <tr>\n",
       "      <th>42</th>\n",
       "      <td>4.199995e+01</td>\n",
       "      <td>42</td>\n",
       "      <td>0</td>\n",
       "      <td>0</td>\n",
       "      <td>0</td>\n",
       "      <td>0</td>\n",
       "      <td>0</td>\n",
       "      <td>0</td>\n",
       "      <td>0</td>\n",
       "      <td>0</td>\n",
       "      <td>...</td>\n",
       "      <td>1</td>\n",
       "      <td>0</td>\n",
       "      <td>0</td>\n",
       "      <td>0</td>\n",
       "      <td>0</td>\n",
       "      <td>0</td>\n",
       "      <td>0</td>\n",
       "      <td>0</td>\n",
       "      <td>0</td>\n",
       "      <td>0</td>\n",
       "    </tr>\n",
       "    <tr>\n",
       "      <th>404</th>\n",
       "      <td>1.055185e+09</td>\n",
       "      <td>532000000</td>\n",
       "      <td>0</td>\n",
       "      <td>0</td>\n",
       "      <td>0</td>\n",
       "      <td>0</td>\n",
       "      <td>0</td>\n",
       "      <td>0</td>\n",
       "      <td>0</td>\n",
       "      <td>0</td>\n",
       "      <td>...</td>\n",
       "      <td>1</td>\n",
       "      <td>0</td>\n",
       "      <td>0</td>\n",
       "      <td>0</td>\n",
       "      <td>0</td>\n",
       "      <td>0</td>\n",
       "      <td>0</td>\n",
       "      <td>0</td>\n",
       "      <td>0</td>\n",
       "      <td>0</td>\n",
       "    </tr>\n",
       "    <tr>\n",
       "      <th>1337</th>\n",
       "      <td>2.927942e+10</td>\n",
       "      <td>314159265359</td>\n",
       "      <td>0</td>\n",
       "      <td>0</td>\n",
       "      <td>0</td>\n",
       "      <td>0</td>\n",
       "      <td>0</td>\n",
       "      <td>0</td>\n",
       "      <td>0</td>\n",
       "      <td>0</td>\n",
       "      <td>...</td>\n",
       "      <td>1</td>\n",
       "      <td>0</td>\n",
       "      <td>0</td>\n",
       "      <td>0</td>\n",
       "      <td>0</td>\n",
       "      <td>0</td>\n",
       "      <td>0</td>\n",
       "      <td>0</td>\n",
       "      <td>0</td>\n",
       "      <td>0</td>\n",
       "    </tr>\n",
       "    <tr>\n",
       "      <th>BTC</th>\n",
       "      <td>1.792718e+07</td>\n",
       "      <td>21000000</td>\n",
       "      <td>0</td>\n",
       "      <td>0</td>\n",
       "      <td>0</td>\n",
       "      <td>0</td>\n",
       "      <td>0</td>\n",
       "      <td>0</td>\n",
       "      <td>0</td>\n",
       "      <td>0</td>\n",
       "      <td>...</td>\n",
       "      <td>0</td>\n",
       "      <td>0</td>\n",
       "      <td>0</td>\n",
       "      <td>0</td>\n",
       "      <td>0</td>\n",
       "      <td>0</td>\n",
       "      <td>0</td>\n",
       "      <td>0</td>\n",
       "      <td>0</td>\n",
       "      <td>0</td>\n",
       "    </tr>\n",
       "    <tr>\n",
       "      <th>ETH</th>\n",
       "      <td>1.076842e+08</td>\n",
       "      <td>0</td>\n",
       "      <td>0</td>\n",
       "      <td>0</td>\n",
       "      <td>0</td>\n",
       "      <td>0</td>\n",
       "      <td>0</td>\n",
       "      <td>0</td>\n",
       "      <td>0</td>\n",
       "      <td>0</td>\n",
       "      <td>...</td>\n",
       "      <td>0</td>\n",
       "      <td>0</td>\n",
       "      <td>0</td>\n",
       "      <td>0</td>\n",
       "      <td>0</td>\n",
       "      <td>0</td>\n",
       "      <td>0</td>\n",
       "      <td>0</td>\n",
       "      <td>0</td>\n",
       "      <td>0</td>\n",
       "    </tr>\n",
       "    <tr>\n",
       "      <th>...</th>\n",
       "      <td>...</td>\n",
       "      <td>...</td>\n",
       "      <td>...</td>\n",
       "      <td>...</td>\n",
       "      <td>...</td>\n",
       "      <td>...</td>\n",
       "      <td>...</td>\n",
       "      <td>...</td>\n",
       "      <td>...</td>\n",
       "      <td>...</td>\n",
       "      <td>...</td>\n",
       "      <td>...</td>\n",
       "      <td>...</td>\n",
       "      <td>...</td>\n",
       "      <td>...</td>\n",
       "      <td>...</td>\n",
       "      <td>...</td>\n",
       "      <td>...</td>\n",
       "      <td>...</td>\n",
       "      <td>...</td>\n",
       "      <td>...</td>\n",
       "    </tr>\n",
       "    <tr>\n",
       "      <th>ZEPH</th>\n",
       "      <td>2.000000e+09</td>\n",
       "      <td>2000000000</td>\n",
       "      <td>0</td>\n",
       "      <td>0</td>\n",
       "      <td>0</td>\n",
       "      <td>0</td>\n",
       "      <td>0</td>\n",
       "      <td>0</td>\n",
       "      <td>0</td>\n",
       "      <td>0</td>\n",
       "      <td>...</td>\n",
       "      <td>0</td>\n",
       "      <td>0</td>\n",
       "      <td>0</td>\n",
       "      <td>0</td>\n",
       "      <td>0</td>\n",
       "      <td>0</td>\n",
       "      <td>0</td>\n",
       "      <td>0</td>\n",
       "      <td>0</td>\n",
       "      <td>0</td>\n",
       "    </tr>\n",
       "    <tr>\n",
       "      <th>GAP</th>\n",
       "      <td>1.493105e+07</td>\n",
       "      <td>250000000</td>\n",
       "      <td>0</td>\n",
       "      <td>0</td>\n",
       "      <td>0</td>\n",
       "      <td>0</td>\n",
       "      <td>0</td>\n",
       "      <td>0</td>\n",
       "      <td>0</td>\n",
       "      <td>0</td>\n",
       "      <td>...</td>\n",
       "      <td>1</td>\n",
       "      <td>0</td>\n",
       "      <td>0</td>\n",
       "      <td>0</td>\n",
       "      <td>0</td>\n",
       "      <td>0</td>\n",
       "      <td>0</td>\n",
       "      <td>0</td>\n",
       "      <td>0</td>\n",
       "      <td>0</td>\n",
       "    </tr>\n",
       "    <tr>\n",
       "      <th>BDX</th>\n",
       "      <td>9.802226e+08</td>\n",
       "      <td>1400222610</td>\n",
       "      <td>0</td>\n",
       "      <td>0</td>\n",
       "      <td>0</td>\n",
       "      <td>0</td>\n",
       "      <td>0</td>\n",
       "      <td>0</td>\n",
       "      <td>0</td>\n",
       "      <td>0</td>\n",
       "      <td>...</td>\n",
       "      <td>0</td>\n",
       "      <td>0</td>\n",
       "      <td>0</td>\n",
       "      <td>0</td>\n",
       "      <td>0</td>\n",
       "      <td>0</td>\n",
       "      <td>0</td>\n",
       "      <td>0</td>\n",
       "      <td>0</td>\n",
       "      <td>0</td>\n",
       "    </tr>\n",
       "    <tr>\n",
       "      <th>ZEN</th>\n",
       "      <td>7.296538e+06</td>\n",
       "      <td>21000000</td>\n",
       "      <td>0</td>\n",
       "      <td>0</td>\n",
       "      <td>0</td>\n",
       "      <td>0</td>\n",
       "      <td>0</td>\n",
       "      <td>0</td>\n",
       "      <td>0</td>\n",
       "      <td>0</td>\n",
       "      <td>...</td>\n",
       "      <td>0</td>\n",
       "      <td>0</td>\n",
       "      <td>0</td>\n",
       "      <td>0</td>\n",
       "      <td>0</td>\n",
       "      <td>0</td>\n",
       "      <td>0</td>\n",
       "      <td>0</td>\n",
       "      <td>0</td>\n",
       "      <td>0</td>\n",
       "    </tr>\n",
       "    <tr>\n",
       "      <th>XBC</th>\n",
       "      <td>1.283270e+05</td>\n",
       "      <td>1000000</td>\n",
       "      <td>0</td>\n",
       "      <td>0</td>\n",
       "      <td>0</td>\n",
       "      <td>0</td>\n",
       "      <td>0</td>\n",
       "      <td>0</td>\n",
       "      <td>0</td>\n",
       "      <td>0</td>\n",
       "      <td>...</td>\n",
       "      <td>0</td>\n",
       "      <td>0</td>\n",
       "      <td>0</td>\n",
       "      <td>0</td>\n",
       "      <td>0</td>\n",
       "      <td>0</td>\n",
       "      <td>0</td>\n",
       "      <td>0</td>\n",
       "      <td>0</td>\n",
       "      <td>0</td>\n",
       "    </tr>\n",
       "  </tbody>\n",
       "</table>\n",
       "<p>532 rows × 98 columns</p>\n",
       "</div>"
      ],
      "text/plain": [
       "      TotalCoinsMined TotalCoinSupply  1GB AES Pattern Search  536  Argon2d  \\\n",
       "42       4.199995e+01              42                       0    0        0   \n",
       "404      1.055185e+09       532000000                       0    0        0   \n",
       "1337     2.927942e+10    314159265359                       0    0        0   \n",
       "BTC      1.792718e+07        21000000                       0    0        0   \n",
       "ETH      1.076842e+08               0                       0    0        0   \n",
       "...               ...             ...                     ...  ...      ...   \n",
       "ZEPH     2.000000e+09      2000000000                       0    0        0   \n",
       "GAP      1.493105e+07       250000000                       0    0        0   \n",
       "BDX      9.802226e+08      1400222610                       0    0        0   \n",
       "ZEN      7.296538e+06        21000000                       0    0        0   \n",
       "XBC      1.283270e+05         1000000                       0    0        0   \n",
       "\n",
       "      BLAKE256  Blake  Blake2S  Blake2b  C11  ...  PoW/PoS  PoW/PoS   PoW/PoW  \\\n",
       "42           0      0        0        0    0  ...        1         0        0   \n",
       "404          0      0        0        0    0  ...        1         0        0   \n",
       "1337         0      0        0        0    0  ...        1         0        0   \n",
       "BTC          0      0        0        0    0  ...        0         0        0   \n",
       "ETH          0      0        0        0    0  ...        0         0        0   \n",
       "...        ...    ...      ...      ...  ...  ...      ...       ...      ...   \n",
       "ZEPH         0      0        0        0    0  ...        0         0        0   \n",
       "GAP          0      0        0        0    0  ...        1         0        0   \n",
       "BDX          0      0        0        0    0  ...        0         0        0   \n",
       "ZEN          0      0        0        0    0  ...        0         0        0   \n",
       "XBC          0      0        0        0    0  ...        0         0        0   \n",
       "\n",
       "      PoW/nPoS  Pos  Proof of Authority  Proof of Trust  TPoS  \\\n",
       "42           0    0                   0               0     0   \n",
       "404          0    0                   0               0     0   \n",
       "1337         0    0                   0               0     0   \n",
       "BTC          0    0                   0               0     0   \n",
       "ETH          0    0                   0               0     0   \n",
       "...        ...  ...                 ...             ...   ...   \n",
       "ZEPH         0    0                   0               0     0   \n",
       "GAP          0    0                   0               0     0   \n",
       "BDX          0    0                   0               0     0   \n",
       "ZEN          0    0                   0               0     0   \n",
       "XBC          0    0                   0               0     0   \n",
       "\n",
       "      Zero-Knowledge Proof  dPoW/PoW  \n",
       "42                       0         0  \n",
       "404                      0         0  \n",
       "1337                     0         0  \n",
       "BTC                      0         0  \n",
       "ETH                      0         0  \n",
       "...                    ...       ...  \n",
       "ZEPH                     0         0  \n",
       "GAP                      0         0  \n",
       "BDX                      0         0  \n",
       "ZEN                      0         0  \n",
       "XBC                      0         0  \n",
       "\n",
       "[532 rows x 98 columns]"
      ]
     },
     "execution_count": 37,
     "metadata": {},
     "output_type": "execute_result"
    }
   ],
   "source": [
    "# Use get_dummies() to create variables for text features.\n",
    "# YOUR CODE HERE\n",
    "crypto = pd.get_dummies(crypto_df['Algorithm'])\n",
    "dummy = pd.get_dummies(crypto_df['ProofType'])\n",
    "combined = pd.concat([crypto,dummy], axis= 1)\n",
    "df = crypto_df.merge(combined,left_index = True,right_index = True)\n",
    "df = df.drop(['Algorithm','ProofType'], axis =1)\n",
    "df"
   ]
  },
  {
   "cell_type": "code",
   "execution_count": 38,
   "metadata": {},
   "outputs": [
    {
     "name": "stdout",
     "output_type": "stream",
     "text": [
      "[[-0.11710817 -0.1528703  -0.0433963  ... -0.0433963  -0.0433963\n",
      "  -0.0433963 ]\n",
      " [-0.09396955 -0.145009   -0.0433963  ... -0.0433963  -0.0433963\n",
      "  -0.0433963 ]\n",
      " [ 0.52494561  4.48942416 -0.0433963  ... -0.0433963  -0.0433963\n",
      "  -0.0433963 ]\n",
      " ...\n",
      " [-0.09561336 -0.13217937 -0.0433963  ... -0.0433963  -0.0433963\n",
      "  -0.0433963 ]\n",
      " [-0.11694817 -0.15255998 -0.0433963  ... -0.0433963  -0.0433963\n",
      "  -0.0433963 ]\n",
      " [-0.11710536 -0.15285552 -0.0433963  ... -0.0433963  -0.0433963\n",
      "  -0.0433963 ]]\n"
     ]
    }
   ],
   "source": [
    "# Standardize the data with StandardScaler().\n",
    "# YOUR CODE HERE\n",
    "df_scaled = StandardScaler().fit_transform(df)\n",
    "print(df_scaled)"
   ]
  },
  {
   "cell_type": "markdown",
   "metadata": {},
   "source": [
    "### Deliverable 2: Reducing Data Dimensions Using PCA"
   ]
  },
  {
   "cell_type": "code",
   "execution_count": 39,
   "metadata": {},
   "outputs": [
    {
     "data": {
      "text/plain": [
       "array([[-0.33600876,  1.01755112, -0.55252945],\n",
       "       [-0.31934401,  1.01785658, -0.55271896],\n",
       "       [ 2.29327941,  1.7361333 , -0.63687758],\n",
       "       ...,\n",
       "       [ 0.32162806, -2.313605  ,  0.36990902],\n",
       "       [-0.16307962, -2.03311417,  0.3635631 ],\n",
       "       [-0.28314038,  0.80834823, -0.23408205]])"
      ]
     },
     "execution_count": 39,
     "metadata": {},
     "output_type": "execute_result"
    }
   ],
   "source": [
    "# Using PCA to reduce dimension to three principal components.\n",
    "# YOUR CODE HERE\n",
    "pca = PCA(n_components=3)\n",
    "df_pca = pca.fit_transform(df_scaled)\n",
    "df_pca"
   ]
  },
  {
   "cell_type": "code",
   "execution_count": 40,
   "metadata": {},
   "outputs": [
    {
     "data": {
      "text/html": [
       "<div>\n",
       "<style scoped>\n",
       "    .dataframe tbody tr th:only-of-type {\n",
       "        vertical-align: middle;\n",
       "    }\n",
       "\n",
       "    .dataframe tbody tr th {\n",
       "        vertical-align: top;\n",
       "    }\n",
       "\n",
       "    .dataframe thead th {\n",
       "        text-align: right;\n",
       "    }\n",
       "</style>\n",
       "<table border=\"1\" class=\"dataframe\">\n",
       "  <thead>\n",
       "    <tr style=\"text-align: right;\">\n",
       "      <th></th>\n",
       "      <th>PC1</th>\n",
       "      <th>PC2</th>\n",
       "      <th>PC3</th>\n",
       "    </tr>\n",
       "  </thead>\n",
       "  <tbody>\n",
       "    <tr>\n",
       "      <th>42</th>\n",
       "      <td>-0.336009</td>\n",
       "      <td>1.017551</td>\n",
       "      <td>-0.552529</td>\n",
       "    </tr>\n",
       "    <tr>\n",
       "      <th>404</th>\n",
       "      <td>-0.319344</td>\n",
       "      <td>1.017857</td>\n",
       "      <td>-0.552719</td>\n",
       "    </tr>\n",
       "    <tr>\n",
       "      <th>1337</th>\n",
       "      <td>2.293279</td>\n",
       "      <td>1.736133</td>\n",
       "      <td>-0.636878</td>\n",
       "    </tr>\n",
       "    <tr>\n",
       "      <th>BTC</th>\n",
       "      <td>-0.139994</td>\n",
       "      <td>-1.340185</td>\n",
       "      <td>0.177835</td>\n",
       "    </tr>\n",
       "    <tr>\n",
       "      <th>ETH</th>\n",
       "      <td>-0.144831</td>\n",
       "      <td>-2.046274</td>\n",
       "      <td>0.379615</td>\n",
       "    </tr>\n",
       "    <tr>\n",
       "      <th>...</th>\n",
       "      <td>...</td>\n",
       "      <td>...</td>\n",
       "      <td>...</td>\n",
       "    </tr>\n",
       "    <tr>\n",
       "      <th>ZEPH</th>\n",
       "      <td>2.478218</td>\n",
       "      <td>0.697841</td>\n",
       "      <td>0.016341</td>\n",
       "    </tr>\n",
       "    <tr>\n",
       "      <th>GAP</th>\n",
       "      <td>-0.334054</td>\n",
       "      <td>1.017450</td>\n",
       "      <td>-0.552542</td>\n",
       "    </tr>\n",
       "    <tr>\n",
       "      <th>BDX</th>\n",
       "      <td>0.321628</td>\n",
       "      <td>-2.313605</td>\n",
       "      <td>0.369909</td>\n",
       "    </tr>\n",
       "    <tr>\n",
       "      <th>ZEN</th>\n",
       "      <td>-0.163080</td>\n",
       "      <td>-2.033114</td>\n",
       "      <td>0.363563</td>\n",
       "    </tr>\n",
       "    <tr>\n",
       "      <th>XBC</th>\n",
       "      <td>-0.283140</td>\n",
       "      <td>0.808348</td>\n",
       "      <td>-0.234082</td>\n",
       "    </tr>\n",
       "  </tbody>\n",
       "</table>\n",
       "<p>532 rows × 3 columns</p>\n",
       "</div>"
      ],
      "text/plain": [
       "           PC1       PC2       PC3\n",
       "42   -0.336009  1.017551 -0.552529\n",
       "404  -0.319344  1.017857 -0.552719\n",
       "1337  2.293279  1.736133 -0.636878\n",
       "BTC  -0.139994 -1.340185  0.177835\n",
       "ETH  -0.144831 -2.046274  0.379615\n",
       "...        ...       ...       ...\n",
       "ZEPH  2.478218  0.697841  0.016341\n",
       "GAP  -0.334054  1.017450 -0.552542\n",
       "BDX   0.321628 -2.313605  0.369909\n",
       "ZEN  -0.163080 -2.033114  0.363563\n",
       "XBC  -0.283140  0.808348 -0.234082\n",
       "\n",
       "[532 rows x 3 columns]"
      ]
     },
     "execution_count": 40,
     "metadata": {},
     "output_type": "execute_result"
    }
   ],
   "source": [
    "# Create a DataFrame with the three principal components.\n",
    "# YOUR CODE HERE\n",
    "pcs_df = pd.DataFrame(\n",
    "    data = df_pca, columns = ['PC1', 'PC2', 'PC3'], index = crypto_df.index)\n",
    "\n",
    "pcs_df"
   ]
  },
  {
   "cell_type": "markdown",
   "metadata": {},
   "source": [
    "### Deliverable 3: Clustering Crytocurrencies Using K-Means\n",
    "\n",
    "#### Finding the Best Value for `k` Using the Elbow Curve"
   ]
  },
  {
   "cell_type": "code",
   "execution_count": 41,
   "metadata": {},
   "outputs": [
    {
     "name": "stderr",
     "output_type": "stream",
     "text": [
      "C:\\Users\\docto\\anaconda3\\envs\\PythonData\\lib\\site-packages\\sklearn\\cluster\\_kmeans.py:1037: UserWarning: KMeans is known to have a memory leak on Windows with MKL, when there are less chunks than available threads. You can avoid it by setting the environment variable OMP_NUM_THREADS=3.\n",
      "  \"KMeans is known to have a memory leak on Windows \"\n"
     ]
    },
    {
     "data": {},
     "metadata": {},
     "output_type": "display_data"
    },
    {
     "data": {
      "application/vnd.holoviews_exec.v0+json": "",
      "text/html": [
       "<div id='1120'>\n",
       "\n",
       "\n",
       "\n",
       "\n",
       "\n",
       "  <div class=\"bk-root\" id=\"d6726f10-c852-4186-a416-751e1f24008b\" data-root-id=\"1120\"></div>\n",
       "</div>\n",
       "<script type=\"application/javascript\">(function(root) {\n",
       "  function embed_document(root) {\n",
       "    var docs_json = {\"9a1482b9-f2a3-4258-9358-4b775c56e995\":{\"defs\":[{\"extends\":null,\"module\":null,\"name\":\"ReactiveHTML1\",\"overrides\":[],\"properties\":[]},{\"extends\":null,\"module\":null,\"name\":\"FlexBox1\",\"overrides\":[],\"properties\":[{\"default\":\"flex-start\",\"kind\":null,\"name\":\"align_content\"},{\"default\":\"flex-start\",\"kind\":null,\"name\":\"align_items\"},{\"default\":\"row\",\"kind\":null,\"name\":\"flex_direction\"},{\"default\":\"wrap\",\"kind\":null,\"name\":\"flex_wrap\"},{\"default\":\"flex-start\",\"kind\":null,\"name\":\"justify_content\"}]},{\"extends\":null,\"module\":null,\"name\":\"TemplateActions1\",\"overrides\":[],\"properties\":[{\"default\":0,\"kind\":null,\"name\":\"open_modal\"},{\"default\":0,\"kind\":null,\"name\":\"close_modal\"}]},{\"extends\":null,\"module\":null,\"name\":\"MaterialTemplateActions1\",\"overrides\":[],\"properties\":[{\"default\":0,\"kind\":null,\"name\":\"open_modal\"},{\"default\":0,\"kind\":null,\"name\":\"close_modal\"}]}],\"roots\":{\"references\":[{\"attributes\":{\"data\":{\"inertia\":{\"__ndarray__\":\"RGEPxcVxrEAo5OtbLFWjQCaGoPKLN5dAVmhQHyWRgECehXVkMB91QCLBsbF5Zm9AE6+uj5WnZ0Cv2tqEaw5iQFpkAMjN+ltA2ECCUMkEVkA=\",\"dtype\":\"float64\",\"order\":\"little\",\"shape\":[10]},\"k\":[1,2,3,4,5,6,7,8,9,10]},\"selected\":{\"id\":\"1156\"},\"selection_policy\":{\"id\":\"1179\"}},\"id\":\"1155\",\"type\":\"ColumnDataSource\"},{\"attributes\":{},\"id\":\"1167\",\"type\":\"AllLabels\"},{\"attributes\":{\"line_color\":\"#30a2da\",\"line_width\":2,\"x\":{\"field\":\"k\"},\"y\":{\"field\":\"inertia\"}},\"id\":\"1163\",\"type\":\"Line\"},{\"attributes\":{},\"id\":\"1179\",\"type\":\"UnionRenderers\"},{\"attributes\":{\"tools\":[{\"id\":\"1124\"},{\"id\":\"1142\"},{\"id\":\"1143\"},{\"id\":\"1144\"},{\"id\":\"1145\"},{\"id\":\"1146\"}]},\"id\":\"1148\",\"type\":\"Toolbar\"},{\"attributes\":{},\"id\":\"1172\",\"type\":\"AllLabels\"},{\"attributes\":{\"coordinates\":null,\"data_source\":{\"id\":\"1155\"},\"glyph\":{\"id\":\"1158\"},\"group\":null,\"hover_glyph\":null,\"muted_glyph\":{\"id\":\"1160\"},\"nonselection_glyph\":{\"id\":\"1159\"},\"selection_glyph\":{\"id\":\"1163\"},\"view\":{\"id\":\"1162\"}},\"id\":\"1161\",\"type\":\"GlyphRenderer\"},{\"attributes\":{\"bottom_units\":\"screen\",\"coordinates\":null,\"fill_alpha\":0.5,\"fill_color\":\"lightgrey\",\"group\":null,\"left_units\":\"screen\",\"level\":\"overlay\",\"line_alpha\":1.0,\"line_color\":\"black\",\"line_dash\":[4,4],\"line_width\":2,\"right_units\":\"screen\",\"syncable\":false,\"top_units\":\"screen\"},\"id\":\"1147\",\"type\":\"BoxAnnotation\"},{\"attributes\":{\"end\":3996.1674172553685,\"reset_end\":3996.1674172553685,\"reset_start\":-267.2063609200876,\"start\":-267.2063609200876,\"tags\":[[[\"inertia\",\"inertia\",null]]]},\"id\":\"1123\",\"type\":\"Range1d\"},{\"attributes\":{},\"id\":\"1142\",\"type\":\"SaveTool\"},{\"attributes\":{\"callback\":null,\"renderers\":[{\"id\":\"1161\"}],\"tags\":[\"hv_created\"],\"tooltips\":[[\"k\",\"@{k}\"],[\"inertia\",\"@{inertia}\"]]},\"id\":\"1124\",\"type\":\"HoverTool\"},{\"attributes\":{},\"id\":\"1143\",\"type\":\"PanTool\"},{\"attributes\":{\"source\":{\"id\":\"1155\"}},\"id\":\"1162\",\"type\":\"CDSView\"},{\"attributes\":{},\"id\":\"1146\",\"type\":\"ResetTool\"},{\"attributes\":{\"line_alpha\":0.1,\"line_color\":\"#30a2da\",\"line_width\":2,\"x\":{\"field\":\"k\"},\"y\":{\"field\":\"inertia\"}},\"id\":\"1159\",\"type\":\"Line\"},{\"attributes\":{},\"id\":\"1144\",\"type\":\"WheelZoomTool\"},{\"attributes\":{\"overlay\":{\"id\":\"1147\"}},\"id\":\"1145\",\"type\":\"BoxZoomTool\"},{\"attributes\":{\"coordinates\":null,\"group\":null,\"text\":\"Elbow Curve\",\"text_color\":\"black\",\"text_font_size\":\"12pt\"},\"id\":\"1126\",\"type\":\"Title\"},{\"attributes\":{},\"id\":\"1130\",\"type\":\"LinearScale\"},{\"attributes\":{},\"id\":\"1139\",\"type\":\"BasicTicker\"},{\"attributes\":{\"axis\":{\"id\":\"1134\"},\"coordinates\":null,\"grid_line_color\":null,\"group\":null,\"ticker\":null},\"id\":\"1137\",\"type\":\"Grid\"},{\"attributes\":{},\"id\":\"1171\",\"type\":\"BasicTickFormatter\"},{\"attributes\":{},\"id\":\"1132\",\"type\":\"LinearScale\"},{\"attributes\":{\"ticks\":[1,2,3,4,5,6,7,8,9,10]},\"id\":\"1164\",\"type\":\"FixedTicker\"},{\"attributes\":{\"axis_label\":\"inertia\",\"coordinates\":null,\"formatter\":{\"id\":\"1171\"},\"group\":null,\"major_label_policy\":{\"id\":\"1172\"},\"ticker\":{\"id\":\"1139\"}},\"id\":\"1138\",\"type\":\"LinearAxis\"},{\"attributes\":{\"axis_label\":\"k\",\"coordinates\":null,\"formatter\":{\"id\":\"1166\"},\"group\":null,\"major_label_policy\":{\"id\":\"1167\"},\"ticker\":{\"id\":\"1164\"}},\"id\":\"1134\",\"type\":\"LinearAxis\"},{\"attributes\":{},\"id\":\"1166\",\"type\":\"BasicTickFormatter\"},{\"attributes\":{},\"id\":\"1156\",\"type\":\"Selection\"},{\"attributes\":{\"margin\":[5,5,5,5],\"name\":\"HSpacer01810\",\"sizing_mode\":\"stretch_width\"},\"id\":\"1191\",\"type\":\"Spacer\"},{\"attributes\":{\"below\":[{\"id\":\"1134\"}],\"center\":[{\"id\":\"1137\"},{\"id\":\"1141\"}],\"height\":300,\"left\":[{\"id\":\"1138\"}],\"margin\":[5,5,5,5],\"min_border_bottom\":10,\"min_border_left\":10,\"min_border_right\":10,\"min_border_top\":10,\"renderers\":[{\"id\":\"1161\"}],\"sizing_mode\":\"fixed\",\"title\":{\"id\":\"1126\"},\"toolbar\":{\"id\":\"1148\"},\"width\":700,\"x_range\":{\"id\":\"1122\"},\"x_scale\":{\"id\":\"1130\"},\"y_range\":{\"id\":\"1123\"},\"y_scale\":{\"id\":\"1132\"}},\"id\":\"1125\",\"subtype\":\"Figure\",\"type\":\"Plot\"},{\"attributes\":{\"line_color\":\"#30a2da\",\"line_width\":2,\"x\":{\"field\":\"k\"},\"y\":{\"field\":\"inertia\"}},\"id\":\"1158\",\"type\":\"Line\"},{\"attributes\":{\"axis\":{\"id\":\"1138\"},\"coordinates\":null,\"dimension\":1,\"grid_line_color\":null,\"group\":null,\"ticker\":null},\"id\":\"1141\",\"type\":\"Grid\"},{\"attributes\":{\"margin\":[5,5,5,5],\"name\":\"HSpacer01809\",\"sizing_mode\":\"stretch_width\"},\"id\":\"1121\",\"type\":\"Spacer\"},{\"attributes\":{\"children\":[{\"id\":\"1121\"},{\"id\":\"1125\"},{\"id\":\"1191\"}],\"margin\":[0,0,0,0],\"name\":\"Row01805\",\"tags\":[\"embedded\"]},\"id\":\"1120\",\"type\":\"Row\"},{\"attributes\":{\"end\":10.0,\"reset_end\":10.0,\"reset_start\":1.0,\"start\":1.0,\"tags\":[[[\"k\",\"k\",null]]]},\"id\":\"1122\",\"type\":\"Range1d\"},{\"attributes\":{\"line_alpha\":0.2,\"line_color\":\"#30a2da\",\"line_width\":2,\"x\":{\"field\":\"k\"},\"y\":{\"field\":\"inertia\"}},\"id\":\"1160\",\"type\":\"Line\"}],\"root_ids\":[\"1120\"]},\"title\":\"Bokeh Application\",\"version\":\"2.4.2\"}};\n",
       "    var render_items = [{\"docid\":\"9a1482b9-f2a3-4258-9358-4b775c56e995\",\"root_ids\":[\"1120\"],\"roots\":{\"1120\":\"d6726f10-c852-4186-a416-751e1f24008b\"}}];\n",
       "    root.Bokeh.embed.embed_items_notebook(docs_json, render_items);\n",
       "  }\n",
       "  if (root.Bokeh !== undefined && root.Bokeh.Panel !== undefined) {\n",
       "    embed_document(root);\n",
       "  } else {\n",
       "    var attempts = 0;\n",
       "    var timer = setInterval(function(root) {\n",
       "      if (root.Bokeh !== undefined && root.Bokeh.Panel !== undefined) {\n",
       "        clearInterval(timer);\n",
       "        embed_document(root);\n",
       "      } else if (document.readyState == \"complete\") {\n",
       "        attempts++;\n",
       "        if (attempts > 200) {\n",
       "          clearInterval(timer);\n",
       "          console.log(\"Bokeh: ERROR: Unable to run BokehJS code because BokehJS library is missing\");\n",
       "        }\n",
       "      }\n",
       "    }, 25, root)\n",
       "  }\n",
       "})(window);</script>"
      ],
      "text/plain": [
       ":Curve   [k]   (inertia)"
      ]
     },
     "execution_count": 41,
     "metadata": {
      "application/vnd.holoviews_exec.v0+json": {
       "id": "1120"
      }
     },
     "output_type": "execute_result"
    }
   ],
   "source": [
    "# Create an elbow curve to find the best value for K.\n",
    "# YOUR CODE HERE\n",
    "inertia = []\n",
    "k = list(range(1, 11))\n",
    "# Calculate the inertia for the range of K values\n",
    "for i in k:\n",
    "   km = KMeans(n_clusters=i, random_state=0)\n",
    "   km.fit(pcs_df)\n",
    "   inertia.append(km.inertia_)\n",
    "\n",
    "elbow_data = {\"k\":k,\"inertia\":inertia}\n",
    "df_elbow = pd.DataFrame(elbow_data)\n",
    "df_elbow.hvplot.line(x=\"k\",y=\"inertia\",xticks=k,title=\"Elbow Curve\")"
   ]
  },
  {
   "cell_type": "markdown",
   "metadata": {},
   "source": [
    "Running K-Means with `k=4`"
   ]
  },
  {
   "cell_type": "code",
   "execution_count": 42,
   "metadata": {},
   "outputs": [],
   "source": [
    "# Initialize the K-Means model.\n",
    "# YOUR CODE HERE\n",
    "model = KMeans(n_clusters=4, random_state=0)\n",
    "\n",
    "# Fit the model\n",
    "# YOUR CODE HERE\n",
    "model.fit(pcs_df)\n",
    "\n",
    "# Predict clusters\n",
    "# YOUR CODE HERE\n",
    "predictions = model.fit_predict(pcs_df)"
   ]
  },
  {
   "cell_type": "code",
   "execution_count": 55,
   "metadata": {},
   "outputs": [
    {
     "name": "stdout",
     "output_type": "stream",
     "text": [
      "(532, 9)\n"
     ]
    },
    {
     "data": {
      "text/html": [
       "<div>\n",
       "<style scoped>\n",
       "    .dataframe tbody tr th:only-of-type {\n",
       "        vertical-align: middle;\n",
       "    }\n",
       "\n",
       "    .dataframe tbody tr th {\n",
       "        vertical-align: top;\n",
       "    }\n",
       "\n",
       "    .dataframe thead th {\n",
       "        text-align: right;\n",
       "    }\n",
       "</style>\n",
       "<table border=\"1\" class=\"dataframe\">\n",
       "  <thead>\n",
       "    <tr style=\"text-align: right;\">\n",
       "      <th></th>\n",
       "      <th>Algorithm</th>\n",
       "      <th>ProofType</th>\n",
       "      <th>TotalCoinsMined</th>\n",
       "      <th>TotalCoinSupply</th>\n",
       "      <th>PC1</th>\n",
       "      <th>PC2</th>\n",
       "      <th>PC3</th>\n",
       "      <th>CoinName</th>\n",
       "      <th>Class</th>\n",
       "    </tr>\n",
       "  </thead>\n",
       "  <tbody>\n",
       "    <tr>\n",
       "      <th>42</th>\n",
       "      <td>Scrypt</td>\n",
       "      <td>PoW/PoS</td>\n",
       "      <td>4.199995e+01</td>\n",
       "      <td>42</td>\n",
       "      <td>-0.336009</td>\n",
       "      <td>1.017551</td>\n",
       "      <td>-0.552529</td>\n",
       "      <td>42 Coin</td>\n",
       "      <td>0</td>\n",
       "    </tr>\n",
       "    <tr>\n",
       "      <th>404</th>\n",
       "      <td>Scrypt</td>\n",
       "      <td>PoW/PoS</td>\n",
       "      <td>1.055185e+09</td>\n",
       "      <td>532000000</td>\n",
       "      <td>-0.319344</td>\n",
       "      <td>1.017857</td>\n",
       "      <td>-0.552719</td>\n",
       "      <td>404Coin</td>\n",
       "      <td>0</td>\n",
       "    </tr>\n",
       "    <tr>\n",
       "      <th>1337</th>\n",
       "      <td>X13</td>\n",
       "      <td>PoW/PoS</td>\n",
       "      <td>2.927942e+10</td>\n",
       "      <td>314159265359</td>\n",
       "      <td>2.293279</td>\n",
       "      <td>1.736133</td>\n",
       "      <td>-0.636878</td>\n",
       "      <td>EliteCoin</td>\n",
       "      <td>0</td>\n",
       "    </tr>\n",
       "    <tr>\n",
       "      <th>BTC</th>\n",
       "      <td>SHA-256</td>\n",
       "      <td>PoW</td>\n",
       "      <td>1.792718e+07</td>\n",
       "      <td>21000000</td>\n",
       "      <td>-0.139994</td>\n",
       "      <td>-1.340185</td>\n",
       "      <td>0.177835</td>\n",
       "      <td>Bitcoin</td>\n",
       "      <td>3</td>\n",
       "    </tr>\n",
       "    <tr>\n",
       "      <th>ETH</th>\n",
       "      <td>Ethash</td>\n",
       "      <td>PoW</td>\n",
       "      <td>1.076842e+08</td>\n",
       "      <td>0</td>\n",
       "      <td>-0.144831</td>\n",
       "      <td>-2.046274</td>\n",
       "      <td>0.379615</td>\n",
       "      <td>Ethereum</td>\n",
       "      <td>3</td>\n",
       "    </tr>\n",
       "    <tr>\n",
       "      <th>LTC</th>\n",
       "      <td>Scrypt</td>\n",
       "      <td>PoW</td>\n",
       "      <td>6.303924e+07</td>\n",
       "      <td>84000000</td>\n",
       "      <td>-0.163655</td>\n",
       "      <td>-1.149095</td>\n",
       "      <td>-0.013060</td>\n",
       "      <td>Litecoin</td>\n",
       "      <td>3</td>\n",
       "    </tr>\n",
       "    <tr>\n",
       "      <th>DASH</th>\n",
       "      <td>X11</td>\n",
       "      <td>PoW/PoS</td>\n",
       "      <td>9.031294e+06</td>\n",
       "      <td>22000000</td>\n",
       "      <td>-0.401747</td>\n",
       "      <td>1.306570</td>\n",
       "      <td>-0.496752</td>\n",
       "      <td>Dash</td>\n",
       "      <td>0</td>\n",
       "    </tr>\n",
       "    <tr>\n",
       "      <th>XMR</th>\n",
       "      <td>CryptoNight-V7</td>\n",
       "      <td>PoW</td>\n",
       "      <td>1.720114e+07</td>\n",
       "      <td>0</td>\n",
       "      <td>-0.139758</td>\n",
       "      <td>-2.254926</td>\n",
       "      <td>0.442767</td>\n",
       "      <td>Monero</td>\n",
       "      <td>3</td>\n",
       "    </tr>\n",
       "    <tr>\n",
       "      <th>ETC</th>\n",
       "      <td>Ethash</td>\n",
       "      <td>PoW</td>\n",
       "      <td>1.133597e+08</td>\n",
       "      <td>210000000</td>\n",
       "      <td>-0.143273</td>\n",
       "      <td>-2.046362</td>\n",
       "      <td>0.379606</td>\n",
       "      <td>Ethereum Classic</td>\n",
       "      <td>3</td>\n",
       "    </tr>\n",
       "    <tr>\n",
       "      <th>ZEC</th>\n",
       "      <td>Equihash</td>\n",
       "      <td>PoW</td>\n",
       "      <td>7.383056e+06</td>\n",
       "      <td>21000000</td>\n",
       "      <td>-0.163079</td>\n",
       "      <td>-2.033114</td>\n",
       "      <td>0.363563</td>\n",
       "      <td>ZCash</td>\n",
       "      <td>3</td>\n",
       "    </tr>\n",
       "  </tbody>\n",
       "</table>\n",
       "</div>"
      ],
      "text/plain": [
       "           Algorithm ProofType  TotalCoinsMined TotalCoinSupply       PC1  \\\n",
       "42            Scrypt   PoW/PoS     4.199995e+01              42 -0.336009   \n",
       "404           Scrypt   PoW/PoS     1.055185e+09       532000000 -0.319344   \n",
       "1337             X13   PoW/PoS     2.927942e+10    314159265359  2.293279   \n",
       "BTC          SHA-256       PoW     1.792718e+07        21000000 -0.139994   \n",
       "ETH           Ethash       PoW     1.076842e+08               0 -0.144831   \n",
       "LTC           Scrypt       PoW     6.303924e+07        84000000 -0.163655   \n",
       "DASH             X11   PoW/PoS     9.031294e+06        22000000 -0.401747   \n",
       "XMR   CryptoNight-V7       PoW     1.720114e+07               0 -0.139758   \n",
       "ETC           Ethash       PoW     1.133597e+08       210000000 -0.143273   \n",
       "ZEC         Equihash       PoW     7.383056e+06        21000000 -0.163079   \n",
       "\n",
       "           PC2       PC3          CoinName  Class  \n",
       "42    1.017551 -0.552529           42 Coin      0  \n",
       "404   1.017857 -0.552719           404Coin      0  \n",
       "1337  1.736133 -0.636878         EliteCoin      0  \n",
       "BTC  -1.340185  0.177835           Bitcoin      3  \n",
       "ETH  -2.046274  0.379615          Ethereum      3  \n",
       "LTC  -1.149095 -0.013060          Litecoin      3  \n",
       "DASH  1.306570 -0.496752              Dash      0  \n",
       "XMR  -2.254926  0.442767            Monero      3  \n",
       "ETC  -2.046362  0.379606  Ethereum Classic      3  \n",
       "ZEC  -2.033114  0.363563             ZCash      3  "
      ]
     },
     "execution_count": 55,
     "metadata": {},
     "output_type": "execute_result"
    }
   ],
   "source": [
    "# Create a new DataFrame including predicted clusters and cryptocurrencies features.\n",
    "# Concatentate the crypto_df and pcs_df DataFrames on the same columns.\n",
    "#  Add a new column, \"CoinName\" to the clustered_df DataFrame that holds the names of the cryptocurrencies.\n",
    "# YOUR CODE HERE\n",
    "\n",
    "clustered_df = pd.concat([crypto_df,pcs_df,coin_name_df],axis = 1)\n",
    "\n",
    "#  Add a new column, \"Class\" to the clustered_df DataFrame that holds the predictions.\n",
    "# YOUR CODE HERE\n",
    "\n",
    "clustered_df[\"Class\"]= model.labels_\n",
    "\n",
    "# Print the shape of the clustered_df\n",
    "print(clustered_df.shape)\n",
    "clustered_df.head(10)"
   ]
  },
  {
   "cell_type": "markdown",
   "metadata": {},
   "source": [
    "### Deliverable 4: Visualizing Cryptocurrencies Results\n",
    "\n",
    "#### 3D-Scatter with Clusters"
   ]
  },
  {
   "cell_type": "code",
   "execution_count": 56,
   "metadata": {},
   "outputs": [
    {
     "data": {
      "application/vnd.plotly.v1+json": {
       "config": {
        "plotlyServerURL": "https://plot.ly"
       },
       "data": [
        {
         "customdata": [
          [
           "Scrypt"
          ],
          [
           "Scrypt"
          ],
          [
           "X13"
          ],
          [
           "X11"
          ],
          [
           "SHA-512"
          ],
          [
           "SHA-256"
          ],
          [
           "SHA-256"
          ],
          [
           "X15"
          ],
          [
           "Scrypt"
          ],
          [
           "Scrypt"
          ],
          [
           "Scrypt"
          ],
          [
           "Scrypt"
          ],
          [
           "Scrypt"
          ],
          [
           "Scrypt"
          ],
          [
           "Groestl"
          ],
          [
           "PoS"
          ],
          [
           "Scrypt"
          ],
          [
           "Scrypt"
          ],
          [
           "X11"
          ],
          [
           "X11"
          ],
          [
           "SHA3"
          ],
          [
           "Scrypt"
          ],
          [
           "SHA-256"
          ],
          [
           "Scrypt"
          ],
          [
           "X13"
          ],
          [
           "X13"
          ],
          [
           "NeoScrypt"
          ],
          [
           "Scrypt"
          ],
          [
           "Scrypt"
          ],
          [
           "Scrypt"
          ],
          [
           "X11"
          ],
          [
           "X11"
          ],
          [
           "Multiple"
          ],
          [
           "PHI1612"
          ],
          [
           "X11"
          ],
          [
           "Scrypt"
          ],
          [
           "Scrypt"
          ],
          [
           "Scrypt"
          ],
          [
           "X11"
          ],
          [
           "Multiple"
          ],
          [
           "X13"
          ],
          [
           "Scrypt"
          ],
          [
           "Shabal256"
          ],
          [
           "Counterparty"
          ],
          [
           "SHA-256"
          ],
          [
           "Groestl"
          ],
          [
           "Scrypt"
          ],
          [
           "X13"
          ],
          [
           "Scrypt"
          ],
          [
           "Scrypt"
          ],
          [
           "X13"
          ],
          [
           "X11"
          ],
          [
           "Scrypt"
          ],
          [
           "X11"
          ],
          [
           "SHA3"
          ],
          [
           "QUAIT"
          ],
          [
           "X11"
          ],
          [
           "Scrypt"
          ],
          [
           "X13"
          ],
          [
           "SHA-256"
          ],
          [
           "X15"
          ],
          [
           "BLAKE256"
          ],
          [
           "SHA-256"
          ],
          [
           "X11"
          ],
          [
           "SHA-256"
          ],
          [
           "NIST5"
          ],
          [
           "Scrypt"
          ],
          [
           "Scrypt"
          ],
          [
           "X11"
          ],
          [
           "Scrypt"
          ],
          [
           "SHA-256"
          ],
          [
           "Scrypt"
          ],
          [
           "PoS"
          ],
          [
           "X11"
          ],
          [
           "SHA-256"
          ],
          [
           "SHA-256"
          ],
          [
           "NIST5"
          ],
          [
           "X11"
          ],
          [
           "POS 3.0"
          ],
          [
           "Scrypt"
          ],
          [
           "Scrypt"
          ],
          [
           "Scrypt"
          ],
          [
           "X13"
          ],
          [
           "X11"
          ],
          [
           "X11"
          ],
          [
           "Scrypt"
          ],
          [
           "SHA-256"
          ],
          [
           "X11"
          ],
          [
           "Scrypt"
          ],
          [
           "Scrypt"
          ],
          [
           "Scrypt"
          ],
          [
           "Scrypt"
          ],
          [
           "SHA-256D"
          ],
          [
           "PoS"
          ],
          [
           "Scrypt"
          ],
          [
           "X11"
          ],
          [
           "PoS"
          ],
          [
           "X13"
          ],
          [
           "X14"
          ],
          [
           "PoS"
          ],
          [
           "SHA-256D"
          ],
          [
           "DPoS"
          ],
          [
           "X11"
          ],
          [
           "X13"
          ],
          [
           "X11"
          ],
          [
           "PoS"
          ],
          [
           "Scrypt"
          ],
          [
           "Scrypt"
          ],
          [
           "PoS"
          ],
          [
           "X11"
          ],
          [
           "SHA-256"
          ],
          [
           "Scrypt"
          ],
          [
           "X11"
          ],
          [
           "Scrypt"
          ],
          [
           "Scrypt"
          ],
          [
           "X11"
          ],
          [
           "Scrypt"
          ],
          [
           "Scrypt"
          ],
          [
           "Scrypt"
          ],
          [
           "Scrypt"
          ],
          [
           "Quark"
          ],
          [
           "QuBit"
          ],
          [
           "Scrypt"
          ],
          [
           "SHA-256"
          ],
          [
           "X11"
          ],
          [
           "Scrypt"
          ],
          [
           "Scrypt"
          ],
          [
           "Scrypt"
          ],
          [
           "Scrypt"
          ],
          [
           "X13"
          ],
          [
           "Scrypt"
          ],
          [
           "Scrypt"
          ],
          [
           "X11"
          ],
          [
           "Blake2S"
          ],
          [
           "X11"
          ],
          [
           "PoS"
          ],
          [
           "X11"
          ],
          [
           "PoS"
          ],
          [
           "X11"
          ],
          [
           "Scrypt"
          ],
          [
           "Scrypt"
          ],
          [
           "Scrypt"
          ],
          [
           "SHA-256"
          ],
          [
           "X11"
          ],
          [
           "Scrypt"
          ],
          [
           "PoS"
          ],
          [
           "Scrypt"
          ],
          [
           "X15"
          ],
          [
           "SHA-256"
          ],
          [
           "POS 3.0"
          ],
          [
           "536"
          ],
          [
           "NIST5"
          ],
          [
           "NIST5"
          ],
          [
           "Skein"
          ],
          [
           "X13"
          ],
          [
           "Scrypt"
          ],
          [
           "X13"
          ],
          [
           "SkunkHash v2 Raptor"
          ],
          [
           "Skein"
          ],
          [
           "X11"
          ],
          [
           "Scrypt"
          ],
          [
           "VeChainThor Authority"
          ],
          [
           "PoS"
          ],
          [
           "Scrypt"
          ],
          [
           "Scrypt"
          ],
          [
           "SHA-512"
          ],
          [
           "Ouroboros"
          ],
          [
           "X11"
          ],
          [
           "NeoScrypt"
          ],
          [
           "Scrypt"
          ],
          [
           "Lyra2REv2"
          ],
          [
           "Scrypt"
          ],
          [
           "SHA-256"
          ],
          [
           "NIST5"
          ],
          [
           "PHI1612"
          ],
          [
           "Scrypt"
          ],
          [
           "Quark"
          ],
          [
           "POS 2.0"
          ],
          [
           "Scrypt"
          ],
          [
           "SHA-256"
          ],
          [
           "X11"
          ],
          [
           "DPoS"
          ],
          [
           "NIST5"
          ],
          [
           "X13"
          ],
          [
           "Scrypt"
          ],
          [
           "NIST5"
          ],
          [
           "Quark"
          ],
          [
           "Scrypt"
          ],
          [
           "Scrypt"
          ],
          [
           "X11"
          ],
          [
           "Quark"
          ],
          [
           "Scrypt"
          ],
          [
           "Scrypt"
          ],
          [
           "X11"
          ],
          [
           "POS 3.0"
          ],
          [
           "Ethash"
          ],
          [
           "Scrypt"
          ],
          [
           "Scrypt"
          ],
          [
           "X13"
          ],
          [
           "C11"
          ],
          [
           "X11"
          ],
          [
           "XEVAN"
          ],
          [
           "Scrypt"
          ],
          [
           "VBFT"
          ],
          [
           "NIST5"
          ],
          [
           "Scrypt"
          ],
          [
           "Scrypt"
          ],
          [
           "Scrypt"
          ],
          [
           "Green Protocol"
          ],
          [
           "PoS"
          ],
          [
           "Scrypt"
          ],
          [
           "Semux BFT consensus"
          ],
          [
           "Quark"
          ],
          [
           "PoS"
          ],
          [
           "X16R"
          ],
          [
           "Scrypt"
          ],
          [
           "XEVAN"
          ],
          [
           "Scrypt"
          ],
          [
           "Scrypt"
          ],
          [
           "Scrypt"
          ],
          [
           "SHA-256D"
          ],
          [
           "Scrypt"
          ],
          [
           "X15"
          ],
          [
           "Scrypt"
          ],
          [
           "Quark"
          ],
          [
           "SHA-256"
          ],
          [
           "DPoS"
          ],
          [
           "X16R"
          ],
          [
           "Quark"
          ],
          [
           "Quark"
          ],
          [
           "Scrypt"
          ],
          [
           "Lyra2REv2"
          ],
          [
           "Quark"
          ],
          [
           "Scrypt"
          ],
          [
           "X11"
          ],
          [
           "X11"
          ],
          [
           "Scrypt"
          ],
          [
           "PoS"
          ],
          [
           "Keccak"
          ],
          [
           "X11"
          ],
          [
           "Scrypt"
          ],
          [
           "SHA-512"
          ],
          [
           "XEVAN"
          ],
          [
           "XEVAN"
          ],
          [
           "X11"
          ],
          [
           "Quark"
          ],
          [
           "Equihash"
          ],
          [
           "Scrypt"
          ],
          [
           "Quark"
          ],
          [
           "Quark"
          ],
          [
           "Scrypt"
          ],
          [
           "X11"
          ],
          [
           "Scrypt"
          ],
          [
           "XEVAN"
          ],
          [
           "SHA-256D"
          ],
          [
           "X11"
          ],
          [
           "X11"
          ],
          [
           "DPoS"
          ],
          [
           "Scrypt"
          ],
          [
           "X11"
          ],
          [
           "Scrypt"
          ],
          [
           "Scrypt"
          ],
          [
           "SHA-256"
          ],
          [
           "Scrypt"
          ],
          [
           "X11"
          ],
          [
           "Scrypt"
          ],
          [
           "SHA-256"
          ],
          [
           "X11"
          ],
          [
           "Scrypt"
          ],
          [
           "Scrypt"
          ],
          [
           "X11"
          ],
          [
           "Scrypt"
          ],
          [
           "PoS"
          ],
          [
           "X11"
          ],
          [
           "SHA-256"
          ],
          [
           "DPoS"
          ],
          [
           "Scrypt"
          ],
          [
           "Scrypt"
          ],
          [
           "NeoScrypt"
          ],
          [
           "X13"
          ],
          [
           "DPoS"
          ],
          [
           "DPoS"
          ],
          [
           "SHA-256"
          ],
          [
           "PoS"
          ],
          [
           "PoS"
          ],
          [
           "SHA-256"
          ],
          [
           "Scrypt"
          ],
          [
           "Scrypt"
          ]
         ],
         "hovertemplate": "<b>%{hovertext}</b><br><br>Class=%{marker.color}<br>PC1=%{x}<br>PC2=%{y}<br>PC3=%{z}<br>Algorithm=%{customdata[0]}<extra></extra>",
         "hovertext": [
          "42 Coin",
          "404Coin",
          "EliteCoin",
          "Dash",
          "Bitshares",
          "BitcoinDark",
          "PayCoin",
          "KoboCoin",
          "Aurora Coin",
          "BlueCoin",
          "EnergyCoin",
          "BitBar",
          "CryptoBullion",
          "CasinoCoin",
          "Diamond",
          "Exclusive Coin",
          "FlutterCoin",
          "HoboNickels",
          "HyperStake",
          "IOCoin",
          "MaxCoin",
          "MintCoin",
          "MazaCoin",
          "Nautilus Coin",
          "NavCoin",
          "OpalCoin",
          "Orbitcoin",
          "PotCoin",
          "PhoenixCoin",
          "Reddcoin",
          "SuperCoin",
          "SyncCoin",
          "TeslaCoin",
          "TittieCoin",
          "TorCoin",
          "UnitaryStatus Dollar",
          "UltraCoin",
          "VeriCoin",
          "X11 Coin",
          "Crypti",
          "StealthCoin",
          "ZCC Coin",
          "BurstCoin",
          "StorjCoin",
          "Neutron",
          "FairCoin",
          "RubyCoin",
          "Kore",
          "Dnotes",
          "8BIT Coin",
          "Sativa Coin",
          "Ucoin",
          "Vtorrent",
          "IslaCoin",
          "Nexus",
          "Droidz",
          "Squall Coin",
          "Diggits",
          "Paycon",
          "Emercoin",
          "EverGreenCoin",
          "Decred",
          "EDRCoin",
          "Hitcoin",
          "DubaiCoin",
          "PWR Coin",
          "BillaryCoin",
          "GPU Coin",
          "EuropeCoin",
          "ZeitCoin",
          "SwingCoin",
          "SafeExchangeCoin",
          "Nebuchadnezzar",
          "Ratecoin",
          "Revenu",
          "Clockcoin",
          "VIP Tokens",
          "BitSend",
          "Let it Ride",
          "PutinCoin",
          "iBankCoin",
          "Frankywillcoin",
          "MudraCoin",
          "Lutetium Coin",
          "GoldBlocks",
          "CarterCoin",
          "BitTokens",
          "MustangCoin",
          "ZoneCoin",
          "RootCoin",
          "BitCurrency",
          "Swiscoin",
          "BuzzCoin",
          "Opair",
          "PesoBit",
          "Halloween Coin",
          "CoffeeCoin",
          "RoyalCoin",
          "GanjaCoin V2",
          "TeamUP",
          "LanaCoin",
          "ARK",
          "InsaneCoin",
          "EmberCoin",
          "XenixCoin",
          "FreeCoin",
          "PLNCoin",
          "AquariusCoin",
          "Creatio",
          "Eternity",
          "Eurocoin",
          "BitcoinFast",
          "Stakenet",
          "BitConnect Coin",
          "MoneyCoin",
          "Enigma",
          "Russiacoin",
          "PandaCoin",
          "GameUnits",
          "GAKHcoin",
          "Allsafe",
          "LiteCreed",
          "Klingon Empire Darsek",
          "Internet of People",
          "KushCoin",
          "Printerium",
          "Impeach",
          "Zilbercoin",
          "FirstCoin",
          "FindCoin",
          "OpenChat",
          "RenosCoin",
          "VirtacoinPlus",
          "TajCoin",
          "Impact",
          "Atmos",
          "HappyCoin",
          "MacronCoin",
          "Condensate",
          "Independent Money System",
          "ArgusCoin",
          "LomoCoin",
          "ProCurrency",
          "GoldReserve",
          "GrowthCoin",
          "Phreak",
          "Degas Coin",
          "HTML5 Coin",
          "Ultimate Secure Cash",
          "QTUM",
          "Espers",
          "Denarius",
          "Virta Unique Coin",
          "Bitcoin Planet",
          "BritCoin",
          "Linda",
          "DeepOnion",
          "Signatum",
          "Cream",
          "Monoeci",
          "Draftcoin",
          "Vechain",
          "Stakecoin",
          "CoinonatX",
          "Ethereum Dark",
          "Obsidian",
          "Cardano",
          "Regalcoin",
          "TrezarCoin",
          "TerraNovaCoin",
          "Rupee",
          "WomenCoin",
          "Theresa May Coin",
          "NamoCoin",
          "LUXCoin",
          "Xios",
          "Bitcloud 2.0",
          "KekCoin",
          "BlackholeCoin",
          "Infinity Economics",
          "Magnet",
          "Lamden Tau",
          "Electra",
          "Bitcoin Diamond",
          "Cash & Back Coin",
          "Bulwark",
          "Kalkulus",
          "GermanCoin",
          "LiteCoin Ultra",
          "PhantomX",
          "Digiwage",
          "Trollcoin",
          "Litecoin Plus",
          "Monkey Project",
          "TokenPay",
          "1717 Masonic Commemorative Token",
          "My Big Coin",
          "Unified Society USDEX",
          "Tokyo Coin",
          "Stipend",
          "Pushi",
          "Ellerium",
          "Velox",
          "Ontology",
          "Bitspace",
          "Briacoin",
          "Ignition",
          "MedicCoin",
          "Bitcoin Green",
          "Deviant Coin",
          "Abjcoin",
          "Semux",
          "Carebit",
          "Zealium",
          "Proton",
          "iDealCash",
          "Bitcoin Incognito",
          "HollyWoodCoin",
          "Swisscoin",
          "Xt3ch",
          "TheVig",
          "EmaratCoin",
          "Dekado",
          "Lynx",
          "Poseidon Quark",
          "BitcoinWSpectrum",
          "Muse",
          "Trivechain",
          "Dystem",
          "Giant",
          "Peony Coin",
          "Absolute Coin",
          "Vitae",
          "TPCash",
          "ARENON",
          "EUNO",
          "MMOCoin",
          "Ketan",
          "XDNA",
          "PAXEX",
          "ThunderStake",
          "Kcash",
          "Bettex coin",
          "BitMoney",
          "Junson Ming Chan Coin",
          "HerbCoin",
          "PirateCash",
          "Oduwa",
          "Galilel",
          "Crypto Sports",
          "Credit",
          "Dash Platinum",
          "Nasdacoin",
          "Beetle Coin",
          "Titan Coin",
          "Award",
          "Insane Coin",
          "ALAX",
          "LiteDoge",
          "TruckCoin",
          "OrangeCoin",
          "BitstarCoin",
          "NeosCoin",
          "HyperCoin",
          "PinkCoin",
          "AudioCoin",
          "IncaKoin",
          "Piggy Coin",
          "Genstake",
          "XiaoMiCoin",
          "CapriCoin",
          " ClubCoin",
          "Radium",
          "Creditbit ",
          "OKCash",
          "Lisk",
          "HiCoin",
          "WhiteCoin",
          "FriendshipCoin",
          "Triangles Coin",
          "EOS",
          "Oxycoin",
          "TigerCash",
          "Particl",
          "Nxt",
          "ZEPHYR",
          "Gapcoin",
          "BitcoinPlus"
         ],
         "legendgroup": "0",
         "marker": {
          "color": [
           0,
           0,
           0,
           0,
           0,
           0,
           0,
           0,
           0,
           0,
           0,
           0,
           0,
           0,
           0,
           0,
           0,
           0,
           0,
           0,
           0,
           0,
           0,
           0,
           0,
           0,
           0,
           0,
           0,
           0,
           0,
           0,
           0,
           0,
           0,
           0,
           0,
           0,
           0,
           0,
           0,
           0,
           0,
           0,
           0,
           0,
           0,
           0,
           0,
           0,
           0,
           0,
           0,
           0,
           0,
           0,
           0,
           0,
           0,
           0,
           0,
           0,
           0,
           0,
           0,
           0,
           0,
           0,
           0,
           0,
           0,
           0,
           0,
           0,
           0,
           0,
           0,
           0,
           0,
           0,
           0,
           0,
           0,
           0,
           0,
           0,
           0,
           0,
           0,
           0,
           0,
           0,
           0,
           0,
           0,
           0,
           0,
           0,
           0,
           0,
           0,
           0,
           0,
           0,
           0,
           0,
           0,
           0,
           0,
           0,
           0,
           0,
           0,
           0,
           0,
           0,
           0,
           0,
           0,
           0,
           0,
           0,
           0,
           0,
           0,
           0,
           0,
           0,
           0,
           0,
           0,
           0,
           0,
           0,
           0,
           0,
           0,
           0,
           0,
           0,
           0,
           0,
           0,
           0,
           0,
           0,
           0,
           0,
           0,
           0,
           0,
           0,
           0,
           0,
           0,
           0,
           0,
           0,
           0,
           0,
           0,
           0,
           0,
           0,
           0,
           0,
           0,
           0,
           0,
           0,
           0,
           0,
           0,
           0,
           0,
           0,
           0,
           0,
           0,
           0,
           0,
           0,
           0,
           0,
           0,
           0,
           0,
           0,
           0,
           0,
           0,
           0,
           0,
           0,
           0,
           0,
           0,
           0,
           0,
           0,
           0,
           0,
           0,
           0,
           0,
           0,
           0,
           0,
           0,
           0,
           0,
           0,
           0,
           0,
           0,
           0,
           0,
           0,
           0,
           0,
           0,
           0,
           0,
           0,
           0,
           0,
           0,
           0,
           0,
           0,
           0,
           0,
           0,
           0,
           0,
           0,
           0,
           0,
           0,
           0,
           0,
           0,
           0,
           0,
           0,
           0,
           0,
           0,
           0,
           0,
           0,
           0,
           0,
           0,
           0,
           0,
           0,
           0,
           0,
           0,
           0,
           0,
           0,
           0,
           0,
           0,
           0,
           0,
           0,
           0,
           0,
           0,
           0,
           0,
           0,
           0,
           0,
           0,
           0,
           0,
           0,
           0,
           0,
           0,
           0,
           0,
           0,
           0
          ],
          "coloraxis": "coloraxis",
          "symbol": "circle"
         },
         "mode": "markers",
         "name": "0",
         "scene": "scene",
         "showlegend": true,
         "type": "scatter3d",
         "x": [
          -0.33600875542793657,
          -0.319344014244302,
          2.293279414225913,
          -0.4017469991603899,
          -0.25061427723253726,
          -0.3111776730880039,
          -0.2582544527868901,
          -0.24866051176389364,
          -0.33566829999385583,
          -0.3282440133058763,
          -0.33450495536610897,
          -0.3360046921202429,
          -0.3359889708444434,
          0.6767938029377797,
          -0.38560603156223705,
          -0.34073438612729817,
          -0.24261711341254985,
          -0.334067419993826,
          -0.3286424119971588,
          -0.4016416692690158,
          -0.3951571501762443,
          -0.022941860704676922,
          -0.2744822675601659,
          -0.28283664071160763,
          -0.2903406097636757,
          -0.2909629723163168,
          -0.35320210275587366,
          -0.33031089106343814,
          -0.3344104037736625,
          0.022221148242352322,
          -0.3485339285964591,
          -0.4020132656479337,
          -0.25267799943070407,
          -0.2925508153150931,
          -0.4019249140764012,
          -0.31123961165524633,
          -0.3346861314834305,
          -0.28083975651274046,
          -0.40188936758983873,
          -0.25314554787339183,
          -0.2907437816347968,
          -0.32711273430657245,
          0.02777262287831748,
          -0.3211916320242813,
          -0.31038933383993467,
          -0.38502743829949726,
          -0.2828168457947368,
          -0.2910384143752844,
          -0.27747108999709214,
          -0.3359908195385837,
          -0.2909905819060977,
          -0.3489789440948902,
          -0.3357251967770994,
          -0.4019947899820114,
          -0.3566251460087724,
          -0.44077149362108065,
          -0.3647585869524905,
          -0.2812182946649159,
          -0.290512223511385,
          -0.303735555632269,
          -0.25110157011246853,
          -0.06509105754747545,
          -0.31114857986108374,
          -0.07946452354966586,
          -0.3112122548106189,
          -0.24514490278450782,
          -0.3356011137856265,
          -0.28108767813888125,
          -0.39916446907364955,
          0.8703051945651298,
          -0.31101235867392507,
          -0.05403973835978638,
          -0.3404176429495183,
          -0.39983748378739453,
          -0.30975615249434063,
          -0.3074247372191769,
          -0.3665337658582699,
          -0.4007300961583987,
          -0.3396738612599085,
          -0.3118977170062914,
          -0.335639228021923,
          -0.33407801650287017,
          -0.23680983642661146,
          -0.33646860521494126,
          -0.4014687192908402,
          -0.33484339795954127,
          -0.311193234302781,
          -0.4019839881045275,
          -0.33582836524626125,
          -0.335985051213892,
          -0.28107657591289803,
          -0.2156678370731051,
          0.029857041782315984,
          -0.3393746303803545,
          -0.3355991129385857,
          -0.3881475537348926,
          -0.33870299969492457,
          -0.23824018709220987,
          -0.3858436350408972,
          -0.338452678884599,
          -0.2847081385729164,
          3.7250498040800886,
          -0.40157651350695,
          0.8414526897519983,
          -0.40193888940699085,
          -0.33983842102872663,
          -0.3355267684035835,
          -0.33568114317870285,
          -0.3404176429495183,
          -0.40151386256741295,
          -0.3110558703194508,
          -0.33552748740433086,
          -0.3513866703204658,
          -0.33567489903412884,
          -0.3312637592107802,
          -0.4019678939486164,
          -0.33488576414360843,
          0.3604934391178677,
          -0.3358741781649672,
          -0.3359447369830583,
          -0.35235433723830095,
          -0.3604953269203505,
          -0.3321720979844517,
          -0.3111696421828292,
          -0.40187783664114846,
          -0.33572254501060966,
          -0.335849535378341,
          -0.28272350196511475,
          -0.2812815311363132,
          -0.2380080209005591,
          -0.31670135887912065,
          -0.2824645055515613,
          -0.40114367984887717,
          -0.4421567447308765,
          -0.39988177020516874,
          -0.3386640418850293,
          -0.40104153989153185,
          -0.33306346273934373,
          -0.39698275497435664,
          -0.33579280571601916,
          -0.33579201823097854,
          -0.32891503318614523,
          0.2743100059957672,
          -0.401519952009368,
          -0.2653673163712429,
          -0.34045197639851,
          -0.33500355737013937,
          0.8832763339587593,
          -0.25694511833713046,
          -0.33845211569899797,
          0.5930709915373756,
          -0.3680695474392555,
          -0.3665717448058968,
          -0.3971320183881922,
          -0.2906756599282956,
          0.12889900601343576,
          -0.29074641554353137,
          -0.31933815676251354,
          -0.39663678181141526,
          -0.4017923095834404,
          -0.28279760671131915,
          4.364545223305164,
          -0.34031831503729004,
          -0.3354279951799174,
          -0.3359276651699315,
          -0.30868189777358374,
          0.6828547612665433,
          -0.40173317657716817,
          -0.348201331194697,
          -0.33588330492629975,
          -0.311674203610219,
          0.4333458685673774,
          -0.309515747965623,
          -0.3528362995876304,
          -0.3810097754647806,
          -0.33583364763901424,
          -0.4036560870347827,
          -0.3269162948540987,
          -0.33570399589055516,
          -0.08472305223978806,
          -0.40052589223752283,
          3.7299058574635158,
          0.1914684848394839,
          -0.28741703487660514,
          -0.33316424276152057,
          -0.3149733563096294,
          -0.35224022829759183,
          0.07838937517716273,
          -0.3348427309853044,
          -0.4011068873124397,
          -0.35140506657126125,
          -0.32240773395697125,
          -0.3359498015049675,
          -0.3489508697355546,
          -0.33995582109023936,
          -0.2642437919289605,
          -0.2936276665205105,
          -0.3314946592977557,
          -0.22980416428645833,
          -0.38462757377485973,
          -0.40180960640987473,
          -0.3287806041242238,
          -0.28195771032649786,
          -0.30900286391213,
          -0.3676685316925634,
          -0.3359771598877692,
          -0.335958872512379,
          -0.2763389078991232,
          -0.32246524744843263,
          -0.33991275376822266,
          -0.33567539023726223,
          3.909123958120648,
          -0.4023237878412878,
          -0.34010144462889813,
          -0.31984683392359115,
          -0.28254784537245214,
          -0.29167821078387973,
          -0.2824917675999949,
          -0.1390733031696811,
          -0.2827439424681942,
          -0.350016632082656,
          -0.33514945746370695,
          -0.1975856272762063,
          2.254251351901868,
          -0.34794903562289586,
          -0.25707257067485045,
          1.025098946102362,
          -0.37204306116011804,
          -0.3523537911675881,
          -0.4053400550038665,
          -0.16349739108270264,
          -0.3644622815798225,
          -0.3510732509026778,
          -0.3288551097778901,
          -0.34852827730335584,
          -0.40128288994121086,
          -0.27998940376871573,
          -0.33920141659767417,
          -0.3762845536786568,
          -0.3483897582477437,
          -0.1954793092241979,
          -0.2765024527226794,
          -0.27591394124596635,
          0.4805632869502091,
          -0.13885201123674087,
          -0.4046346597867321,
          -0.2805367141034908,
          -0.3356793378978822,
          -0.405090783893902,
          -0.3524707733239194,
          0.5708282321589959,
          -0.34900519409706876,
          -0.33516232259263357,
          -0.32323619659513003,
          -0.3047401509905543,
          -0.398848057652416,
          -0.4015101216191682,
          3.742149043678361,
          0.0992511986828197,
          -0.39904908390010163,
          -0.3345480103970428,
          -0.3353727690751686,
          -0.258287116030794,
          -0.335891065053348,
          -0.39313733341215656,
          -0.2496044781913747,
          -0.09078313504692127,
          -0.38888615967633466,
          -0.33516925498948574,
          -0.32823305089528726,
          -0.39807843495426243,
          -0.33360850116807694,
          -0.3406933075799344,
          -0.40311990993334684,
          -0.3096926254126618,
          3.725441608527175,
          -0.09000944733206827,
          -0.33080301867925127,
          -0.3528280388940773,
          -0.29114560903033526,
          3.7353124801561797,
          3.73655691561034,
          -0.23918223099536368,
          -0.34062915751479483,
          -0.3288441892902841,
          2.4782183615608795,
          -0.3340543987868158,
          -0.2831403786595252
         ],
         "y": [
          1.0175511225479543,
          1.017856579020796,
          1.7361332991449736,
          1.3065701506331284,
          1.5195708264140744,
          0.8264473625086667,
          0.6172543920300811,
          1.8581992975504196,
          1.017553066672352,
          1.0178739483954877,
          1.0176136443565762,
          1.0175509274214904,
          1.0175512169544734,
          0.18771139086947,
          0.930274633695414,
          1.5920112608462313,
          0.195183391348156,
          1.0175444530531645,
          1.0982253401139999,
          1.306574529813753,
          2.0511893886354846,
          0.8191669308449864,
          0.826227400161911,
          0.8083498003054852,
          1.857483175552884,
          1.8574573002956847,
          0.5278996554303903,
          1.017482178437118,
          1.0175462132803865,
          1.0324448382346123,
          1.0973983332417017,
          1.3065750997194294,
          0.15316427901896,
          1.681339191156705,
          1.3065714918890208,
          1.0174158248265117,
          1.0175332932940409,
          0.26353323001091744,
          1.3065762465976523,
          0.15321765880121713,
          1.8574664133363648,
          1.0171927971908419,
          0.19600756735497213,
          1.5126638720218513,
          0.8264466418748174,
          0.9303018786575631,
          0.8083624053310564,
          1.8574454255061454,
          0.808220567165826,
          1.0175518682785276,
          1.857448870552298,
          1.0973652676384724,
          1.0175483480707805,
          1.3065758685892797,
          2.2651029596621357,
          1.8976586217739533,
          0.7400012102683601,
          0.8083560479560739,
          1.8574396313090622,
          0.8260446099006192,
          1.8583335234279978,
          0.9421189558140552,
          0.8264485720845419,
          1.300652026791294,
          0.8264542988725213,
          1.5651347600194792,
          1.0175374868554357,
          0.8082733297273123,
          1.306413918531516,
          0.7842141188140149,
          0.8264411282654976,
          0.18488999763295566,
          1.5920098660136601,
          1.3066109465631013,
          0.8263602984930457,
          0.8262371169327355,
          1.5600223772097077,
          1.306527231591402,
          1.575736803808722,
          1.017097189491862,
          1.0175342031250303,
          1.0175585761962043,
          1.6481629098347172,
          1.0974215418044184,
          1.306561331174715,
          1.0175340366563381,
          0.8264474437229086,
          1.3065741331313065,
          1.0175433305680426,
          1.0175521081015764,
          0.808434758544787,
          0.06335004216164823,
          1.9360021650767867,
          1.5920139081608817,
          1.0175681538165613,
          1.306059301669351,
          1.5920665901506494,
          1.6482472582452778,
          1.7980804223353137,
          1.5918869410678174,
          1.9320217924002807,
          1.6423490031226045,
          1.3065714132396746,
          1.9039194958811438,
          1.3065753867685128,
          1.5920121021090747,
          1.017543097348938,
          1.0175341595647418,
          1.5920098660136601,
          1.306552172453254,
          0.8264538829334926,
          1.0175471016013178,
          0.8743288621911844,
          1.0175446137618087,
          1.0172745990726777,
          1.3065733458894495,
          1.0174929532504882,
          0.8114317044682862,
          1.0175472513374322,
          1.0175513696921752,
          1.5192962048973384,
          0.7038324845017431,
          1.0173465423542156,
          0.8264484245855408,
          1.3065739195813646,
          1.017548458320248,
          1.0175417707624512,
          0.8083262360003838,
          0.2595205762563334,
          1.6482481545265437,
          1.017625659058644,
          0.8083519853707538,
          1.3065384357134517,
          1.9740541596443135,
          1.3065836188387845,
          1.5920170256282398,
          1.3065426822698287,
          1.5920389120288683,
          1.3064201556958268,
          1.017544654522676,
          1.0175393075196355,
          1.0171178650683013,
          0.5847914362442378,
          1.3065664829814758,
          0.8076315142912841,
          1.5920011567200572,
          1.0175164551149056,
          1.8399787490699664,
          0.6171722327140158,
          1.5757391746197058,
          1.857233282978642,
          1.560016780580551,
          1.559998952649374,
          1.8784002837134193,
          1.8574474000017753,
          1.0004708067240473,
          1.8574525424507082,
          1.5550869097521147,
          1.8784208735990804,
          1.3065773638325244,
          0.80835053050184,
          2.6180971565357045,
          1.5919837031821822,
          1.0175401317967834,
          1.0175514355981803,
          1.5197119489816993,
          1.607669961281184,
          1.3065670843933914,
          0.5278190380172944,
          1.0175448815121344,
          0.7082629185586367,
          1.0313330737883004,
          0.8264596600340048,
          1.5597835756634189,
          1.8906927851385704,
          1.017543110948031,
          1.72842879291858,
          1.508374077240792,
          1.0175530246156,
          0.6179245453370792,
          1.3065320806191485,
          1.6422778282967503,
          1.5614417832897554,
          1.8574518068166816,
          1.017516466762664,
          1.350811183138806,
          1.5192973081489705,
          0.9983708254777548,
          1.0174903732803742,
          1.3065763746497194,
          1.519259212204444,
          1.0174612301279038,
          1.017550660898075,
          1.0973657066689537,
          1.575731270660165,
          -0.08889003426104072,
          0.2550294916827894,
          1.0175698610557078,
          1.6480172656058816,
          1.0246624061821636,
          1.3065653631277083,
          1.2721333932912011,
          0.8083078296730262,
          1.5711491881598005,
          1.5600043257503537,
          1.0175502516349324,
          1.0175495555780578,
          0.8082676386081183,
          1.5004340534920895,
          1.591981340627849,
          1.0175431369694172,
          1.7184075801299152,
          1.7284841844008465,
          1.5919793211241917,
          0.7303762964595535,
          1.0160440772304833,
          0.7055815709365206,
          0.8083569879233692,
          1.0183113949857996,
          0.8083333962050256,
          1.9346994745882464,
          1.01752568108041,
          1.649111891291771,
          0.2736279972747872,
          1.5190169615539633,
          0.6172396226630983,
          1.5619113458945229,
          0.9395790692086542,
          1.5192918584900976,
          1.7285006666437046,
          0.8010314495681298,
          0.9174476721787287,
          1.5192875714276057,
          1.0171203564354223,
          1.0973585180185712,
          1.306569057189393,
          0.8082906305336682,
          1.5919220764989608,
          1.036927026645989,
          1.0973315087376843,
          1.010286423101178,
          1.5602449222200996,
          1.0629384354817788,
          0.4857502338290047,
          1.1061160388921236,
          1.7284944229412418,
          -0.0757085961675923,
          1.0175495265079377,
          1.728500919454628,
          1.5192925509088726,
          1.0007854030617331,
          1.097364394727636,
          1.0175251462016348,
          1.2720435053481685,
          1.9330137761539594,
          1.3064008589442844,
          1.306574173539383,
          1.6424227567200682,
          1.0101609501898852,
          1.3066983388474596,
          1.0174662172867508,
          1.0175380557594864,
          0.6172468444543378,
          1.0175560156568544,
          1.3065800323971806,
          1.0134975110032305,
          0.8354881194600594,
          1.3063926860434267,
          1.017575102753175,
          1.0175831301271805,
          1.3065872319095684,
          1.0175344055931677,
          1.5920064150561903,
          0.9380632091393312,
          0.8264486652768597,
          1.6423398656701278,
          0.8090902534015373,
          1.0175491000211567,
          0.527874139167596,
          1.8574496196353594,
          1.6428667058247477,
          1.6429184442966538,
          0.6173282532315894,
          1.5920093485639988,
          1.6893462630307827,
          0.6978410692850029,
          1.017450330358041,
          0.8083482259894663
         ],
         "z": [
          -0.5525294474493521,
          -0.5527189583838606,
          -0.6368775764308747,
          -0.4967518033313459,
          0.01015278722591107,
          -0.3616448405243455,
          -0.04319867270952046,
          -0.666733363050264,
          -0.5525330253059795,
          -0.5526300911899517,
          -0.5525489391561008,
          -0.5525294752206805,
          -0.5525296540962243,
          -0.3364751545011507,
          -0.4182474193181622,
          -0.012616750251364153,
          -0.33197240116768784,
          -0.5525486348414275,
          -0.17856784143589466,
          -0.4967531685787553,
          -0.5069614835266374,
          -0.23745469343856668,
          -0.36200110258258045,
          -0.2340852269603534,
          -0.6190334316609146,
          -0.6190253648258516,
          -0.27961213504104293,
          -0.5525823868720622,
          -0.5525452847175806,
          -0.557172692028598,
          -0.17831001489591347,
          -0.4967494475391015,
          0.1233026249298854,
          -0.1947545351681674,
          -0.496750094812248,
          -0.552770822836747,
          -0.5525416112447104,
          -0.2627394893130517,
          -0.4967507796335512,
          0.12330370554822535,
          -0.6190282058950447,
          -0.5525949586829625,
          -0.27693373512243924,
          -0.12252809189685965,
          -0.3616527680848437,
          -0.418255136937047,
          -0.2340862892297198,
          -0.619023789424799,
          -0.23413068108985938,
          -0.5525296799298594,
          -0.6190245090031756,
          -0.17830325085369214,
          -0.5525321269200307,
          -0.4967496870636998,
          -0.19271936868908315,
          -0.7094676128018641,
          -0.3737630911212226,
          -0.23410202948992623,
          -0.619028717479966,
          -0.3616926022960546,
          -0.6667178419250657,
          -0.41181931016092455,
          -0.3616452176200786,
          -0.4996081294013256,
          -0.36164496493964365,
          -0.5350450602304007,
          -0.5525326397321734,
          -0.2340976945891967,
          -0.4967672510844318,
          -0.24410285673645257,
          -0.3616460869459816,
          -0.32888725197698826,
          -0.012619859845615103,
          -0.49677391459530745,
          -0.361653270504759,
          -0.3616684374497811,
          -0.5334671807089715,
          -0.49675915795451303,
          -0.08999366258572894,
          -0.5527423744245196,
          -0.5525320295194058,
          -0.5525494934079713,
          -0.3005847065201298,
          -0.17843368539601287,
          -0.4967540160124684,
          -0.5525400707716508,
          -0.3616446886213193,
          -0.49674967768648176,
          -0.5525307398924554,
          -0.5525297546967677,
          -0.23410884596942463,
          -0.2008016058554029,
          -0.7065898237416797,
          -0.012630690022419604,
          -0.5525347570870918,
          -0.4968544762639272,
          -0.0126410885128528,
          -0.3005760014901589,
          -0.6374426509879287,
          -0.012631336388663365,
          -0.7031346931421206,
          0.024458208131177574,
          -0.4967536147379949,
          -0.6336609947845615,
          -0.49675021974722255,
          -0.012625873635727206,
          -0.5525337756629652,
          -0.5525316024205431,
          -0.012619859845615103,
          -0.49675293292457723,
          -0.3616465188786029,
          -0.5525340422118872,
          -0.10716431864859718,
          -0.5525323804950785,
          -0.5525585502699046,
          -0.4967497867015651,
          -0.5525368326672803,
          -0.24080553707980237,
          -0.5525305444480547,
          -0.5525301121229018,
          -0.2031836049112296,
          -0.3588294162574189,
          -0.5525542789324022,
          -0.3616449944137222,
          -0.4967507371807326,
          -0.5525321612912552,
          -0.5525304190169725,
          -0.23408476035302422,
          -0.44630618986062354,
          -0.30057841196306645,
          -0.5527299071113291,
          -0.234089141845803,
          -0.49675573926794275,
          -0.6661683735461158,
          -0.4967715977204478,
          -0.012638093321234644,
          -0.496757063168595,
          -0.012696259653738589,
          -0.4967897533574016,
          -0.5525311902393196,
          -0.5525308325615816,
          -0.5525715979461472,
          -0.046367520499995186,
          -0.4967538499100712,
          -0.2342128721672644,
          -0.012618916870742984,
          -0.5525372479081783,
          -0.6769409259153665,
          -0.043206302930030534,
          -0.09000618698736633,
          -0.5095595015508692,
          -0.5334512581300204,
          -0.5334651945678774,
          -0.6218698306581181,
          -0.619027594991701,
          -0.5560656247653598,
          -0.6190272307062314,
          0.09336080093585147,
          -0.6218762497329247,
          -0.4967518381188338,
          -0.23408567186059623,
          0.4532889535573053,
          -0.01261907579693236,
          -0.5525345723091177,
          -0.5525302893715472,
          0.010730696160025654,
          -0.04042897092646423,
          -0.49675173351594926,
          -0.27965722264501847,
          -0.5525302900420099,
          -0.002552495208377818,
          -0.5612566465543434,
          -0.36166249772105863,
          -0.5335894489805361,
          -0.5128521172564451,
          -0.5525306714240188,
          -0.5216420504811501,
          -0.13846943649385454,
          -0.5525326612397468,
          -0.04500038392871263,
          -0.4967615557921616,
          0.02441393914777104,
          -0.5392104108583408,
          -0.6190608688625782,
          -0.5525558598776097,
          -0.21500597705298988,
          -0.20318483497080092,
          -0.5554109374623966,
          -0.5525370916729075,
          -0.4967587059458166,
          -0.20319068045764632,
          -0.5526609227442651,
          -0.5525300124076404,
          -0.1783035649475074,
          -0.08999043118956654,
          0.15859673761668613,
          -0.4057390758975856,
          -0.5525764048998315,
          -0.30064563403384786,
          -0.48636269436066815,
          -0.49675084245196044,
          -0.5911077075714701,
          -0.23409125035788428,
          0.046670623986452,
          -0.5334544641197841,
          -0.5525297075940506,
          -0.5525298450368402,
          -0.2341453560188167,
          0.06840602756865835,
          -0.012623017924278591,
          -0.5525322745368231,
          0.0899089015036326,
          -0.5216593192544767,
          -0.012620970548415381,
          -0.010168764919037197,
          -0.5529673368511949,
          -0.46812131927037925,
          -0.23408920808502098,
          -0.5545741360789849,
          -0.23408504316375628,
          -0.7026569755895725,
          -0.5525364025150326,
          -0.34827571161522136,
          -0.3077740407695819,
          -0.2032090845257184,
          -0.043209621648733425,
          -0.03546151115704346,
          -0.32862295915209544,
          -0.20318331321481603,
          -0.5216299261544369,
          -0.23479231229581304,
          -0.3209994685696445,
          -0.20319597724520594,
          -0.5525723746513791,
          -0.1783073493807341,
          -0.49675642466431763,
          -0.23410999060599372,
          -0.012626162936596354,
          -0.5018512473344868,
          -0.17830690400604618,
          -0.5534546154273744,
          0.1831102836502247,
          -0.2726608315779458,
          -0.5104999291980714,
          -0.18102783497662966,
          -0.5216366367568024,
          0.14252315093032905,
          -0.5525326715302674,
          -0.5216324657014415,
          -0.20318217687644846,
          -0.5605588151394688,
          -0.1783029255495141,
          -0.5525362357619518,
          -0.5911576620262878,
          -0.7029998336470549,
          -0.49676955964689146,
          -0.4967544752852855,
          0.024280145325224673,
          -0.5564282767191913,
          -0.4967878682251568,
          -0.5525384219465241,
          -0.5525349891501345,
          -0.04319782607682954,
          -0.5525309729108971,
          -0.4968395963008093,
          -0.553126532823045,
          -0.3644931479811903,
          -0.4968698005898646,
          -0.5525395818121587,
          -0.5526103149885705,
          -0.49679009190875745,
          -0.5525525913496576,
          -0.012616834534850355,
          -0.3134511494544758,
          -0.36165995612183477,
          0.024454868492916487,
          -0.23608699070770806,
          -0.5525819835821049,
          -0.2796141751327574,
          -0.6190229915802858,
          0.024318962622958077,
          0.024302832707183194,
          -0.04339670656711754,
          -0.012617684242723894,
          0.2551833538595239,
          0.016341307324550015,
          -0.5525423301725946,
          -0.23408204591969992
         ]
        },
        {
         "customdata": [
          [
           "SHA-256"
          ],
          [
           "Ethash"
          ],
          [
           "Scrypt"
          ],
          [
           "CryptoNight-V7"
          ],
          [
           "Ethash"
          ],
          [
           "Equihash"
          ],
          [
           "Multiple"
          ],
          [
           "Scrypt"
          ],
          [
           "X11"
          ],
          [
           "Scrypt"
          ],
          [
           "Multiple"
          ],
          [
           "Scrypt"
          ],
          [
           "SHA-256"
          ],
          [
           "Scrypt"
          ],
          [
           "Scrypt"
          ],
          [
           "Quark"
          ],
          [
           "Groestl"
          ],
          [
           "Scrypt"
          ],
          [
           "Scrypt"
          ],
          [
           "Scrypt"
          ],
          [
           "X11"
          ],
          [
           "Multiple"
          ],
          [
           "SHA-256"
          ],
          [
           "Scrypt"
          ],
          [
           "Scrypt"
          ],
          [
           "Scrypt"
          ],
          [
           "Scrypt"
          ],
          [
           "Scrypt"
          ],
          [
           "NeoScrypt"
          ],
          [
           "Scrypt"
          ],
          [
           "Scrypt"
          ],
          [
           "Scrypt"
          ],
          [
           "Scrypt"
          ],
          [
           "SHA-256"
          ],
          [
           "Scrypt"
          ],
          [
           "Scrypt"
          ],
          [
           "Scrypt"
          ],
          [
           "Scrypt"
          ],
          [
           "HybridScryptHash256"
          ],
          [
           "Scrypt"
          ],
          [
           "Scrypt"
          ],
          [
           "SHA-256"
          ],
          [
           "Scrypt"
          ],
          [
           "Scrypt"
          ],
          [
           "Scrypt"
          ],
          [
           "Scrypt"
          ],
          [
           "SHA-256"
          ],
          [
           "SHA-256"
          ],
          [
           "SHA-256"
          ],
          [
           "SHA-256"
          ],
          [
           "SHA-256"
          ],
          [
           "X11"
          ],
          [
           "Scrypt"
          ],
          [
           "Lyra2REv2"
          ],
          [
           "Scrypt"
          ],
          [
           "SHA-256"
          ],
          [
           "CryptoNight"
          ],
          [
           "CryptoNight"
          ],
          [
           "Scrypt"
          ],
          [
           "Scrypt"
          ],
          [
           "Scrypt"
          ],
          [
           "Scrypt"
          ],
          [
           "Scrypt"
          ],
          [
           "Scrypt"
          ],
          [
           "Stanford Folding"
          ],
          [
           "Multiple"
          ],
          [
           "QuBit"
          ],
          [
           "Scrypt"
          ],
          [
           "Scrypt"
          ],
          [
           "M7 POW"
          ],
          [
           "Scrypt"
          ],
          [
           "SHA-256"
          ],
          [
           "Scrypt"
          ],
          [
           "X11"
          ],
          [
           "Lyra2RE"
          ],
          [
           "SHA-256"
          ],
          [
           "X11"
          ],
          [
           "Scrypt"
          ],
          [
           "Scrypt"
          ],
          [
           "Ethash"
          ],
          [
           "Blake2b"
          ],
          [
           "X11"
          ],
          [
           "SHA-256"
          ],
          [
           "Scrypt"
          ],
          [
           "1GB AES Pattern Search"
          ],
          [
           "Scrypt"
          ],
          [
           "SHA-256"
          ],
          [
           "X11"
          ],
          [
           "Dagger"
          ],
          [
           "Scrypt"
          ],
          [
           "X11GOST"
          ],
          [
           "Scrypt"
          ],
          [
           "X11"
          ],
          [
           "Scrypt"
          ],
          [
           "X11"
          ],
          [
           "Equihash"
          ],
          [
           "CryptoNight"
          ],
          [
           "SHA-256"
          ],
          [
           "Multiple"
          ],
          [
           "Scrypt"
          ],
          [
           "SHA-256"
          ],
          [
           "Scrypt"
          ],
          [
           "Lyra2Z"
          ],
          [
           "Ethash"
          ],
          [
           "Equihash"
          ],
          [
           "Scrypt"
          ],
          [
           "X11"
          ],
          [
           "X11"
          ],
          [
           "CryptoNight"
          ],
          [
           "Scrypt"
          ],
          [
           "CryptoNight"
          ],
          [
           "Lyra2RE"
          ],
          [
           "X11"
          ],
          [
           "CryptoNight-V7"
          ],
          [
           "Scrypt"
          ],
          [
           "X11"
          ],
          [
           "Equihash"
          ],
          [
           "Scrypt"
          ],
          [
           "Lyra2RE"
          ],
          [
           "Dagger-Hashimoto"
          ],
          [
           "Scrypt"
          ],
          [
           "NIST5"
          ],
          [
           "Scrypt"
          ],
          [
           "SHA-256"
          ],
          [
           "Scrypt"
          ],
          [
           "CryptoNight-V7"
          ],
          [
           "Argon2d"
          ],
          [
           "Blake2b"
          ],
          [
           "Cloverhash"
          ],
          [
           "CryptoNight"
          ],
          [
           "X11"
          ],
          [
           "Scrypt"
          ],
          [
           "Scrypt"
          ],
          [
           "X11"
          ],
          [
           "X11"
          ],
          [
           "CryptoNight"
          ],
          [
           "Time Travel"
          ],
          [
           "Scrypt"
          ],
          [
           "Keccak"
          ],
          [
           "X11"
          ],
          [
           "SHA-256"
          ],
          [
           "Scrypt"
          ],
          [
           "Scrypt"
          ],
          [
           "Scrypt"
          ],
          [
           "Scrypt"
          ],
          [
           "Scrypt"
          ],
          [
           "Scrypt"
          ],
          [
           "CryptoNight"
          ],
          [
           "Equihash"
          ],
          [
           "X11"
          ],
          [
           "NeoScrypt"
          ],
          [
           "Equihash"
          ],
          [
           "Dagger"
          ],
          [
           "Scrypt"
          ],
          [
           "X11"
          ],
          [
           "NeoScrypt"
          ],
          [
           "Ethash"
          ],
          [
           "NeoScrypt"
          ],
          [
           "Multiple"
          ],
          [
           "CryptoNight"
          ],
          [
           "CryptoNight"
          ],
          [
           "Ethash"
          ],
          [
           "X11"
          ],
          [
           "CryptoNight-V7"
          ],
          [
           "Scrypt"
          ],
          [
           "BLAKE256"
          ],
          [
           "X11"
          ],
          [
           "NeoScrypt"
          ],
          [
           "NeoScrypt"
          ],
          [
           "Scrypt"
          ],
          [
           "X11"
          ],
          [
           "SHA-256"
          ],
          [
           "C11"
          ],
          [
           "CryptoNight"
          ],
          [
           "SkunkHash"
          ],
          [
           "CryptoNight"
          ],
          [
           "Scrypt"
          ],
          [
           "Dagger"
          ],
          [
           "Lyra2REv2"
          ],
          [
           "Scrypt"
          ],
          [
           "Scrypt"
          ],
          [
           "X11"
          ],
          [
           "Ethash"
          ],
          [
           "CryptoNight"
          ],
          [
           "Scrypt"
          ],
          [
           "IMesh"
          ],
          [
           "Equihash"
          ],
          [
           "Lyra2Z"
          ],
          [
           "X11"
          ],
          [
           "CryptoNight"
          ],
          [
           "NIST5"
          ],
          [
           "Lyra2RE"
          ],
          [
           "Tribus"
          ],
          [
           "Lyra2Z"
          ],
          [
           "CryptoNight"
          ],
          [
           "CryptoNight Heavy"
          ],
          [
           "CryptoNight"
          ],
          [
           "Jump Consistent Hash"
          ],
          [
           "CryptoNight"
          ],
          [
           "X16R"
          ],
          [
           "HMQ1725"
          ],
          [
           "X11"
          ],
          [
           "Scrypt"
          ],
          [
           "CryptoNight-V7"
          ],
          [
           "Cryptonight-GPU"
          ],
          [
           "XEVAN"
          ],
          [
           "CryptoNight Heavy"
          ],
          [
           "SHA-256"
          ],
          [
           "X11"
          ],
          [
           "X16R"
          ],
          [
           "Equihash"
          ],
          [
           "Lyra2Z"
          ],
          [
           "SHA-256"
          ],
          [
           "CryptoNight"
          ],
          [
           "Blake"
          ],
          [
           "Blake"
          ],
          [
           "Exosis"
          ],
          [
           "Scrypt"
          ],
          [
           "Equihash"
          ],
          [
           "Equihash"
          ],
          [
           "QuBit"
          ],
          [
           "SHA-256"
          ],
          [
           "X13"
          ],
          [
           "SHA-256"
          ],
          [
           "Scrypt"
          ],
          [
           "NeoScrypt"
          ],
          [
           "Blake"
          ],
          [
           "Scrypt"
          ],
          [
           "SHA-256"
          ],
          [
           "Scrypt"
          ],
          [
           "Groestl"
          ],
          [
           "Scrypt"
          ],
          [
           "Scrypt"
          ],
          [
           "Multiple"
          ],
          [
           "Equihash+Scrypt"
          ],
          [
           "Ethash"
          ],
          [
           "CryptoNight"
          ],
          [
           "Equihash"
          ]
         ],
         "hovertemplate": "<b>%{hovertext}</b><br><br>Class=%{marker.color}<br>PC1=%{x}<br>PC2=%{y}<br>PC3=%{z}<br>Algorithm=%{customdata[0]}<extra></extra>",
         "hovertext": [
          "Bitcoin",
          "Ethereum",
          "Litecoin",
          "Monero",
          "Ethereum Classic",
          "ZCash",
          "DigiByte",
          "ProsperCoin",
          "Spreadcoin",
          "Argentum",
          "MyriadCoin",
          "MoonCoin",
          "ZetaCoin",
          "SexCoin",
          "Quatloo",
          "QuarkCoin",
          "Riecoin",
          "Digitalcoin ",
          "Catcoin",
          "CannaCoin",
          "CryptCoin",
          "Verge",
          "DevCoin",
          "EarthCoin",
          "E-Gulden",
          "Einsteinium",
          "Emerald",
          "Franko",
          "FeatherCoin",
          "GrandCoin",
          "GlobalCoin",
          "GoldCoin",
          "Infinite Coin",
          "IXcoin",
          "KrugerCoin",
          "LuckyCoin",
          "Litebar ",
          "MegaCoin",
          "MediterraneanCoin",
          "MinCoin",
          "NobleCoin",
          "Namecoin",
          "NyanCoin",
          "RonPaulCoin",
          "StableCoin",
          "SmartCoin",
          "SysCoin",
          "TigerCoin",
          "TerraCoin",
          "UnbreakableCoin",
          "Unobtanium",
          "UroCoin",
          "ViaCoin",
          "Vertcoin",
          "WorldCoin",
          "JouleCoin",
          "ByteCoin",
          "DigitalNote ",
          "MonaCoin",
          "Gulden",
          "PesetaCoin",
          "Wild Beast Coin",
          "Flo",
          "ArtByte",
          "Folding Coin",
          "Unitus",
          "CypherPunkCoin",
          "OmniCron",
          "GreenCoin",
          "Cryptonite",
          "MasterCoin",
          "SoonCoin",
          "1Credit",
          "MarsCoin ",
          "Crypto",
          "Anarchists Prime",
          "BowsCoin",
          "Song Coin",
          "BitZeny",
          "Expanse",
          "Siacoin",
          "MindCoin",
          "I0coin",
          "Revolution VR",
          "HOdlcoin",
          "Gamecredits",
          "CarpeDiemCoin",
          "Adzcoin",
          "SoilCoin",
          "YoCoin",
          "SibCoin",
          "Francs",
          "BolivarCoin",
          "Omni",
          "PizzaCoin",
          "Komodo",
          "Karbo",
          "ZayedCoin",
          "Circuits of Value",
          "DopeCoin",
          "DollarCoin",
          "Shilling",
          "ZCoin",
          "Elementrem",
          "ZClassic",
          "KiloCoin",
          "ArtexCoin",
          "Kurrent",
          "Cannabis Industry Coin",
          "OsmiumCoin",
          "Bikercoins",
          "HexxCoin",
          "PacCoin",
          "Citadel",
          "BeaverCoin",
          "VaultCoin",
          "Zero",
          "Canada eCoin",
          "Zoin",
          "DubaiCoin",
          "EB3coin",
          "Coinonat",
          "BenjiRolls",
          "ILCoin",
          "EquiTrader",
          "Quantum Resistant Ledger",
          "Dynamic",
          "Nano",
          "ChanCoin",
          "Dinastycoin",
          "DigitalPrice",
          "Unify",
          "SocialCoin",
          "ArcticCoin",
          "DAS",
          "LeviarCoin",
          "Bitcore",
          "gCn Coin",
          "SmartCash",
          "Onix",
          "Bitcoin Cash",
          "Sojourn Coin",
          "NewYorkCoin",
          "FrazCoin",
          "Kronecoin",
          "AdCoin",
          "Linx",
          "Sumokoin",
          "BitcoinZ",
          "Elements",
          "VIVO Coin",
          "Bitcoin Gold",
          "Pirl",
          "eBoost",
          "Pura",
          "Innova",
          "Ellaism",
          "GoByte",
          "SHIELD",
          "UltraNote",
          "BitCoal",
          "DaxxCoin",
          "AC3",
          "Lethean",
          "PopularCoin",
          "Photon",
          "Sucre",
          "SparksPay",
          "GunCoin",
          "IrishCoin",
          "Pioneer Coin",
          "UnitedBitcoin",
          "Interzone",
          "TurtleCoin",
          "MUNcoin",
          "Niobio Cash",
          "ShareChain",
          "Travelflex",
          "KREDS",
          "BitFlip",
          "LottoCoin",
          "Crypto Improvement Fund",
          "Callisto Network",
          "BitTube",
          "Poseidon",
          "Aidos Kuneen",
          "Bitrolium",
          "Alpenschillling",
          "FuturoCoin",
          "Monero Classic",
          "Jumpcoin",
          "Infinex",
          "KEYCO",
          "GINcoin",
          "PlatinCoin",
          "Loki",
          "Newton Coin",
          "MassGrid",
          "PluraCoin",
          "Motion",
          "PlusOneCoin",
          "Axe",
          "HexCoin",
          "Webchain",
          "Ryo",
          "Urals Coin",
          "Qwertycoin",
          "Project Pai",
          "Azart",
          "Xchange",
          "CrypticCoin",
          "Actinium",
          "Bitcoin SV",
          "FREDEnergy",
          "Universal Molecule",
          "Lithium",
          "Exosis",
          "Block-Logic",
          "Beam",
          "Bithereum",
          "SLICE",
          "BLAST",
          "Bitcoin Rhodium",
          "GlobalToken",
          "SolarCoin",
          "UFO Coin",
          "BlakeCoin",
          "Crypto Escudo",
          "Crown Coin",
          "SmileyCoin",
          "Groestlcoin",
          "Bata",
          "Pakcoin",
          "JoinCoin",
          "Vollar",
          "Reality Clash",
          "Beldex",
          "Horizen"
         ],
         "legendgroup": "3",
         "marker": {
          "color": [
           3,
           3,
           3,
           3,
           3,
           3,
           3,
           3,
           3,
           3,
           3,
           3,
           3,
           3,
           3,
           3,
           3,
           3,
           3,
           3,
           3,
           3,
           3,
           3,
           3,
           3,
           3,
           3,
           3,
           3,
           3,
           3,
           3,
           3,
           3,
           3,
           3,
           3,
           3,
           3,
           3,
           3,
           3,
           3,
           3,
           3,
           3,
           3,
           3,
           3,
           3,
           3,
           3,
           3,
           3,
           3,
           3,
           3,
           3,
           3,
           3,
           3,
           3,
           3,
           3,
           3,
           3,
           3,
           3,
           3,
           3,
           3,
           3,
           3,
           3,
           3,
           3,
           3,
           3,
           3,
           3,
           3,
           3,
           3,
           3,
           3,
           3,
           3,
           3,
           3,
           3,
           3,
           3,
           3,
           3,
           3,
           3,
           3,
           3,
           3,
           3,
           3,
           3,
           3,
           3,
           3,
           3,
           3,
           3,
           3,
           3,
           3,
           3,
           3,
           3,
           3,
           3,
           3,
           3,
           3,
           3,
           3,
           3,
           3,
           3,
           3,
           3,
           3,
           3,
           3,
           3,
           3,
           3,
           3,
           3,
           3,
           3,
           3,
           3,
           3,
           3,
           3,
           3,
           3,
           3,
           3,
           3,
           3,
           3,
           3,
           3,
           3,
           3,
           3,
           3,
           3,
           3,
           3,
           3,
           3,
           3,
           3,
           3,
           3,
           3,
           3,
           3,
           3,
           3,
           3,
           3,
           3,
           3,
           3,
           3,
           3,
           3,
           3,
           3,
           3,
           3,
           3,
           3,
           3,
           3,
           3,
           3,
           3,
           3,
           3,
           3,
           3,
           3,
           3,
           3,
           3,
           3,
           3,
           3,
           3,
           3,
           3,
           3,
           3,
           3,
           3,
           3,
           3,
           3,
           3,
           3,
           3,
           3,
           3,
           3,
           3,
           3,
           3,
           3,
           3,
           3,
           3,
           3,
           3,
           3,
           3,
           3,
           3,
           3,
           3,
           3,
           3,
           3,
           3,
           3,
           3,
           3,
           3
          ],
          "coloraxis": "coloraxis",
          "symbol": "diamond"
         },
         "mode": "markers",
         "name": "3",
         "scene": "scene",
         "showlegend": true,
         "type": "scatter3d",
         "x": [
          -0.13999375495069352,
          -0.1448311866539351,
          -0.16365538162797466,
          -0.13975848802035196,
          -0.14327343474555226,
          -0.1630785597709426,
          0.1519818538284009,
          -0.16480173970290324,
          -0.23074759835551953,
          -0.16441830765407525,
          -0.10143423004563672,
          2.5566223876621095,
          -0.13707835468019877,
          -0.16167353319463343,
          -0.1642223951020639,
          -0.22953883603735667,
          -0.21348893375558056,
          -0.1642710190066381,
          -0.1647840008941526,
          -0.16487045545312748,
          -0.23083695883208893,
          0.1757513040685893,
          0.23789070257078926,
          0.08388577023790217,
          -0.1646167056677841,
          -0.1602216867694177,
          -0.16455601694024266,
          -0.1649274680463209,
          -0.17734915982969443,
          -0.14414850918109415,
          -0.16372242768950412,
          -0.16399995781996587,
          1.5841772365122906,
          -0.13995511386682635,
          -0.1612892095294726,
          -0.1646431513701576,
          -0.16499800395673808,
          -0.1642571781232437,
          -0.16053340965855062,
          -0.1648792648198852,
          -0.029794050016442072,
          -0.14003274553262224,
          -0.1585424669671277,
          -0.16485873464088188,
          -0.16295325949749803,
          -0.16434543134420193,
          -0.12718400958408957,
          -0.13949644809304387,
          -0.13978371569448012,
          -0.1397668134826456,
          -0.1403574340348412,
          -0.2310108448943986,
          -0.16457515307366605,
          -0.19278892246143894,
          -0.1616782961197557,
          -0.13956375496811005,
          3.8564165051019677,
          0.454998859879833,
          -0.1634426929767723,
          -0.14804227036482548,
          -0.1621613514188219,
          -0.165000217821385,
          -0.16202633431251956,
          -0.1482488197573046,
          -0.16154814706825768,
          -0.13544388847615324,
          -0.1903579853379754,
          -0.1648732631953162,
          -0.03780756776056699,
          -0.08621929772680427,
          -0.1650091065747679,
          -0.1400605306335384,
          0.4870404216361238,
          -0.23039796603689175,
          -0.15416926330892514,
          -0.1398004233518092,
          -0.23068290541486744,
          -0.1631330263534057,
          -0.16232517092019544,
          -0.145898988582669,
          0.36889631620972885,
          -0.23071829634285287,
          -0.13995623652447753,
          -0.16096651363712788,
          -0.1835487217249287,
          -0.16357232550587072,
          0.2785748111732966,
          -0.2298790000321372,
          -0.15754465847815044,
          -0.16382008075805377,
          -0.1804113860696358,
          -0.16479902096787763,
          -0.2306815576914726,
          -0.16500916507618185,
          -0.2308315697846606,
          -0.31141116955024334,
          0.2998921826940446,
          -0.14021635765776128,
          -0.11551463898324492,
          -0.1621757209796925,
          -0.14017497881611252,
          -0.16467256446338466,
          -0.16111499395532294,
          -0.1456411038623157,
          -0.16310018275545657,
          -0.09174621663234872,
          -0.217412689201683,
          -0.22865975738916416,
          0.2998865107198223,
          -0.16499090446870582,
          0.3000172500477414,
          -0.15470968206338903,
          0.4842975231607681,
          -0.13852343113768936,
          -0.1649591849219653,
          -0.2235666800598886,
          -0.16311254846073303,
          -0.16309224086328517,
          -0.15442801926174243,
          -0.10653149683187853,
          -0.13588737451682356,
          -0.1967380129729113,
          -0.1645215426721892,
          -0.10654003805643769,
          -0.164343672859234,
          -0.1383808776680201,
          -0.12992587437662334,
          -0.031517669528582135,
          -0.14998930325139367,
          0.336012242446695,
          -0.22988744595452176,
          -0.16466285685155455,
          -0.16442634700033507,
          -0.23028210909974436,
          -0.23085959097242578,
          0.300281503409837,
          -0.14194733558488315,
          3.2449996690539797,
          -0.1451253140553577,
          -0.22173259761462993,
          -0.13999291893847293,
          -0.09059519968602545,
          1.5824895761961653,
          -0.16476073352035844,
          -0.16421242652599366,
          -0.16391336975821255,
          -0.16390029709494552,
          0.30046505434401827,
          0.04920631352631423,
          -0.18523958127822288,
          -0.18203821635715348,
          -0.16295856998482455,
          -0.1563038094519962,
          -0.1630904495262894,
          -0.2264038333706066,
          -0.18188364225532755,
          -0.14400665287994222,
          -0.18198383350733408,
          -0.12567509072353114,
          1.1377925334123498,
          0.29986930231603776,
          -0.06890574786814221,
          -0.22614596400649908,
          -0.12749276130130593,
          -0.08114131750366449,
          1.111195610274942,
          -0.23083358525915265,
          -0.1820357555145275,
          -0.1750732162679387,
          -0.16401166679274057,
          -0.23075898225391742,
          -0.13997230806171068,
          -0.2136058190031409,
          8.036696197409412,
          -0.14066144556740895,
          0.30374378199805074,
          0.02805290651454706,
          -0.15580671176298846,
          -0.1783461922446786,
          -0.16458547390009093,
          0.1425175545291835,
          -0.22489977983750079,
          -0.09705180833225537,
          0.30779151380167746,
          -0.16482249009218777,
          -0.15358965098816527,
          -0.16194953754981242,
          -0.1588987726623316,
          -0.22992822965308102,
          0.30005185282641594,
          -0.19679740506174923,
          -0.15455492915053387,
          -0.15106370868323685,
          -0.161199359405686,
          0.30397931981818443,
          0.5953379952977165,
          2.108456662886726,
          -0.14178989125400923,
          0.3136574607545774,
          -0.20183586234441883,
          -0.14792990468929562,
          -0.2308157443280661,
          -0.16484708221276295,
          -0.12737497257318367,
          -0.16436374477330432,
          -0.15655470164002122,
          3.118010326822895,
          -0.09981612658145128,
          -0.23078711464509674,
          -0.2012636726028874,
          -0.05769961034277133,
          -0.16059717721051026,
          -0.13999295651430924,
          0.3798086400997151,
          -0.13093873607642428,
          -0.13133061675030427,
          -0.13356689640264405,
          -0.16373938187400497,
          -0.16101890046981285,
          -0.16279137378565356,
          -0.1895690560614129,
          -0.13926903439605243,
          -0.12013130595207118,
          -0.1381369882034675,
          0.5309527772143943,
          -0.10719321101858212,
          -0.08180436517973583,
          -0.14839944753822443,
          -0.13978308597129716,
          0.5508695562224972,
          -0.2130498786633194,
          -0.16492388787387233,
          -0.16287959247994624,
          -0.136178986064534,
          -0.1368851260860208,
          -0.14567426615031273,
          0.32162806289904194,
          -0.16307961701139653
         ],
         "y": [
          -1.3401851327400003,
          -2.0462742996899843,
          -1.1490946472808952,
          -2.254926084034877,
          -2.046362453688592,
          -2.0331141302507936,
          -1.80758083410741,
          -1.1490964324402957,
          -0.8600692878968724,
          -1.1491118028831206,
          -1.8042813083637628,
          -1.315558675435418,
          -1.3401722732020378,
          -1.149133128958142,
          -1.1491298723142447,
          -0.4381166993840125,
          -1.23637777009045,
          -1.1490941491483386,
          -1.1490956949340998,
          -1.149093565821694,
          -0.86007154676517,
          -1.8033558160474144,
          -1.339750857350687,
          -1.148572242766794,
          -1.1490887394915006,
          -1.149109025323127,
          -1.1490942263416721,
          -1.14909454956858,
          -1.6387813742268256,
          -1.149256931524515,
          -1.149087240187031,
          -1.1491004140256431,
          -1.1423394087954686,
          -1.3401835262037782,
          -1.149128379568747,
          -1.1490891108091708,
          -1.149090283457859,
          -1.1490890837124086,
          -2.1842614308081805,
          -1.1490916455774636,
          -1.1543908564966887,
          -1.340186753806902,
          -1.149066304296529,
          -1.1490988020537518,
          -1.1491863346773659,
          -1.149099452218722,
          -1.340283893065401,
          -1.3401833983081493,
          -1.3401916920647754,
          -1.3402186603746085,
          -1.3401851431691882,
          -0.8600656688956316,
          -1.1490884682769422,
          -1.2491881401568852,
          -1.1491445561776281,
          -1.3401847315641195,
          -2.2999499560340952,
          -2.314322222772926,
          -1.149101183837004,
          -1.1496077022012419,
          -1.1490925239504903,
          -1.1490913061217392,
          -1.1490822603083843,
          -1.149121123801594,
          -2.100561679824846,
          -1.8042389188983472,
          -1.462786844632419,
          -1.1490865691611432,
          -1.1510830998744301,
          -2.1803530232926738,
          -1.149090213103496,
          -1.3401879089963162,
          -1.1889732725093982,
          -0.8600642180394903,
          -2.1786660249917063,
          -1.340200950156741,
          -0.8600673264174493,
          -1.1491648559990955,
          -1.1491602213557774,
          -2.0463310054578816,
          -2.1628034391920283,
          -0.8600651569001514,
          -1.3401835728792333,
          -1.149074606609324,
          -2.0723477241417085,
          -1.1490911941513358,
          -1.338515428387251,
          -0.8600797790225896,
          -2.182787108810242,
          -1.1491629181483658,
          -2.0701839193876905,
          -1.149095591221454,
          -0.860070183125092,
          -1.1490902133293412,
          -0.8600764200065975,
          -1.403582324686421,
          -2.3134963468326215,
          -1.340186185361605,
          -1.8042841653684203,
          -1.1491175985912603,
          -1.340185122040714,
          -1.149097615534761,
          -2.2076454324021473,
          -2.0463270551759773,
          -2.0331150292449314,
          -1.1533256454881224,
          -0.8598644064535199,
          -0.8601339466178048,
          -2.313504592685915,
          -1.149090981743289,
          -2.3135020698265643,
          -2.178647868573096,
          -0.9031446196434814,
          -2.2550094497285973,
          -1.149090133175227,
          -0.8604843564543463,
          -2.0331126306193417,
          -1.1490828851819381,
          -2.1786441682372377,
          -2.334230668301994,
          -1.1507917414073934,
          -0.6066381601140984,
          -1.1490953565472197,
          -1.3405994366146812,
          -1.1491145253582769,
          -2.2549452681377793,
          -2.254276988987829,
          -2.179698782809267,
          -2.1710458000751522,
          -2.3134437127010536,
          -0.8600917811306578,
          -1.1490894034580061,
          -1.1491201471619386,
          -0.8600790621856029,
          -0.860073143082416,
          -2.313512200634164,
          -2.1852092121608733,
          -1.1529527408684357,
          -1.1305870810824865,
          -0.8604809214127711,
          -1.3401850979820744,
          -1.1536418835207651,
          -1.0764360046762027,
          -1.1490939993879672,
          -1.1491178069005428,
          -1.1491170243203874,
          -1.1491164808131942,
          -2.313529974914955,
          -2.0395647996830353,
          -0.8594734225123964,
          -1.6387513165799668,
          -2.03310914157247,
          -2.182827494127927,
          -1.1490828107055655,
          -0.8601289932230174,
          -1.6387579973608342,
          -2.046443910818721,
          -1.6387525508547964,
          -1.8043133749146887,
          -2.340548372351772,
          -2.3134991185667215,
          -2.050399485416261,
          -0.8602639091028843,
          -2.255143933468348,
          -1.1492438122064632,
          -1.2482476253820312,
          -0.8600727172391599,
          -1.6387468451577238,
          -1.6388061722765428,
          -1.1490948964403562,
          -0.8600719457475169,
          -1.3401836337608117,
          -1.1419802240576087,
          -2.72000989865419,
          -2.2031663566666353,
          -2.3135736016288964,
          -1.1483448941390133,
          -2.1827658251411486,
          -1.249327507315689,
          -1.1491012765208548,
          -1.1497077656253591,
          -0.8601756886716673,
          -2.049021034183857,
          -2.3138888286119363,
          -1.149097295155537,
          -2.1892644817367635,
          -2.0331028712529866,
          -2.2077561634688805,
          -0.8600934767479234,
          -2.3134958251646873,
          -0.6066207848908178,
          -2.178653289442098,
          -2.281101449726084,
          -2.2076410027505555,
          -2.3137560501854577,
          -2.251338898956307,
          -2.3722825030880923,
          -2.1784312260971874,
          -2.3136449468335734,
          -1.2270507281869294,
          -2.2208853281786247,
          -0.8600728493092595,
          -1.149099122430101,
          -2.2556855526780977,
          -2.1603126574497895,
          -0.8945657365141502,
          -2.2806757095719123,
          -1.3400286101851249,
          -0.860074571746021,
          -1.227083682221582,
          -2.03425182487021,
          -2.2076694881138725,
          -1.3401850995443214,
          -2.3160502052922447,
          -2.2464497114959925,
          -2.2464078286888003,
          -2.2933204295147678,
          -1.1491243543267926,
          -2.0332045733050177,
          -2.0331093890849083,
          -1.4628268627307193,
          -1.3401863138203225,
          -0.30919209749653714,
          -1.3402149792787952,
          -1.1915895077523357,
          -1.6385326506572606,
          -2.249427656741962,
          -1.1491273862808458,
          -1.3401916658834943,
          -1.1557357472715937,
          -1.2363748078853156,
          -1.1490898598937267,
          -1.1491337553211056,
          -1.8042715201296788,
          -2.071828286758696,
          -2.0463271831994727,
          -2.313604998350754,
          -2.0331141742064744
         ],
         "z": [
          0.17783546291381438,
          0.3796154388035936,
          -0.013060069431430496,
          0.4427670852720226,
          0.37960570489825823,
          0.3635630827230519,
          0.34166486728005263,
          -0.013048347889671675,
          0.04273084195704634,
          -0.01305117657880424,
          0.3440034347051516,
          -0.029201934210660703,
          0.17780508395013886,
          -0.01307749133245403,
          -0.013051923279131883,
          0.017802622367771102,
          0.12122480311928553,
          -0.013053874145806109,
          -0.013048577813602302,
          -0.013047848615769145,
          0.04273190062329654,
          0.3411354343657866,
          0.17398212784711917,
          -0.015600547501416765,
          -0.013050746232946078,
          -0.01309383018132645,
          -0.013050985104932368,
          -0.01304720445983628,
          0.2598242436420783,
          -0.013246352903161748,
          -0.013059897545205354,
          -0.013056188475208232,
          -0.031207524224573343,
          0.17783496206226396,
          -0.013081704904795861,
          -0.013050453249185023,
          -0.013046782470523315,
          -0.013054360586731461,
          0.4653507658880165,
          -0.01304789079058261,
          -0.014052377784830247,
          0.1778359682954329,
          -0.01311374283557234,
          -0.013047609142196888,
          -0.013060903989646705,
          -0.013052758560142602,
          0.17771260059243899,
          0.17783031228973176,
          0.1778337861723764,
          0.17783545932985986,
          0.17783914352726699,
          0.0427332581474921,
          -0.01305118523096472,
          0.2184761092753309,
          -0.013076661707168178,
          0.17783108450933569,
          0.3332083501113293,
          0.3686085440244523,
          -0.013061774537868798,
          -0.013182966865608488,
          -0.013075332031806573,
          -0.013046690136278693,
          -0.0130774000695347,
          -0.013214150744778873,
          0.33728161623939196,
          0.3443446639589895,
          0.18066057666143126,
          -0.01304829866055335,
          -0.014197488159549057,
          0.39895751389606393,
          -0.013046674939338249,
          0.17783632843571676,
          -0.016917125346187088,
          0.04272695749570612,
          0.34807764956551673,
          0.1778345883286893,
          0.04273005322661566,
          -0.013060553795853984,
          -0.01306904504334065,
          0.3796301211268023,
          0.46997843862165983,
          0.04273026297218783,
          0.17783497661374062,
          -0.013088647289766182,
          0.23166971589190385,
          -0.01306114597441285,
          0.17348598142835545,
          0.042722770431006564,
          0.37708923535016853,
          -0.013053734327148781,
          0.3356108424406364,
          -0.013048432924647775,
          0.042730234940840786,
          -0.013046674331945576,
          0.04273217934255328,
          0.4008102573774496,
          0.3701215205198104,
          0.17783778730932576,
          0.3441461032154614,
          -0.013073471945152007,
          0.17783729590254985,
          -0.013049574050159187,
          0.35049305716480267,
          0.37962724157724187,
          0.3635633629922446,
          -0.013498355182913169,
          0.04258190170771029,
          0.04271413764037246,
          0.370122141790893,
          -0.013046806555864576,
          0.37012064637861347,
          0.3480818762161049,
          0.03844126655805659,
          0.44276028912795656,
          -0.013047185539191318,
          0.04268656534447755,
          0.36356332408905856,
          -0.013066571923722303,
          0.3480787731592949,
          0.3101431135672575,
          -0.01322498807164378,
          0.006029086541450914,
          -0.01305125664685725,
          0.17752529172501647,
          -0.013051745601789058,
          0.4427544577437605,
          0.44805284169796666,
          0.47518540240225854,
          0.3333079458960142,
          0.36975243906103566,
          0.04272367663563868,
          -0.013050233846237387,
          -0.01305052462271412,
          0.04272680028531304,
          0.04273223878895331,
          0.3701186652996672,
          0.42683902733059276,
          -0.04728684234470773,
          0.03708248120146462,
          0.04266777221377646,
          0.17783545207773205,
          -0.013488376377107746,
          -0.035697142557133,
          -0.013048929192494957,
          -0.013052849219842571,
          -0.013055928752257836,
          -0.013056098195322755,
          0.3701180234974612,
          0.3618561887087376,
          0.04222962013649709,
          0.2598696345917099,
          0.3635615274594693,
          0.3770794414563564,
          -0.013066595142375298,
          0.04269097226003864,
          0.2598685273820606,
          0.379618694303822,
          0.25986916872066895,
          0.3442509095686892,
          0.36349310271797847,
          0.37012194157620076,
          0.37912927842615507,
          0.042697588998015644,
          0.44265787133459567,
          -0.013884790646107377,
          0.11911384002066515,
          0.042731946528596534,
          0.2598693039207886,
          0.25980291019644347,
          -0.013056447308452627,
          0.042731138898151506,
          0.17783514339747036,
          0.053119942998065064,
          0.3196351378631707,
          0.48309840757180733,
          0.37008783091086195,
          -0.01505114746295636,
          0.3770701944236198,
          0.2183395003672837,
          -0.013050204928784,
          -0.01611616453268809,
          0.04267894662952512,
          0.37931981227903144,
          0.37006843006126044,
          -0.013048078930739029,
          0.42885512547574134,
          0.3635508887420451,
          0.35047820440799793,
          0.042724205258975946,
          0.3701198692182721,
          0.006028499326673018,
          0.3480806810401665,
          0.48394857285342596,
          0.3504936079053563,
          0.3700979240546533,
          0.4490581826292924,
          0.35584148770850504,
          0.3470737512843867,
          0.3699923978090676,
          0.21086704276845017,
          0.31700010365510106,
          0.0427317750358701,
          -0.013047705139316539,
          0.4426937172163429,
          0.32751280024358953,
          -0.0516333907968343,
          0.4255385784455252,
          0.1774182205593492,
          0.04273160313134484,
          0.21086350655238376,
          0.3625746012840472,
          0.3504894626268606,
          0.1778354525647762,
          0.36948752426381926,
          0.3847725052159993,
          0.38477360638879227,
          0.4068947505993575,
          -0.013057188004770745,
          0.3635484267824686,
          0.36355985260426954,
          0.18065533042263723,
          0.17782821056828926,
          -0.07954034126268403,
          0.1778187161568402,
          -0.017182547232879396,
          0.2590973595296085,
          0.3844789791127417,
          -0.013212198362747753,
          0.17783377801013542,
          -0.019835875842999895,
          0.12122015795860518,
          -0.013047561381580643,
          -0.013065244944161234,
          0.34435433145226835,
          0.4449504020698898,
          0.379627585885754,
          0.3699090151656303,
          0.36356309642661566
         ]
        },
        {
         "customdata": [
          [
           "Proof-of-BibleHash"
          ],
          [
           "SHA-256 + Hive"
          ],
          [
           "Proof-of-Authority"
          ],
          [
           "ECC 256K1"
          ],
          [
           "Leased POS"
          ]
         ],
         "hovertemplate": "<b>%{hovertext}</b><br><br>Class=%{marker.color}<br>PC1=%{x}<br>PC2=%{y}<br>PC3=%{z}<br>Algorithm=%{customdata[0]}<extra></extra>",
         "hovertext": [
          "BiblePay",
          "LitecoinCash",
          "Poa Network",
          "Acute Angle Cloud",
          "Waves"
         ],
         "legendgroup": "1",
         "marker": {
          "color": [
           1,
           1,
           1,
           1,
           1
          ],
          "coloraxis": "coloraxis",
          "symbol": "square"
         },
         "mode": "markers",
         "name": "1",
         "scene": "scene",
         "showlegend": true,
         "type": "scatter3d",
         "x": [
          -0.20252771006028106,
          -0.33913975693072385,
          -0.43102706355384046,
          -0.3642841455246353,
          -0.45042144823114405
         ],
         "y": [
          2.824437667951647,
          3.329166803630722,
          3.1622339442321725,
          2.6899394376131274,
          3.5007920445573637
         ],
         "z": [
          10.80135120322557,
          21.76773194103727,
          11.598337139375843,
          13.770719105221986,
          9.263603350106319
         ]
        },
        {
         "customdata": [
          [
           "TRC10"
          ]
         ],
         "hovertemplate": "<b>%{hovertext}</b><br><br>Class=%{marker.color}<br>PC1=%{x}<br>PC2=%{y}<br>PC3=%{z}<br>Algorithm=%{customdata[0]}<extra></extra>",
         "hovertext": [
          "BitTorrent"
         ],
         "legendgroup": "2",
         "marker": {
          "color": [
           2
          ],
          "coloraxis": "coloraxis",
          "symbol": "x"
         },
         "mode": "markers",
         "name": "2",
         "scene": "scene",
         "showlegend": true,
         "type": "scatter3d",
         "x": [
          34.06442651481399
         ],
         "y": [
          1.9038206456427704
         ],
         "z": [
          -0.3124914351366916
         ]
        }
       ],
       "layout": {
        "coloraxis": {
         "colorbar": {
          "title": {
           "text": "Class"
          }
         },
         "colorscale": [
          [
           0,
           "#0d0887"
          ],
          [
           0.1111111111111111,
           "#46039f"
          ],
          [
           0.2222222222222222,
           "#7201a8"
          ],
          [
           0.3333333333333333,
           "#9c179e"
          ],
          [
           0.4444444444444444,
           "#bd3786"
          ],
          [
           0.5555555555555556,
           "#d8576b"
          ],
          [
           0.6666666666666666,
           "#ed7953"
          ],
          [
           0.7777777777777778,
           "#fb9f3a"
          ],
          [
           0.8888888888888888,
           "#fdca26"
          ],
          [
           1,
           "#f0f921"
          ]
         ]
        },
        "legend": {
         "title": {
          "text": "Class"
         },
         "tracegroupgap": 0,
         "x": 0,
         "y": 1
        },
        "margin": {
         "t": 60
        },
        "scene": {
         "domain": {
          "x": [
           0,
           1
          ],
          "y": [
           0,
           1
          ]
         },
         "xaxis": {
          "title": {
           "text": "PC1"
          }
         },
         "yaxis": {
          "title": {
           "text": "PC2"
          }
         },
         "zaxis": {
          "title": {
           "text": "PC3"
          }
         }
        },
        "template": {
         "data": {
          "bar": [
           {
            "error_x": {
             "color": "#2a3f5f"
            },
            "error_y": {
             "color": "#2a3f5f"
            },
            "marker": {
             "line": {
              "color": "#E5ECF6",
              "width": 0.5
             },
             "pattern": {
              "fillmode": "overlay",
              "size": 10,
              "solidity": 0.2
             }
            },
            "type": "bar"
           }
          ],
          "barpolar": [
           {
            "marker": {
             "line": {
              "color": "#E5ECF6",
              "width": 0.5
             },
             "pattern": {
              "fillmode": "overlay",
              "size": 10,
              "solidity": 0.2
             }
            },
            "type": "barpolar"
           }
          ],
          "carpet": [
           {
            "aaxis": {
             "endlinecolor": "#2a3f5f",
             "gridcolor": "white",
             "linecolor": "white",
             "minorgridcolor": "white",
             "startlinecolor": "#2a3f5f"
            },
            "baxis": {
             "endlinecolor": "#2a3f5f",
             "gridcolor": "white",
             "linecolor": "white",
             "minorgridcolor": "white",
             "startlinecolor": "#2a3f5f"
            },
            "type": "carpet"
           }
          ],
          "choropleth": [
           {
            "colorbar": {
             "outlinewidth": 0,
             "ticks": ""
            },
            "type": "choropleth"
           }
          ],
          "contour": [
           {
            "colorbar": {
             "outlinewidth": 0,
             "ticks": ""
            },
            "colorscale": [
             [
              0,
              "#0d0887"
             ],
             [
              0.1111111111111111,
              "#46039f"
             ],
             [
              0.2222222222222222,
              "#7201a8"
             ],
             [
              0.3333333333333333,
              "#9c179e"
             ],
             [
              0.4444444444444444,
              "#bd3786"
             ],
             [
              0.5555555555555556,
              "#d8576b"
             ],
             [
              0.6666666666666666,
              "#ed7953"
             ],
             [
              0.7777777777777778,
              "#fb9f3a"
             ],
             [
              0.8888888888888888,
              "#fdca26"
             ],
             [
              1,
              "#f0f921"
             ]
            ],
            "type": "contour"
           }
          ],
          "contourcarpet": [
           {
            "colorbar": {
             "outlinewidth": 0,
             "ticks": ""
            },
            "type": "contourcarpet"
           }
          ],
          "heatmap": [
           {
            "colorbar": {
             "outlinewidth": 0,
             "ticks": ""
            },
            "colorscale": [
             [
              0,
              "#0d0887"
             ],
             [
              0.1111111111111111,
              "#46039f"
             ],
             [
              0.2222222222222222,
              "#7201a8"
             ],
             [
              0.3333333333333333,
              "#9c179e"
             ],
             [
              0.4444444444444444,
              "#bd3786"
             ],
             [
              0.5555555555555556,
              "#d8576b"
             ],
             [
              0.6666666666666666,
              "#ed7953"
             ],
             [
              0.7777777777777778,
              "#fb9f3a"
             ],
             [
              0.8888888888888888,
              "#fdca26"
             ],
             [
              1,
              "#f0f921"
             ]
            ],
            "type": "heatmap"
           }
          ],
          "heatmapgl": [
           {
            "colorbar": {
             "outlinewidth": 0,
             "ticks": ""
            },
            "colorscale": [
             [
              0,
              "#0d0887"
             ],
             [
              0.1111111111111111,
              "#46039f"
             ],
             [
              0.2222222222222222,
              "#7201a8"
             ],
             [
              0.3333333333333333,
              "#9c179e"
             ],
             [
              0.4444444444444444,
              "#bd3786"
             ],
             [
              0.5555555555555556,
              "#d8576b"
             ],
             [
              0.6666666666666666,
              "#ed7953"
             ],
             [
              0.7777777777777778,
              "#fb9f3a"
             ],
             [
              0.8888888888888888,
              "#fdca26"
             ],
             [
              1,
              "#f0f921"
             ]
            ],
            "type": "heatmapgl"
           }
          ],
          "histogram": [
           {
            "marker": {
             "pattern": {
              "fillmode": "overlay",
              "size": 10,
              "solidity": 0.2
             }
            },
            "type": "histogram"
           }
          ],
          "histogram2d": [
           {
            "colorbar": {
             "outlinewidth": 0,
             "ticks": ""
            },
            "colorscale": [
             [
              0,
              "#0d0887"
             ],
             [
              0.1111111111111111,
              "#46039f"
             ],
             [
              0.2222222222222222,
              "#7201a8"
             ],
             [
              0.3333333333333333,
              "#9c179e"
             ],
             [
              0.4444444444444444,
              "#bd3786"
             ],
             [
              0.5555555555555556,
              "#d8576b"
             ],
             [
              0.6666666666666666,
              "#ed7953"
             ],
             [
              0.7777777777777778,
              "#fb9f3a"
             ],
             [
              0.8888888888888888,
              "#fdca26"
             ],
             [
              1,
              "#f0f921"
             ]
            ],
            "type": "histogram2d"
           }
          ],
          "histogram2dcontour": [
           {
            "colorbar": {
             "outlinewidth": 0,
             "ticks": ""
            },
            "colorscale": [
             [
              0,
              "#0d0887"
             ],
             [
              0.1111111111111111,
              "#46039f"
             ],
             [
              0.2222222222222222,
              "#7201a8"
             ],
             [
              0.3333333333333333,
              "#9c179e"
             ],
             [
              0.4444444444444444,
              "#bd3786"
             ],
             [
              0.5555555555555556,
              "#d8576b"
             ],
             [
              0.6666666666666666,
              "#ed7953"
             ],
             [
              0.7777777777777778,
              "#fb9f3a"
             ],
             [
              0.8888888888888888,
              "#fdca26"
             ],
             [
              1,
              "#f0f921"
             ]
            ],
            "type": "histogram2dcontour"
           }
          ],
          "mesh3d": [
           {
            "colorbar": {
             "outlinewidth": 0,
             "ticks": ""
            },
            "type": "mesh3d"
           }
          ],
          "parcoords": [
           {
            "line": {
             "colorbar": {
              "outlinewidth": 0,
              "ticks": ""
             }
            },
            "type": "parcoords"
           }
          ],
          "pie": [
           {
            "automargin": true,
            "type": "pie"
           }
          ],
          "scatter": [
           {
            "marker": {
             "colorbar": {
              "outlinewidth": 0,
              "ticks": ""
             }
            },
            "type": "scatter"
           }
          ],
          "scatter3d": [
           {
            "line": {
             "colorbar": {
              "outlinewidth": 0,
              "ticks": ""
             }
            },
            "marker": {
             "colorbar": {
              "outlinewidth": 0,
              "ticks": ""
             }
            },
            "type": "scatter3d"
           }
          ],
          "scattercarpet": [
           {
            "marker": {
             "colorbar": {
              "outlinewidth": 0,
              "ticks": ""
             }
            },
            "type": "scattercarpet"
           }
          ],
          "scattergeo": [
           {
            "marker": {
             "colorbar": {
              "outlinewidth": 0,
              "ticks": ""
             }
            },
            "type": "scattergeo"
           }
          ],
          "scattergl": [
           {
            "marker": {
             "colorbar": {
              "outlinewidth": 0,
              "ticks": ""
             }
            },
            "type": "scattergl"
           }
          ],
          "scattermapbox": [
           {
            "marker": {
             "colorbar": {
              "outlinewidth": 0,
              "ticks": ""
             }
            },
            "type": "scattermapbox"
           }
          ],
          "scatterpolar": [
           {
            "marker": {
             "colorbar": {
              "outlinewidth": 0,
              "ticks": ""
             }
            },
            "type": "scatterpolar"
           }
          ],
          "scatterpolargl": [
           {
            "marker": {
             "colorbar": {
              "outlinewidth": 0,
              "ticks": ""
             }
            },
            "type": "scatterpolargl"
           }
          ],
          "scatterternary": [
           {
            "marker": {
             "colorbar": {
              "outlinewidth": 0,
              "ticks": ""
             }
            },
            "type": "scatterternary"
           }
          ],
          "surface": [
           {
            "colorbar": {
             "outlinewidth": 0,
             "ticks": ""
            },
            "colorscale": [
             [
              0,
              "#0d0887"
             ],
             [
              0.1111111111111111,
              "#46039f"
             ],
             [
              0.2222222222222222,
              "#7201a8"
             ],
             [
              0.3333333333333333,
              "#9c179e"
             ],
             [
              0.4444444444444444,
              "#bd3786"
             ],
             [
              0.5555555555555556,
              "#d8576b"
             ],
             [
              0.6666666666666666,
              "#ed7953"
             ],
             [
              0.7777777777777778,
              "#fb9f3a"
             ],
             [
              0.8888888888888888,
              "#fdca26"
             ],
             [
              1,
              "#f0f921"
             ]
            ],
            "type": "surface"
           }
          ],
          "table": [
           {
            "cells": {
             "fill": {
              "color": "#EBF0F8"
             },
             "line": {
              "color": "white"
             }
            },
            "header": {
             "fill": {
              "color": "#C8D4E3"
             },
             "line": {
              "color": "white"
             }
            },
            "type": "table"
           }
          ]
         },
         "layout": {
          "annotationdefaults": {
           "arrowcolor": "#2a3f5f",
           "arrowhead": 0,
           "arrowwidth": 1
          },
          "autotypenumbers": "strict",
          "coloraxis": {
           "colorbar": {
            "outlinewidth": 0,
            "ticks": ""
           }
          },
          "colorscale": {
           "diverging": [
            [
             0,
             "#8e0152"
            ],
            [
             0.1,
             "#c51b7d"
            ],
            [
             0.2,
             "#de77ae"
            ],
            [
             0.3,
             "#f1b6da"
            ],
            [
             0.4,
             "#fde0ef"
            ],
            [
             0.5,
             "#f7f7f7"
            ],
            [
             0.6,
             "#e6f5d0"
            ],
            [
             0.7,
             "#b8e186"
            ],
            [
             0.8,
             "#7fbc41"
            ],
            [
             0.9,
             "#4d9221"
            ],
            [
             1,
             "#276419"
            ]
           ],
           "sequential": [
            [
             0,
             "#0d0887"
            ],
            [
             0.1111111111111111,
             "#46039f"
            ],
            [
             0.2222222222222222,
             "#7201a8"
            ],
            [
             0.3333333333333333,
             "#9c179e"
            ],
            [
             0.4444444444444444,
             "#bd3786"
            ],
            [
             0.5555555555555556,
             "#d8576b"
            ],
            [
             0.6666666666666666,
             "#ed7953"
            ],
            [
             0.7777777777777778,
             "#fb9f3a"
            ],
            [
             0.8888888888888888,
             "#fdca26"
            ],
            [
             1,
             "#f0f921"
            ]
           ],
           "sequentialminus": [
            [
             0,
             "#0d0887"
            ],
            [
             0.1111111111111111,
             "#46039f"
            ],
            [
             0.2222222222222222,
             "#7201a8"
            ],
            [
             0.3333333333333333,
             "#9c179e"
            ],
            [
             0.4444444444444444,
             "#bd3786"
            ],
            [
             0.5555555555555556,
             "#d8576b"
            ],
            [
             0.6666666666666666,
             "#ed7953"
            ],
            [
             0.7777777777777778,
             "#fb9f3a"
            ],
            [
             0.8888888888888888,
             "#fdca26"
            ],
            [
             1,
             "#f0f921"
            ]
           ]
          },
          "colorway": [
           "#636efa",
           "#EF553B",
           "#00cc96",
           "#ab63fa",
           "#FFA15A",
           "#19d3f3",
           "#FF6692",
           "#B6E880",
           "#FF97FF",
           "#FECB52"
          ],
          "font": {
           "color": "#2a3f5f"
          },
          "geo": {
           "bgcolor": "white",
           "lakecolor": "white",
           "landcolor": "#E5ECF6",
           "showlakes": true,
           "showland": true,
           "subunitcolor": "white"
          },
          "hoverlabel": {
           "align": "left"
          },
          "hovermode": "closest",
          "mapbox": {
           "style": "light"
          },
          "paper_bgcolor": "white",
          "plot_bgcolor": "#E5ECF6",
          "polar": {
           "angularaxis": {
            "gridcolor": "white",
            "linecolor": "white",
            "ticks": ""
           },
           "bgcolor": "#E5ECF6",
           "radialaxis": {
            "gridcolor": "white",
            "linecolor": "white",
            "ticks": ""
           }
          },
          "scene": {
           "xaxis": {
            "backgroundcolor": "#E5ECF6",
            "gridcolor": "white",
            "gridwidth": 2,
            "linecolor": "white",
            "showbackground": true,
            "ticks": "",
            "zerolinecolor": "white"
           },
           "yaxis": {
            "backgroundcolor": "#E5ECF6",
            "gridcolor": "white",
            "gridwidth": 2,
            "linecolor": "white",
            "showbackground": true,
            "ticks": "",
            "zerolinecolor": "white"
           },
           "zaxis": {
            "backgroundcolor": "#E5ECF6",
            "gridcolor": "white",
            "gridwidth": 2,
            "linecolor": "white",
            "showbackground": true,
            "ticks": "",
            "zerolinecolor": "white"
           }
          },
          "shapedefaults": {
           "line": {
            "color": "#2a3f5f"
           }
          },
          "ternary": {
           "aaxis": {
            "gridcolor": "white",
            "linecolor": "white",
            "ticks": ""
           },
           "baxis": {
            "gridcolor": "white",
            "linecolor": "white",
            "ticks": ""
           },
           "bgcolor": "#E5ECF6",
           "caxis": {
            "gridcolor": "white",
            "linecolor": "white",
            "ticks": ""
           }
          },
          "title": {
           "x": 0.05
          },
          "xaxis": {
           "automargin": true,
           "gridcolor": "white",
           "linecolor": "white",
           "ticks": "",
           "title": {
            "standoff": 15
           },
           "zerolinecolor": "white",
           "zerolinewidth": 2
          },
          "yaxis": {
           "automargin": true,
           "gridcolor": "white",
           "linecolor": "white",
           "ticks": "",
           "title": {
            "standoff": 15
           },
           "zerolinecolor": "white",
           "zerolinewidth": 2
          }
         }
        },
        "width": 800
       }
      },
      "text/html": [
       "<div>                            <div id=\"d5aa2626-e8e4-40af-a382-02a0d6a825d7\" class=\"plotly-graph-div\" style=\"height:525px; width:800px;\"></div>            <script type=\"text/javascript\">                require([\"plotly\"], function(Plotly) {                    window.PLOTLYENV=window.PLOTLYENV || {};                                    if (document.getElementById(\"d5aa2626-e8e4-40af-a382-02a0d6a825d7\")) {                    Plotly.newPlot(                        \"d5aa2626-e8e4-40af-a382-02a0d6a825d7\",                        [{\"customdata\":[[\"Scrypt\"],[\"Scrypt\"],[\"X13\"],[\"X11\"],[\"SHA-512\"],[\"SHA-256\"],[\"SHA-256\"],[\"X15\"],[\"Scrypt\"],[\"Scrypt\"],[\"Scrypt\"],[\"Scrypt\"],[\"Scrypt\"],[\"Scrypt\"],[\"Groestl\"],[\"PoS\"],[\"Scrypt\"],[\"Scrypt\"],[\"X11\"],[\"X11\"],[\"SHA3\"],[\"Scrypt\"],[\"SHA-256\"],[\"Scrypt\"],[\"X13\"],[\"X13\"],[\"NeoScrypt\"],[\"Scrypt\"],[\"Scrypt\"],[\"Scrypt\"],[\"X11\"],[\"X11\"],[\"Multiple\"],[\"PHI1612\"],[\"X11\"],[\"Scrypt\"],[\"Scrypt\"],[\"Scrypt\"],[\"X11\"],[\"Multiple\"],[\"X13\"],[\"Scrypt\"],[\"Shabal256\"],[\"Counterparty\"],[\"SHA-256\"],[\"Groestl\"],[\"Scrypt\"],[\"X13\"],[\"Scrypt\"],[\"Scrypt\"],[\"X13\"],[\"X11\"],[\"Scrypt\"],[\"X11\"],[\"SHA3\"],[\"QUAIT\"],[\"X11\"],[\"Scrypt\"],[\"X13\"],[\"SHA-256\"],[\"X15\"],[\"BLAKE256\"],[\"SHA-256\"],[\"X11\"],[\"SHA-256\"],[\"NIST5\"],[\"Scrypt\"],[\"Scrypt\"],[\"X11\"],[\"Scrypt\"],[\"SHA-256\"],[\"Scrypt\"],[\"PoS\"],[\"X11\"],[\"SHA-256\"],[\"SHA-256\"],[\"NIST5\"],[\"X11\"],[\"POS 3.0\"],[\"Scrypt\"],[\"Scrypt\"],[\"Scrypt\"],[\"X13\"],[\"X11\"],[\"X11\"],[\"Scrypt\"],[\"SHA-256\"],[\"X11\"],[\"Scrypt\"],[\"Scrypt\"],[\"Scrypt\"],[\"Scrypt\"],[\"SHA-256D\"],[\"PoS\"],[\"Scrypt\"],[\"X11\"],[\"PoS\"],[\"X13\"],[\"X14\"],[\"PoS\"],[\"SHA-256D\"],[\"DPoS\"],[\"X11\"],[\"X13\"],[\"X11\"],[\"PoS\"],[\"Scrypt\"],[\"Scrypt\"],[\"PoS\"],[\"X11\"],[\"SHA-256\"],[\"Scrypt\"],[\"X11\"],[\"Scrypt\"],[\"Scrypt\"],[\"X11\"],[\"Scrypt\"],[\"Scrypt\"],[\"Scrypt\"],[\"Scrypt\"],[\"Quark\"],[\"QuBit\"],[\"Scrypt\"],[\"SHA-256\"],[\"X11\"],[\"Scrypt\"],[\"Scrypt\"],[\"Scrypt\"],[\"Scrypt\"],[\"X13\"],[\"Scrypt\"],[\"Scrypt\"],[\"X11\"],[\"Blake2S\"],[\"X11\"],[\"PoS\"],[\"X11\"],[\"PoS\"],[\"X11\"],[\"Scrypt\"],[\"Scrypt\"],[\"Scrypt\"],[\"SHA-256\"],[\"X11\"],[\"Scrypt\"],[\"PoS\"],[\"Scrypt\"],[\"X15\"],[\"SHA-256\"],[\"POS 3.0\"],[\"536\"],[\"NIST5\"],[\"NIST5\"],[\"Skein\"],[\"X13\"],[\"Scrypt\"],[\"X13\"],[\"SkunkHash v2 Raptor\"],[\"Skein\"],[\"X11\"],[\"Scrypt\"],[\"VeChainThor Authority\"],[\"PoS\"],[\"Scrypt\"],[\"Scrypt\"],[\"SHA-512\"],[\"Ouroboros\"],[\"X11\"],[\"NeoScrypt\"],[\"Scrypt\"],[\"Lyra2REv2\"],[\"Scrypt\"],[\"SHA-256\"],[\"NIST5\"],[\"PHI1612\"],[\"Scrypt\"],[\"Quark\"],[\"POS 2.0\"],[\"Scrypt\"],[\"SHA-256\"],[\"X11\"],[\"DPoS\"],[\"NIST5\"],[\"X13\"],[\"Scrypt\"],[\"NIST5\"],[\"Quark\"],[\"Scrypt\"],[\"Scrypt\"],[\"X11\"],[\"Quark\"],[\"Scrypt\"],[\"Scrypt\"],[\"X11\"],[\"POS 3.0\"],[\"Ethash\"],[\"Scrypt\"],[\"Scrypt\"],[\"X13\"],[\"C11\"],[\"X11\"],[\"XEVAN\"],[\"Scrypt\"],[\"VBFT\"],[\"NIST5\"],[\"Scrypt\"],[\"Scrypt\"],[\"Scrypt\"],[\"Green Protocol\"],[\"PoS\"],[\"Scrypt\"],[\"Semux BFT consensus\"],[\"Quark\"],[\"PoS\"],[\"X16R\"],[\"Scrypt\"],[\"XEVAN\"],[\"Scrypt\"],[\"Scrypt\"],[\"Scrypt\"],[\"SHA-256D\"],[\"Scrypt\"],[\"X15\"],[\"Scrypt\"],[\"Quark\"],[\"SHA-256\"],[\"DPoS\"],[\"X16R\"],[\"Quark\"],[\"Quark\"],[\"Scrypt\"],[\"Lyra2REv2\"],[\"Quark\"],[\"Scrypt\"],[\"X11\"],[\"X11\"],[\"Scrypt\"],[\"PoS\"],[\"Keccak\"],[\"X11\"],[\"Scrypt\"],[\"SHA-512\"],[\"XEVAN\"],[\"XEVAN\"],[\"X11\"],[\"Quark\"],[\"Equihash\"],[\"Scrypt\"],[\"Quark\"],[\"Quark\"],[\"Scrypt\"],[\"X11\"],[\"Scrypt\"],[\"XEVAN\"],[\"SHA-256D\"],[\"X11\"],[\"X11\"],[\"DPoS\"],[\"Scrypt\"],[\"X11\"],[\"Scrypt\"],[\"Scrypt\"],[\"SHA-256\"],[\"Scrypt\"],[\"X11\"],[\"Scrypt\"],[\"SHA-256\"],[\"X11\"],[\"Scrypt\"],[\"Scrypt\"],[\"X11\"],[\"Scrypt\"],[\"PoS\"],[\"X11\"],[\"SHA-256\"],[\"DPoS\"],[\"Scrypt\"],[\"Scrypt\"],[\"NeoScrypt\"],[\"X13\"],[\"DPoS\"],[\"DPoS\"],[\"SHA-256\"],[\"PoS\"],[\"PoS\"],[\"SHA-256\"],[\"Scrypt\"],[\"Scrypt\"]],\"hovertemplate\":\"<b>%{hovertext}</b><br><br>Class=%{marker.color}<br>PC1=%{x}<br>PC2=%{y}<br>PC3=%{z}<br>Algorithm=%{customdata[0]}<extra></extra>\",\"hovertext\":[\"42 Coin\",\"404Coin\",\"EliteCoin\",\"Dash\",\"Bitshares\",\"BitcoinDark\",\"PayCoin\",\"KoboCoin\",\"Aurora Coin\",\"BlueCoin\",\"EnergyCoin\",\"BitBar\",\"CryptoBullion\",\"CasinoCoin\",\"Diamond\",\"Exclusive Coin\",\"FlutterCoin\",\"HoboNickels\",\"HyperStake\",\"IOCoin\",\"MaxCoin\",\"MintCoin\",\"MazaCoin\",\"Nautilus Coin\",\"NavCoin\",\"OpalCoin\",\"Orbitcoin\",\"PotCoin\",\"PhoenixCoin\",\"Reddcoin\",\"SuperCoin\",\"SyncCoin\",\"TeslaCoin\",\"TittieCoin\",\"TorCoin\",\"UnitaryStatus Dollar\",\"UltraCoin\",\"VeriCoin\",\"X11 Coin\",\"Crypti\",\"StealthCoin\",\"ZCC Coin\",\"BurstCoin\",\"StorjCoin\",\"Neutron\",\"FairCoin\",\"RubyCoin\",\"Kore\",\"Dnotes\",\"8BIT Coin\",\"Sativa Coin\",\"Ucoin\",\"Vtorrent\",\"IslaCoin\",\"Nexus\",\"Droidz\",\"Squall Coin\",\"Diggits\",\"Paycon\",\"Emercoin\",\"EverGreenCoin\",\"Decred\",\"EDRCoin\",\"Hitcoin\",\"DubaiCoin\",\"PWR Coin\",\"BillaryCoin\",\"GPU Coin\",\"EuropeCoin\",\"ZeitCoin\",\"SwingCoin\",\"SafeExchangeCoin\",\"Nebuchadnezzar\",\"Ratecoin\",\"Revenu\",\"Clockcoin\",\"VIP Tokens\",\"BitSend\",\"Let it Ride\",\"PutinCoin\",\"iBankCoin\",\"Frankywillcoin\",\"MudraCoin\",\"Lutetium Coin\",\"GoldBlocks\",\"CarterCoin\",\"BitTokens\",\"MustangCoin\",\"ZoneCoin\",\"RootCoin\",\"BitCurrency\",\"Swiscoin\",\"BuzzCoin\",\"Opair\",\"PesoBit\",\"Halloween Coin\",\"CoffeeCoin\",\"RoyalCoin\",\"GanjaCoin V2\",\"TeamUP\",\"LanaCoin\",\"ARK\",\"InsaneCoin\",\"EmberCoin\",\"XenixCoin\",\"FreeCoin\",\"PLNCoin\",\"AquariusCoin\",\"Creatio\",\"Eternity\",\"Eurocoin\",\"BitcoinFast\",\"Stakenet\",\"BitConnect Coin\",\"MoneyCoin\",\"Enigma\",\"Russiacoin\",\"PandaCoin\",\"GameUnits\",\"GAKHcoin\",\"Allsafe\",\"LiteCreed\",\"Klingon Empire Darsek\",\"Internet of People\",\"KushCoin\",\"Printerium\",\"Impeach\",\"Zilbercoin\",\"FirstCoin\",\"FindCoin\",\"OpenChat\",\"RenosCoin\",\"VirtacoinPlus\",\"TajCoin\",\"Impact\",\"Atmos\",\"HappyCoin\",\"MacronCoin\",\"Condensate\",\"Independent Money System\",\"ArgusCoin\",\"LomoCoin\",\"ProCurrency\",\"GoldReserve\",\"GrowthCoin\",\"Phreak\",\"Degas Coin\",\"HTML5 Coin\",\"Ultimate Secure Cash\",\"QTUM\",\"Espers\",\"Denarius\",\"Virta Unique Coin\",\"Bitcoin Planet\",\"BritCoin\",\"Linda\",\"DeepOnion\",\"Signatum\",\"Cream\",\"Monoeci\",\"Draftcoin\",\"Vechain\",\"Stakecoin\",\"CoinonatX\",\"Ethereum Dark\",\"Obsidian\",\"Cardano\",\"Regalcoin\",\"TrezarCoin\",\"TerraNovaCoin\",\"Rupee\",\"WomenCoin\",\"Theresa May Coin\",\"NamoCoin\",\"LUXCoin\",\"Xios\",\"Bitcloud 2.0\",\"KekCoin\",\"BlackholeCoin\",\"Infinity Economics\",\"Magnet\",\"Lamden Tau\",\"Electra\",\"Bitcoin Diamond\",\"Cash & Back Coin\",\"Bulwark\",\"Kalkulus\",\"GermanCoin\",\"LiteCoin Ultra\",\"PhantomX\",\"Digiwage\",\"Trollcoin\",\"Litecoin Plus\",\"Monkey Project\",\"TokenPay\",\"1717 Masonic Commemorative Token\",\"My Big Coin\",\"Unified Society USDEX\",\"Tokyo Coin\",\"Stipend\",\"Pushi\",\"Ellerium\",\"Velox\",\"Ontology\",\"Bitspace\",\"Briacoin\",\"Ignition\",\"MedicCoin\",\"Bitcoin Green\",\"Deviant Coin\",\"Abjcoin\",\"Semux\",\"Carebit\",\"Zealium\",\"Proton\",\"iDealCash\",\"Bitcoin Incognito\",\"HollyWoodCoin\",\"Swisscoin\",\"Xt3ch\",\"TheVig\",\"EmaratCoin\",\"Dekado\",\"Lynx\",\"Poseidon Quark\",\"BitcoinWSpectrum\",\"Muse\",\"Trivechain\",\"Dystem\",\"Giant\",\"Peony Coin\",\"Absolute Coin\",\"Vitae\",\"TPCash\",\"ARENON\",\"EUNO\",\"MMOCoin\",\"Ketan\",\"XDNA\",\"PAXEX\",\"ThunderStake\",\"Kcash\",\"Bettex coin\",\"BitMoney\",\"Junson Ming Chan Coin\",\"HerbCoin\",\"PirateCash\",\"Oduwa\",\"Galilel\",\"Crypto Sports\",\"Credit\",\"Dash Platinum\",\"Nasdacoin\",\"Beetle Coin\",\"Titan Coin\",\"Award\",\"Insane Coin\",\"ALAX\",\"LiteDoge\",\"TruckCoin\",\"OrangeCoin\",\"BitstarCoin\",\"NeosCoin\",\"HyperCoin\",\"PinkCoin\",\"AudioCoin\",\"IncaKoin\",\"Piggy Coin\",\"Genstake\",\"XiaoMiCoin\",\"CapriCoin\",\" ClubCoin\",\"Radium\",\"Creditbit \",\"OKCash\",\"Lisk\",\"HiCoin\",\"WhiteCoin\",\"FriendshipCoin\",\"Triangles Coin\",\"EOS\",\"Oxycoin\",\"TigerCash\",\"Particl\",\"Nxt\",\"ZEPHYR\",\"Gapcoin\",\"BitcoinPlus\"],\"legendgroup\":\"0\",\"marker\":{\"color\":[0,0,0,0,0,0,0,0,0,0,0,0,0,0,0,0,0,0,0,0,0,0,0,0,0,0,0,0,0,0,0,0,0,0,0,0,0,0,0,0,0,0,0,0,0,0,0,0,0,0,0,0,0,0,0,0,0,0,0,0,0,0,0,0,0,0,0,0,0,0,0,0,0,0,0,0,0,0,0,0,0,0,0,0,0,0,0,0,0,0,0,0,0,0,0,0,0,0,0,0,0,0,0,0,0,0,0,0,0,0,0,0,0,0,0,0,0,0,0,0,0,0,0,0,0,0,0,0,0,0,0,0,0,0,0,0,0,0,0,0,0,0,0,0,0,0,0,0,0,0,0,0,0,0,0,0,0,0,0,0,0,0,0,0,0,0,0,0,0,0,0,0,0,0,0,0,0,0,0,0,0,0,0,0,0,0,0,0,0,0,0,0,0,0,0,0,0,0,0,0,0,0,0,0,0,0,0,0,0,0,0,0,0,0,0,0,0,0,0,0,0,0,0,0,0,0,0,0,0,0,0,0,0,0,0,0,0,0,0,0,0,0,0,0,0,0,0,0,0,0,0,0,0,0,0,0,0,0,0,0,0,0,0,0,0,0,0,0,0,0,0,0,0,0,0,0,0,0,0,0,0,0,0,0,0,0,0,0],\"coloraxis\":\"coloraxis\",\"symbol\":\"circle\"},\"mode\":\"markers\",\"name\":\"0\",\"scene\":\"scene\",\"showlegend\":true,\"x\":[-0.33600875542793657,-0.319344014244302,2.293279414225913,-0.4017469991603899,-0.25061427723253726,-0.3111776730880039,-0.2582544527868901,-0.24866051176389364,-0.33566829999385583,-0.3282440133058763,-0.33450495536610897,-0.3360046921202429,-0.3359889708444434,0.6767938029377797,-0.38560603156223705,-0.34073438612729817,-0.24261711341254985,-0.334067419993826,-0.3286424119971588,-0.4016416692690158,-0.3951571501762443,-0.022941860704676922,-0.2744822675601659,-0.28283664071160763,-0.2903406097636757,-0.2909629723163168,-0.35320210275587366,-0.33031089106343814,-0.3344104037736625,0.022221148242352322,-0.3485339285964591,-0.4020132656479337,-0.25267799943070407,-0.2925508153150931,-0.4019249140764012,-0.31123961165524633,-0.3346861314834305,-0.28083975651274046,-0.40188936758983873,-0.25314554787339183,-0.2907437816347968,-0.32711273430657245,0.02777262287831748,-0.3211916320242813,-0.31038933383993467,-0.38502743829949726,-0.2828168457947368,-0.2910384143752844,-0.27747108999709214,-0.3359908195385837,-0.2909905819060977,-0.3489789440948902,-0.3357251967770994,-0.4019947899820114,-0.3566251460087724,-0.44077149362108065,-0.3647585869524905,-0.2812182946649159,-0.290512223511385,-0.303735555632269,-0.25110157011246853,-0.06509105754747545,-0.31114857986108374,-0.07946452354966586,-0.3112122548106189,-0.24514490278450782,-0.3356011137856265,-0.28108767813888125,-0.39916446907364955,0.8703051945651298,-0.31101235867392507,-0.05403973835978638,-0.3404176429495183,-0.39983748378739453,-0.30975615249434063,-0.3074247372191769,-0.3665337658582699,-0.4007300961583987,-0.3396738612599085,-0.3118977170062914,-0.335639228021923,-0.33407801650287017,-0.23680983642661146,-0.33646860521494126,-0.4014687192908402,-0.33484339795954127,-0.311193234302781,-0.4019839881045275,-0.33582836524626125,-0.335985051213892,-0.28107657591289803,-0.2156678370731051,0.029857041782315984,-0.3393746303803545,-0.3355991129385857,-0.3881475537348926,-0.33870299969492457,-0.23824018709220987,-0.3858436350408972,-0.338452678884599,-0.2847081385729164,3.7250498040800886,-0.40157651350695,0.8414526897519983,-0.40193888940699085,-0.33983842102872663,-0.3355267684035835,-0.33568114317870285,-0.3404176429495183,-0.40151386256741295,-0.3110558703194508,-0.33552748740433086,-0.3513866703204658,-0.33567489903412884,-0.3312637592107802,-0.4019678939486164,-0.33488576414360843,0.3604934391178677,-0.3358741781649672,-0.3359447369830583,-0.35235433723830095,-0.3604953269203505,-0.3321720979844517,-0.3111696421828292,-0.40187783664114846,-0.33572254501060966,-0.335849535378341,-0.28272350196511475,-0.2812815311363132,-0.2380080209005591,-0.31670135887912065,-0.2824645055515613,-0.40114367984887717,-0.4421567447308765,-0.39988177020516874,-0.3386640418850293,-0.40104153989153185,-0.33306346273934373,-0.39698275497435664,-0.33579280571601916,-0.33579201823097854,-0.32891503318614523,0.2743100059957672,-0.401519952009368,-0.2653673163712429,-0.34045197639851,-0.33500355737013937,0.8832763339587593,-0.25694511833713046,-0.33845211569899797,0.5930709915373756,-0.3680695474392555,-0.3665717448058968,-0.3971320183881922,-0.2906756599282956,0.12889900601343576,-0.29074641554353137,-0.31933815676251354,-0.39663678181141526,-0.4017923095834404,-0.28279760671131915,4.364545223305164,-0.34031831503729004,-0.3354279951799174,-0.3359276651699315,-0.30868189777358374,0.6828547612665433,-0.40173317657716817,-0.348201331194697,-0.33588330492629975,-0.311674203610219,0.4333458685673774,-0.309515747965623,-0.3528362995876304,-0.3810097754647806,-0.33583364763901424,-0.4036560870347827,-0.3269162948540987,-0.33570399589055516,-0.08472305223978806,-0.40052589223752283,3.7299058574635158,0.1914684848394839,-0.28741703487660514,-0.33316424276152057,-0.3149733563096294,-0.35224022829759183,0.07838937517716273,-0.3348427309853044,-0.4011068873124397,-0.35140506657126125,-0.32240773395697125,-0.3359498015049675,-0.3489508697355546,-0.33995582109023936,-0.2642437919289605,-0.2936276665205105,-0.3314946592977557,-0.22980416428645833,-0.38462757377485973,-0.40180960640987473,-0.3287806041242238,-0.28195771032649786,-0.30900286391213,-0.3676685316925634,-0.3359771598877692,-0.335958872512379,-0.2763389078991232,-0.32246524744843263,-0.33991275376822266,-0.33567539023726223,3.909123958120648,-0.4023237878412878,-0.34010144462889813,-0.31984683392359115,-0.28254784537245214,-0.29167821078387973,-0.2824917675999949,-0.1390733031696811,-0.2827439424681942,-0.350016632082656,-0.33514945746370695,-0.1975856272762063,2.254251351901868,-0.34794903562289586,-0.25707257067485045,1.025098946102362,-0.37204306116011804,-0.3523537911675881,-0.4053400550038665,-0.16349739108270264,-0.3644622815798225,-0.3510732509026778,-0.3288551097778901,-0.34852827730335584,-0.40128288994121086,-0.27998940376871573,-0.33920141659767417,-0.3762845536786568,-0.3483897582477437,-0.1954793092241979,-0.2765024527226794,-0.27591394124596635,0.4805632869502091,-0.13885201123674087,-0.4046346597867321,-0.2805367141034908,-0.3356793378978822,-0.405090783893902,-0.3524707733239194,0.5708282321589959,-0.34900519409706876,-0.33516232259263357,-0.32323619659513003,-0.3047401509905543,-0.398848057652416,-0.4015101216191682,3.742149043678361,0.0992511986828197,-0.39904908390010163,-0.3345480103970428,-0.3353727690751686,-0.258287116030794,-0.335891065053348,-0.39313733341215656,-0.2496044781913747,-0.09078313504692127,-0.38888615967633466,-0.33516925498948574,-0.32823305089528726,-0.39807843495426243,-0.33360850116807694,-0.3406933075799344,-0.40311990993334684,-0.3096926254126618,3.725441608527175,-0.09000944733206827,-0.33080301867925127,-0.3528280388940773,-0.29114560903033526,3.7353124801561797,3.73655691561034,-0.23918223099536368,-0.34062915751479483,-0.3288441892902841,2.4782183615608795,-0.3340543987868158,-0.2831403786595252],\"y\":[1.0175511225479543,1.017856579020796,1.7361332991449736,1.3065701506331284,1.5195708264140744,0.8264473625086667,0.6172543920300811,1.8581992975504196,1.017553066672352,1.0178739483954877,1.0176136443565762,1.0175509274214904,1.0175512169544734,0.18771139086947,0.930274633695414,1.5920112608462313,0.195183391348156,1.0175444530531645,1.0982253401139999,1.306574529813753,2.0511893886354846,0.8191669308449864,0.826227400161911,0.8083498003054852,1.857483175552884,1.8574573002956847,0.5278996554303903,1.017482178437118,1.0175462132803865,1.0324448382346123,1.0973983332417017,1.3065750997194294,0.15316427901896,1.681339191156705,1.3065714918890208,1.0174158248265117,1.0175332932940409,0.26353323001091744,1.3065762465976523,0.15321765880121713,1.8574664133363648,1.0171927971908419,0.19600756735497213,1.5126638720218513,0.8264466418748174,0.9303018786575631,0.8083624053310564,1.8574454255061454,0.808220567165826,1.0175518682785276,1.857448870552298,1.0973652676384724,1.0175483480707805,1.3065758685892797,2.2651029596621357,1.8976586217739533,0.7400012102683601,0.8083560479560739,1.8574396313090622,0.8260446099006192,1.8583335234279978,0.9421189558140552,0.8264485720845419,1.300652026791294,0.8264542988725213,1.5651347600194792,1.0175374868554357,0.8082733297273123,1.306413918531516,0.7842141188140149,0.8264411282654976,0.18488999763295566,1.5920098660136601,1.3066109465631013,0.8263602984930457,0.8262371169327355,1.5600223772097077,1.306527231591402,1.575736803808722,1.017097189491862,1.0175342031250303,1.0175585761962043,1.6481629098347172,1.0974215418044184,1.306561331174715,1.0175340366563381,0.8264474437229086,1.3065741331313065,1.0175433305680426,1.0175521081015764,0.808434758544787,0.06335004216164823,1.9360021650767867,1.5920139081608817,1.0175681538165613,1.306059301669351,1.5920665901506494,1.6482472582452778,1.7980804223353137,1.5918869410678174,1.9320217924002807,1.6423490031226045,1.3065714132396746,1.9039194958811438,1.3065753867685128,1.5920121021090747,1.017543097348938,1.0175341595647418,1.5920098660136601,1.306552172453254,0.8264538829334926,1.0175471016013178,0.8743288621911844,1.0175446137618087,1.0172745990726777,1.3065733458894495,1.0174929532504882,0.8114317044682862,1.0175472513374322,1.0175513696921752,1.5192962048973384,0.7038324845017431,1.0173465423542156,0.8264484245855408,1.3065739195813646,1.017548458320248,1.0175417707624512,0.8083262360003838,0.2595205762563334,1.6482481545265437,1.017625659058644,0.8083519853707538,1.3065384357134517,1.9740541596443135,1.3065836188387845,1.5920170256282398,1.3065426822698287,1.5920389120288683,1.3064201556958268,1.017544654522676,1.0175393075196355,1.0171178650683013,0.5847914362442378,1.3065664829814758,0.8076315142912841,1.5920011567200572,1.0175164551149056,1.8399787490699664,0.6171722327140158,1.5757391746197058,1.857233282978642,1.560016780580551,1.559998952649374,1.8784002837134193,1.8574474000017753,1.0004708067240473,1.8574525424507082,1.5550869097521147,1.8784208735990804,1.3065773638325244,0.80835053050184,2.6180971565357045,1.5919837031821822,1.0175401317967834,1.0175514355981803,1.5197119489816993,1.607669961281184,1.3065670843933914,0.5278190380172944,1.0175448815121344,0.7082629185586367,1.0313330737883004,0.8264596600340048,1.5597835756634189,1.8906927851385704,1.017543110948031,1.72842879291858,1.508374077240792,1.0175530246156,0.6179245453370792,1.3065320806191485,1.6422778282967503,1.5614417832897554,1.8574518068166816,1.017516466762664,1.350811183138806,1.5192973081489705,0.9983708254777548,1.0174903732803742,1.3065763746497194,1.519259212204444,1.0174612301279038,1.017550660898075,1.0973657066689537,1.575731270660165,-0.08889003426104072,0.2550294916827894,1.0175698610557078,1.6480172656058816,1.0246624061821636,1.3065653631277083,1.2721333932912011,0.8083078296730262,1.5711491881598005,1.5600043257503537,1.0175502516349324,1.0175495555780578,0.8082676386081183,1.5004340534920895,1.591981340627849,1.0175431369694172,1.7184075801299152,1.7284841844008465,1.5919793211241917,0.7303762964595535,1.0160440772304833,0.7055815709365206,0.8083569879233692,1.0183113949857996,0.8083333962050256,1.9346994745882464,1.01752568108041,1.649111891291771,0.2736279972747872,1.5190169615539633,0.6172396226630983,1.5619113458945229,0.9395790692086542,1.5192918584900976,1.7285006666437046,0.8010314495681298,0.9174476721787287,1.5192875714276057,1.0171203564354223,1.0973585180185712,1.306569057189393,0.8082906305336682,1.5919220764989608,1.036927026645989,1.0973315087376843,1.010286423101178,1.5602449222200996,1.0629384354817788,0.4857502338290047,1.1061160388921236,1.7284944229412418,-0.0757085961675923,1.0175495265079377,1.728500919454628,1.5192925509088726,1.0007854030617331,1.097364394727636,1.0175251462016348,1.2720435053481685,1.9330137761539594,1.3064008589442844,1.306574173539383,1.6424227567200682,1.0101609501898852,1.3066983388474596,1.0174662172867508,1.0175380557594864,0.6172468444543378,1.0175560156568544,1.3065800323971806,1.0134975110032305,0.8354881194600594,1.3063926860434267,1.017575102753175,1.0175831301271805,1.3065872319095684,1.0175344055931677,1.5920064150561903,0.9380632091393312,0.8264486652768597,1.6423398656701278,0.8090902534015373,1.0175491000211567,0.527874139167596,1.8574496196353594,1.6428667058247477,1.6429184442966538,0.6173282532315894,1.5920093485639988,1.6893462630307827,0.6978410692850029,1.017450330358041,0.8083482259894663],\"z\":[-0.5525294474493521,-0.5527189583838606,-0.6368775764308747,-0.4967518033313459,0.01015278722591107,-0.3616448405243455,-0.04319867270952046,-0.666733363050264,-0.5525330253059795,-0.5526300911899517,-0.5525489391561008,-0.5525294752206805,-0.5525296540962243,-0.3364751545011507,-0.4182474193181622,-0.012616750251364153,-0.33197240116768784,-0.5525486348414275,-0.17856784143589466,-0.4967531685787553,-0.5069614835266374,-0.23745469343856668,-0.36200110258258045,-0.2340852269603534,-0.6190334316609146,-0.6190253648258516,-0.27961213504104293,-0.5525823868720622,-0.5525452847175806,-0.557172692028598,-0.17831001489591347,-0.4967494475391015,0.1233026249298854,-0.1947545351681674,-0.496750094812248,-0.552770822836747,-0.5525416112447104,-0.2627394893130517,-0.4967507796335512,0.12330370554822535,-0.6190282058950447,-0.5525949586829625,-0.27693373512243924,-0.12252809189685965,-0.3616527680848437,-0.418255136937047,-0.2340862892297198,-0.619023789424799,-0.23413068108985938,-0.5525296799298594,-0.6190245090031756,-0.17830325085369214,-0.5525321269200307,-0.4967496870636998,-0.19271936868908315,-0.7094676128018641,-0.3737630911212226,-0.23410202948992623,-0.619028717479966,-0.3616926022960546,-0.6667178419250657,-0.41181931016092455,-0.3616452176200786,-0.4996081294013256,-0.36164496493964365,-0.5350450602304007,-0.5525326397321734,-0.2340976945891967,-0.4967672510844318,-0.24410285673645257,-0.3616460869459816,-0.32888725197698826,-0.012619859845615103,-0.49677391459530745,-0.361653270504759,-0.3616684374497811,-0.5334671807089715,-0.49675915795451303,-0.08999366258572894,-0.5527423744245196,-0.5525320295194058,-0.5525494934079713,-0.3005847065201298,-0.17843368539601287,-0.4967540160124684,-0.5525400707716508,-0.3616446886213193,-0.49674967768648176,-0.5525307398924554,-0.5525297546967677,-0.23410884596942463,-0.2008016058554029,-0.7065898237416797,-0.012630690022419604,-0.5525347570870918,-0.4968544762639272,-0.0126410885128528,-0.3005760014901589,-0.6374426509879287,-0.012631336388663365,-0.7031346931421206,0.024458208131177574,-0.4967536147379949,-0.6336609947845615,-0.49675021974722255,-0.012625873635727206,-0.5525337756629652,-0.5525316024205431,-0.012619859845615103,-0.49675293292457723,-0.3616465188786029,-0.5525340422118872,-0.10716431864859718,-0.5525323804950785,-0.5525585502699046,-0.4967497867015651,-0.5525368326672803,-0.24080553707980237,-0.5525305444480547,-0.5525301121229018,-0.2031836049112296,-0.3588294162574189,-0.5525542789324022,-0.3616449944137222,-0.4967507371807326,-0.5525321612912552,-0.5525304190169725,-0.23408476035302422,-0.44630618986062354,-0.30057841196306645,-0.5527299071113291,-0.234089141845803,-0.49675573926794275,-0.6661683735461158,-0.4967715977204478,-0.012638093321234644,-0.496757063168595,-0.012696259653738589,-0.4967897533574016,-0.5525311902393196,-0.5525308325615816,-0.5525715979461472,-0.046367520499995186,-0.4967538499100712,-0.2342128721672644,-0.012618916870742984,-0.5525372479081783,-0.6769409259153665,-0.043206302930030534,-0.09000618698736633,-0.5095595015508692,-0.5334512581300204,-0.5334651945678774,-0.6218698306581181,-0.619027594991701,-0.5560656247653598,-0.6190272307062314,0.09336080093585147,-0.6218762497329247,-0.4967518381188338,-0.23408567186059623,0.4532889535573053,-0.01261907579693236,-0.5525345723091177,-0.5525302893715472,0.010730696160025654,-0.04042897092646423,-0.49675173351594926,-0.27965722264501847,-0.5525302900420099,-0.002552495208377818,-0.5612566465543434,-0.36166249772105863,-0.5335894489805361,-0.5128521172564451,-0.5525306714240188,-0.5216420504811501,-0.13846943649385454,-0.5525326612397468,-0.04500038392871263,-0.4967615557921616,0.02441393914777104,-0.5392104108583408,-0.6190608688625782,-0.5525558598776097,-0.21500597705298988,-0.20318483497080092,-0.5554109374623966,-0.5525370916729075,-0.4967587059458166,-0.20319068045764632,-0.5526609227442651,-0.5525300124076404,-0.1783035649475074,-0.08999043118956654,0.15859673761668613,-0.4057390758975856,-0.5525764048998315,-0.30064563403384786,-0.48636269436066815,-0.49675084245196044,-0.5911077075714701,-0.23409125035788428,0.046670623986452,-0.5334544641197841,-0.5525297075940506,-0.5525298450368402,-0.2341453560188167,0.06840602756865835,-0.012623017924278591,-0.5525322745368231,0.0899089015036326,-0.5216593192544767,-0.012620970548415381,-0.010168764919037197,-0.5529673368511949,-0.46812131927037925,-0.23408920808502098,-0.5545741360789849,-0.23408504316375628,-0.7026569755895725,-0.5525364025150326,-0.34827571161522136,-0.3077740407695819,-0.2032090845257184,-0.043209621648733425,-0.03546151115704346,-0.32862295915209544,-0.20318331321481603,-0.5216299261544369,-0.23479231229581304,-0.3209994685696445,-0.20319597724520594,-0.5525723746513791,-0.1783073493807341,-0.49675642466431763,-0.23410999060599372,-0.012626162936596354,-0.5018512473344868,-0.17830690400604618,-0.5534546154273744,0.1831102836502247,-0.2726608315779458,-0.5104999291980714,-0.18102783497662966,-0.5216366367568024,0.14252315093032905,-0.5525326715302674,-0.5216324657014415,-0.20318217687644846,-0.5605588151394688,-0.1783029255495141,-0.5525362357619518,-0.5911576620262878,-0.7029998336470549,-0.49676955964689146,-0.4967544752852855,0.024280145325224673,-0.5564282767191913,-0.4967878682251568,-0.5525384219465241,-0.5525349891501345,-0.04319782607682954,-0.5525309729108971,-0.4968395963008093,-0.553126532823045,-0.3644931479811903,-0.4968698005898646,-0.5525395818121587,-0.5526103149885705,-0.49679009190875745,-0.5525525913496576,-0.012616834534850355,-0.3134511494544758,-0.36165995612183477,0.024454868492916487,-0.23608699070770806,-0.5525819835821049,-0.2796141751327574,-0.6190229915802858,0.024318962622958077,0.024302832707183194,-0.04339670656711754,-0.012617684242723894,0.2551833538595239,0.016341307324550015,-0.5525423301725946,-0.23408204591969992],\"type\":\"scatter3d\"},{\"customdata\":[[\"SHA-256\"],[\"Ethash\"],[\"Scrypt\"],[\"CryptoNight-V7\"],[\"Ethash\"],[\"Equihash\"],[\"Multiple\"],[\"Scrypt\"],[\"X11\"],[\"Scrypt\"],[\"Multiple\"],[\"Scrypt\"],[\"SHA-256\"],[\"Scrypt\"],[\"Scrypt\"],[\"Quark\"],[\"Groestl\"],[\"Scrypt\"],[\"Scrypt\"],[\"Scrypt\"],[\"X11\"],[\"Multiple\"],[\"SHA-256\"],[\"Scrypt\"],[\"Scrypt\"],[\"Scrypt\"],[\"Scrypt\"],[\"Scrypt\"],[\"NeoScrypt\"],[\"Scrypt\"],[\"Scrypt\"],[\"Scrypt\"],[\"Scrypt\"],[\"SHA-256\"],[\"Scrypt\"],[\"Scrypt\"],[\"Scrypt\"],[\"Scrypt\"],[\"HybridScryptHash256\"],[\"Scrypt\"],[\"Scrypt\"],[\"SHA-256\"],[\"Scrypt\"],[\"Scrypt\"],[\"Scrypt\"],[\"Scrypt\"],[\"SHA-256\"],[\"SHA-256\"],[\"SHA-256\"],[\"SHA-256\"],[\"SHA-256\"],[\"X11\"],[\"Scrypt\"],[\"Lyra2REv2\"],[\"Scrypt\"],[\"SHA-256\"],[\"CryptoNight\"],[\"CryptoNight\"],[\"Scrypt\"],[\"Scrypt\"],[\"Scrypt\"],[\"Scrypt\"],[\"Scrypt\"],[\"Scrypt\"],[\"Stanford Folding\"],[\"Multiple\"],[\"QuBit\"],[\"Scrypt\"],[\"Scrypt\"],[\"M7 POW\"],[\"Scrypt\"],[\"SHA-256\"],[\"Scrypt\"],[\"X11\"],[\"Lyra2RE\"],[\"SHA-256\"],[\"X11\"],[\"Scrypt\"],[\"Scrypt\"],[\"Ethash\"],[\"Blake2b\"],[\"X11\"],[\"SHA-256\"],[\"Scrypt\"],[\"1GB AES Pattern Search\"],[\"Scrypt\"],[\"SHA-256\"],[\"X11\"],[\"Dagger\"],[\"Scrypt\"],[\"X11GOST\"],[\"Scrypt\"],[\"X11\"],[\"Scrypt\"],[\"X11\"],[\"Equihash\"],[\"CryptoNight\"],[\"SHA-256\"],[\"Multiple\"],[\"Scrypt\"],[\"SHA-256\"],[\"Scrypt\"],[\"Lyra2Z\"],[\"Ethash\"],[\"Equihash\"],[\"Scrypt\"],[\"X11\"],[\"X11\"],[\"CryptoNight\"],[\"Scrypt\"],[\"CryptoNight\"],[\"Lyra2RE\"],[\"X11\"],[\"CryptoNight-V7\"],[\"Scrypt\"],[\"X11\"],[\"Equihash\"],[\"Scrypt\"],[\"Lyra2RE\"],[\"Dagger-Hashimoto\"],[\"Scrypt\"],[\"NIST5\"],[\"Scrypt\"],[\"SHA-256\"],[\"Scrypt\"],[\"CryptoNight-V7\"],[\"Argon2d\"],[\"Blake2b\"],[\"Cloverhash\"],[\"CryptoNight\"],[\"X11\"],[\"Scrypt\"],[\"Scrypt\"],[\"X11\"],[\"X11\"],[\"CryptoNight\"],[\"Time Travel\"],[\"Scrypt\"],[\"Keccak\"],[\"X11\"],[\"SHA-256\"],[\"Scrypt\"],[\"Scrypt\"],[\"Scrypt\"],[\"Scrypt\"],[\"Scrypt\"],[\"Scrypt\"],[\"CryptoNight\"],[\"Equihash\"],[\"X11\"],[\"NeoScrypt\"],[\"Equihash\"],[\"Dagger\"],[\"Scrypt\"],[\"X11\"],[\"NeoScrypt\"],[\"Ethash\"],[\"NeoScrypt\"],[\"Multiple\"],[\"CryptoNight\"],[\"CryptoNight\"],[\"Ethash\"],[\"X11\"],[\"CryptoNight-V7\"],[\"Scrypt\"],[\"BLAKE256\"],[\"X11\"],[\"NeoScrypt\"],[\"NeoScrypt\"],[\"Scrypt\"],[\"X11\"],[\"SHA-256\"],[\"C11\"],[\"CryptoNight\"],[\"SkunkHash\"],[\"CryptoNight\"],[\"Scrypt\"],[\"Dagger\"],[\"Lyra2REv2\"],[\"Scrypt\"],[\"Scrypt\"],[\"X11\"],[\"Ethash\"],[\"CryptoNight\"],[\"Scrypt\"],[\"IMesh\"],[\"Equihash\"],[\"Lyra2Z\"],[\"X11\"],[\"CryptoNight\"],[\"NIST5\"],[\"Lyra2RE\"],[\"Tribus\"],[\"Lyra2Z\"],[\"CryptoNight\"],[\"CryptoNight Heavy\"],[\"CryptoNight\"],[\"Jump Consistent Hash\"],[\"CryptoNight\"],[\"X16R\"],[\"HMQ1725\"],[\"X11\"],[\"Scrypt\"],[\"CryptoNight-V7\"],[\"Cryptonight-GPU\"],[\"XEVAN\"],[\"CryptoNight Heavy\"],[\"SHA-256\"],[\"X11\"],[\"X16R\"],[\"Equihash\"],[\"Lyra2Z\"],[\"SHA-256\"],[\"CryptoNight\"],[\"Blake\"],[\"Blake\"],[\"Exosis\"],[\"Scrypt\"],[\"Equihash\"],[\"Equihash\"],[\"QuBit\"],[\"SHA-256\"],[\"X13\"],[\"SHA-256\"],[\"Scrypt\"],[\"NeoScrypt\"],[\"Blake\"],[\"Scrypt\"],[\"SHA-256\"],[\"Scrypt\"],[\"Groestl\"],[\"Scrypt\"],[\"Scrypt\"],[\"Multiple\"],[\"Equihash+Scrypt\"],[\"Ethash\"],[\"CryptoNight\"],[\"Equihash\"]],\"hovertemplate\":\"<b>%{hovertext}</b><br><br>Class=%{marker.color}<br>PC1=%{x}<br>PC2=%{y}<br>PC3=%{z}<br>Algorithm=%{customdata[0]}<extra></extra>\",\"hovertext\":[\"Bitcoin\",\"Ethereum\",\"Litecoin\",\"Monero\",\"Ethereum Classic\",\"ZCash\",\"DigiByte\",\"ProsperCoin\",\"Spreadcoin\",\"Argentum\",\"MyriadCoin\",\"MoonCoin\",\"ZetaCoin\",\"SexCoin\",\"Quatloo\",\"QuarkCoin\",\"Riecoin\",\"Digitalcoin \",\"Catcoin\",\"CannaCoin\",\"CryptCoin\",\"Verge\",\"DevCoin\",\"EarthCoin\",\"E-Gulden\",\"Einsteinium\",\"Emerald\",\"Franko\",\"FeatherCoin\",\"GrandCoin\",\"GlobalCoin\",\"GoldCoin\",\"Infinite Coin\",\"IXcoin\",\"KrugerCoin\",\"LuckyCoin\",\"Litebar \",\"MegaCoin\",\"MediterraneanCoin\",\"MinCoin\",\"NobleCoin\",\"Namecoin\",\"NyanCoin\",\"RonPaulCoin\",\"StableCoin\",\"SmartCoin\",\"SysCoin\",\"TigerCoin\",\"TerraCoin\",\"UnbreakableCoin\",\"Unobtanium\",\"UroCoin\",\"ViaCoin\",\"Vertcoin\",\"WorldCoin\",\"JouleCoin\",\"ByteCoin\",\"DigitalNote \",\"MonaCoin\",\"Gulden\",\"PesetaCoin\",\"Wild Beast Coin\",\"Flo\",\"ArtByte\",\"Folding Coin\",\"Unitus\",\"CypherPunkCoin\",\"OmniCron\",\"GreenCoin\",\"Cryptonite\",\"MasterCoin\",\"SoonCoin\",\"1Credit\",\"MarsCoin \",\"Crypto\",\"Anarchists Prime\",\"BowsCoin\",\"Song Coin\",\"BitZeny\",\"Expanse\",\"Siacoin\",\"MindCoin\",\"I0coin\",\"Revolution VR\",\"HOdlcoin\",\"Gamecredits\",\"CarpeDiemCoin\",\"Adzcoin\",\"SoilCoin\",\"YoCoin\",\"SibCoin\",\"Francs\",\"BolivarCoin\",\"Omni\",\"PizzaCoin\",\"Komodo\",\"Karbo\",\"ZayedCoin\",\"Circuits of Value\",\"DopeCoin\",\"DollarCoin\",\"Shilling\",\"ZCoin\",\"Elementrem\",\"ZClassic\",\"KiloCoin\",\"ArtexCoin\",\"Kurrent\",\"Cannabis Industry Coin\",\"OsmiumCoin\",\"Bikercoins\",\"HexxCoin\",\"PacCoin\",\"Citadel\",\"BeaverCoin\",\"VaultCoin\",\"Zero\",\"Canada eCoin\",\"Zoin\",\"DubaiCoin\",\"EB3coin\",\"Coinonat\",\"BenjiRolls\",\"ILCoin\",\"EquiTrader\",\"Quantum Resistant Ledger\",\"Dynamic\",\"Nano\",\"ChanCoin\",\"Dinastycoin\",\"DigitalPrice\",\"Unify\",\"SocialCoin\",\"ArcticCoin\",\"DAS\",\"LeviarCoin\",\"Bitcore\",\"gCn Coin\",\"SmartCash\",\"Onix\",\"Bitcoin Cash\",\"Sojourn Coin\",\"NewYorkCoin\",\"FrazCoin\",\"Kronecoin\",\"AdCoin\",\"Linx\",\"Sumokoin\",\"BitcoinZ\",\"Elements\",\"VIVO Coin\",\"Bitcoin Gold\",\"Pirl\",\"eBoost\",\"Pura\",\"Innova\",\"Ellaism\",\"GoByte\",\"SHIELD\",\"UltraNote\",\"BitCoal\",\"DaxxCoin\",\"AC3\",\"Lethean\",\"PopularCoin\",\"Photon\",\"Sucre\",\"SparksPay\",\"GunCoin\",\"IrishCoin\",\"Pioneer Coin\",\"UnitedBitcoin\",\"Interzone\",\"TurtleCoin\",\"MUNcoin\",\"Niobio Cash\",\"ShareChain\",\"Travelflex\",\"KREDS\",\"BitFlip\",\"LottoCoin\",\"Crypto Improvement Fund\",\"Callisto Network\",\"BitTube\",\"Poseidon\",\"Aidos Kuneen\",\"Bitrolium\",\"Alpenschillling\",\"FuturoCoin\",\"Monero Classic\",\"Jumpcoin\",\"Infinex\",\"KEYCO\",\"GINcoin\",\"PlatinCoin\",\"Loki\",\"Newton Coin\",\"MassGrid\",\"PluraCoin\",\"Motion\",\"PlusOneCoin\",\"Axe\",\"HexCoin\",\"Webchain\",\"Ryo\",\"Urals Coin\",\"Qwertycoin\",\"Project Pai\",\"Azart\",\"Xchange\",\"CrypticCoin\",\"Actinium\",\"Bitcoin SV\",\"FREDEnergy\",\"Universal Molecule\",\"Lithium\",\"Exosis\",\"Block-Logic\",\"Beam\",\"Bithereum\",\"SLICE\",\"BLAST\",\"Bitcoin Rhodium\",\"GlobalToken\",\"SolarCoin\",\"UFO Coin\",\"BlakeCoin\",\"Crypto Escudo\",\"Crown Coin\",\"SmileyCoin\",\"Groestlcoin\",\"Bata\",\"Pakcoin\",\"JoinCoin\",\"Vollar\",\"Reality Clash\",\"Beldex\",\"Horizen\"],\"legendgroup\":\"3\",\"marker\":{\"color\":[3,3,3,3,3,3,3,3,3,3,3,3,3,3,3,3,3,3,3,3,3,3,3,3,3,3,3,3,3,3,3,3,3,3,3,3,3,3,3,3,3,3,3,3,3,3,3,3,3,3,3,3,3,3,3,3,3,3,3,3,3,3,3,3,3,3,3,3,3,3,3,3,3,3,3,3,3,3,3,3,3,3,3,3,3,3,3,3,3,3,3,3,3,3,3,3,3,3,3,3,3,3,3,3,3,3,3,3,3,3,3,3,3,3,3,3,3,3,3,3,3,3,3,3,3,3,3,3,3,3,3,3,3,3,3,3,3,3,3,3,3,3,3,3,3,3,3,3,3,3,3,3,3,3,3,3,3,3,3,3,3,3,3,3,3,3,3,3,3,3,3,3,3,3,3,3,3,3,3,3,3,3,3,3,3,3,3,3,3,3,3,3,3,3,3,3,3,3,3,3,3,3,3,3,3,3,3,3,3,3,3,3,3,3,3,3,3,3,3,3,3,3,3,3,3,3,3,3,3,3,3,3,3,3,3,3,3,3],\"coloraxis\":\"coloraxis\",\"symbol\":\"diamond\"},\"mode\":\"markers\",\"name\":\"3\",\"scene\":\"scene\",\"showlegend\":true,\"x\":[-0.13999375495069352,-0.1448311866539351,-0.16365538162797466,-0.13975848802035196,-0.14327343474555226,-0.1630785597709426,0.1519818538284009,-0.16480173970290324,-0.23074759835551953,-0.16441830765407525,-0.10143423004563672,2.5566223876621095,-0.13707835468019877,-0.16167353319463343,-0.1642223951020639,-0.22953883603735667,-0.21348893375558056,-0.1642710190066381,-0.1647840008941526,-0.16487045545312748,-0.23083695883208893,0.1757513040685893,0.23789070257078926,0.08388577023790217,-0.1646167056677841,-0.1602216867694177,-0.16455601694024266,-0.1649274680463209,-0.17734915982969443,-0.14414850918109415,-0.16372242768950412,-0.16399995781996587,1.5841772365122906,-0.13995511386682635,-0.1612892095294726,-0.1646431513701576,-0.16499800395673808,-0.1642571781232437,-0.16053340965855062,-0.1648792648198852,-0.029794050016442072,-0.14003274553262224,-0.1585424669671277,-0.16485873464088188,-0.16295325949749803,-0.16434543134420193,-0.12718400958408957,-0.13949644809304387,-0.13978371569448012,-0.1397668134826456,-0.1403574340348412,-0.2310108448943986,-0.16457515307366605,-0.19278892246143894,-0.1616782961197557,-0.13956375496811005,3.8564165051019677,0.454998859879833,-0.1634426929767723,-0.14804227036482548,-0.1621613514188219,-0.165000217821385,-0.16202633431251956,-0.1482488197573046,-0.16154814706825768,-0.13544388847615324,-0.1903579853379754,-0.1648732631953162,-0.03780756776056699,-0.08621929772680427,-0.1650091065747679,-0.1400605306335384,0.4870404216361238,-0.23039796603689175,-0.15416926330892514,-0.1398004233518092,-0.23068290541486744,-0.1631330263534057,-0.16232517092019544,-0.145898988582669,0.36889631620972885,-0.23071829634285287,-0.13995623652447753,-0.16096651363712788,-0.1835487217249287,-0.16357232550587072,0.2785748111732966,-0.2298790000321372,-0.15754465847815044,-0.16382008075805377,-0.1804113860696358,-0.16479902096787763,-0.2306815576914726,-0.16500916507618185,-0.2308315697846606,-0.31141116955024334,0.2998921826940446,-0.14021635765776128,-0.11551463898324492,-0.1621757209796925,-0.14017497881611252,-0.16467256446338466,-0.16111499395532294,-0.1456411038623157,-0.16310018275545657,-0.09174621663234872,-0.217412689201683,-0.22865975738916416,0.2998865107198223,-0.16499090446870582,0.3000172500477414,-0.15470968206338903,0.4842975231607681,-0.13852343113768936,-0.1649591849219653,-0.2235666800598886,-0.16311254846073303,-0.16309224086328517,-0.15442801926174243,-0.10653149683187853,-0.13588737451682356,-0.1967380129729113,-0.1645215426721892,-0.10654003805643769,-0.164343672859234,-0.1383808776680201,-0.12992587437662334,-0.031517669528582135,-0.14998930325139367,0.336012242446695,-0.22988744595452176,-0.16466285685155455,-0.16442634700033507,-0.23028210909974436,-0.23085959097242578,0.300281503409837,-0.14194733558488315,3.2449996690539797,-0.1451253140553577,-0.22173259761462993,-0.13999291893847293,-0.09059519968602545,1.5824895761961653,-0.16476073352035844,-0.16421242652599366,-0.16391336975821255,-0.16390029709494552,0.30046505434401827,0.04920631352631423,-0.18523958127822288,-0.18203821635715348,-0.16295856998482455,-0.1563038094519962,-0.1630904495262894,-0.2264038333706066,-0.18188364225532755,-0.14400665287994222,-0.18198383350733408,-0.12567509072353114,1.1377925334123498,0.29986930231603776,-0.06890574786814221,-0.22614596400649908,-0.12749276130130593,-0.08114131750366449,1.111195610274942,-0.23083358525915265,-0.1820357555145275,-0.1750732162679387,-0.16401166679274057,-0.23075898225391742,-0.13997230806171068,-0.2136058190031409,8.036696197409412,-0.14066144556740895,0.30374378199805074,0.02805290651454706,-0.15580671176298846,-0.1783461922446786,-0.16458547390009093,0.1425175545291835,-0.22489977983750079,-0.09705180833225537,0.30779151380167746,-0.16482249009218777,-0.15358965098816527,-0.16194953754981242,-0.1588987726623316,-0.22992822965308102,0.30005185282641594,-0.19679740506174923,-0.15455492915053387,-0.15106370868323685,-0.161199359405686,0.30397931981818443,0.5953379952977165,2.108456662886726,-0.14178989125400923,0.3136574607545774,-0.20183586234441883,-0.14792990468929562,-0.2308157443280661,-0.16484708221276295,-0.12737497257318367,-0.16436374477330432,-0.15655470164002122,3.118010326822895,-0.09981612658145128,-0.23078711464509674,-0.2012636726028874,-0.05769961034277133,-0.16059717721051026,-0.13999295651430924,0.3798086400997151,-0.13093873607642428,-0.13133061675030427,-0.13356689640264405,-0.16373938187400497,-0.16101890046981285,-0.16279137378565356,-0.1895690560614129,-0.13926903439605243,-0.12013130595207118,-0.1381369882034675,0.5309527772143943,-0.10719321101858212,-0.08180436517973583,-0.14839944753822443,-0.13978308597129716,0.5508695562224972,-0.2130498786633194,-0.16492388787387233,-0.16287959247994624,-0.136178986064534,-0.1368851260860208,-0.14567426615031273,0.32162806289904194,-0.16307961701139653],\"y\":[-1.3401851327400003,-2.0462742996899843,-1.1490946472808952,-2.254926084034877,-2.046362453688592,-2.0331141302507936,-1.80758083410741,-1.1490964324402957,-0.8600692878968724,-1.1491118028831206,-1.8042813083637628,-1.315558675435418,-1.3401722732020378,-1.149133128958142,-1.1491298723142447,-0.4381166993840125,-1.23637777009045,-1.1490941491483386,-1.1490956949340998,-1.149093565821694,-0.86007154676517,-1.8033558160474144,-1.339750857350687,-1.148572242766794,-1.1490887394915006,-1.149109025323127,-1.1490942263416721,-1.14909454956858,-1.6387813742268256,-1.149256931524515,-1.149087240187031,-1.1491004140256431,-1.1423394087954686,-1.3401835262037782,-1.149128379568747,-1.1490891108091708,-1.149090283457859,-1.1490890837124086,-2.1842614308081805,-1.1490916455774636,-1.1543908564966887,-1.340186753806902,-1.149066304296529,-1.1490988020537518,-1.1491863346773659,-1.149099452218722,-1.340283893065401,-1.3401833983081493,-1.3401916920647754,-1.3402186603746085,-1.3401851431691882,-0.8600656688956316,-1.1490884682769422,-1.2491881401568852,-1.1491445561776281,-1.3401847315641195,-2.2999499560340952,-2.314322222772926,-1.149101183837004,-1.1496077022012419,-1.1490925239504903,-1.1490913061217392,-1.1490822603083843,-1.149121123801594,-2.100561679824846,-1.8042389188983472,-1.462786844632419,-1.1490865691611432,-1.1510830998744301,-2.1803530232926738,-1.149090213103496,-1.3401879089963162,-1.1889732725093982,-0.8600642180394903,-2.1786660249917063,-1.340200950156741,-0.8600673264174493,-1.1491648559990955,-1.1491602213557774,-2.0463310054578816,-2.1628034391920283,-0.8600651569001514,-1.3401835728792333,-1.149074606609324,-2.0723477241417085,-1.1490911941513358,-1.338515428387251,-0.8600797790225896,-2.182787108810242,-1.1491629181483658,-2.0701839193876905,-1.149095591221454,-0.860070183125092,-1.1490902133293412,-0.8600764200065975,-1.403582324686421,-2.3134963468326215,-1.340186185361605,-1.8042841653684203,-1.1491175985912603,-1.340185122040714,-1.149097615534761,-2.2076454324021473,-2.0463270551759773,-2.0331150292449314,-1.1533256454881224,-0.8598644064535199,-0.8601339466178048,-2.313504592685915,-1.149090981743289,-2.3135020698265643,-2.178647868573096,-0.9031446196434814,-2.2550094497285973,-1.149090133175227,-0.8604843564543463,-2.0331126306193417,-1.1490828851819381,-2.1786441682372377,-2.334230668301994,-1.1507917414073934,-0.6066381601140984,-1.1490953565472197,-1.3405994366146812,-1.1491145253582769,-2.2549452681377793,-2.254276988987829,-2.179698782809267,-2.1710458000751522,-2.3134437127010536,-0.8600917811306578,-1.1490894034580061,-1.1491201471619386,-0.8600790621856029,-0.860073143082416,-2.313512200634164,-2.1852092121608733,-1.1529527408684357,-1.1305870810824865,-0.8604809214127711,-1.3401850979820744,-1.1536418835207651,-1.0764360046762027,-1.1490939993879672,-1.1491178069005428,-1.1491170243203874,-1.1491164808131942,-2.313529974914955,-2.0395647996830353,-0.8594734225123964,-1.6387513165799668,-2.03310914157247,-2.182827494127927,-1.1490828107055655,-0.8601289932230174,-1.6387579973608342,-2.046443910818721,-1.6387525508547964,-1.8043133749146887,-2.340548372351772,-2.3134991185667215,-2.050399485416261,-0.8602639091028843,-2.255143933468348,-1.1492438122064632,-1.2482476253820312,-0.8600727172391599,-1.6387468451577238,-1.6388061722765428,-1.1490948964403562,-0.8600719457475169,-1.3401836337608117,-1.1419802240576087,-2.72000989865419,-2.2031663566666353,-2.3135736016288964,-1.1483448941390133,-2.1827658251411486,-1.249327507315689,-1.1491012765208548,-1.1497077656253591,-0.8601756886716673,-2.049021034183857,-2.3138888286119363,-1.149097295155537,-2.1892644817367635,-2.0331028712529866,-2.2077561634688805,-0.8600934767479234,-2.3134958251646873,-0.6066207848908178,-2.178653289442098,-2.281101449726084,-2.2076410027505555,-2.3137560501854577,-2.251338898956307,-2.3722825030880923,-2.1784312260971874,-2.3136449468335734,-1.2270507281869294,-2.2208853281786247,-0.8600728493092595,-1.149099122430101,-2.2556855526780977,-2.1603126574497895,-0.8945657365141502,-2.2806757095719123,-1.3400286101851249,-0.860074571746021,-1.227083682221582,-2.03425182487021,-2.2076694881138725,-1.3401850995443214,-2.3160502052922447,-2.2464497114959925,-2.2464078286888003,-2.2933204295147678,-1.1491243543267926,-2.0332045733050177,-2.0331093890849083,-1.4628268627307193,-1.3401863138203225,-0.30919209749653714,-1.3402149792787952,-1.1915895077523357,-1.6385326506572606,-2.249427656741962,-1.1491273862808458,-1.3401916658834943,-1.1557357472715937,-1.2363748078853156,-1.1490898598937267,-1.1491337553211056,-1.8042715201296788,-2.071828286758696,-2.0463271831994727,-2.313604998350754,-2.0331141742064744],\"z\":[0.17783546291381438,0.3796154388035936,-0.013060069431430496,0.4427670852720226,0.37960570489825823,0.3635630827230519,0.34166486728005263,-0.013048347889671675,0.04273084195704634,-0.01305117657880424,0.3440034347051516,-0.029201934210660703,0.17780508395013886,-0.01307749133245403,-0.013051923279131883,0.017802622367771102,0.12122480311928553,-0.013053874145806109,-0.013048577813602302,-0.013047848615769145,0.04273190062329654,0.3411354343657866,0.17398212784711917,-0.015600547501416765,-0.013050746232946078,-0.01309383018132645,-0.013050985104932368,-0.01304720445983628,0.2598242436420783,-0.013246352903161748,-0.013059897545205354,-0.013056188475208232,-0.031207524224573343,0.17783496206226396,-0.013081704904795861,-0.013050453249185023,-0.013046782470523315,-0.013054360586731461,0.4653507658880165,-0.01304789079058261,-0.014052377784830247,0.1778359682954329,-0.01311374283557234,-0.013047609142196888,-0.013060903989646705,-0.013052758560142602,0.17771260059243899,0.17783031228973176,0.1778337861723764,0.17783545932985986,0.17783914352726699,0.0427332581474921,-0.01305118523096472,0.2184761092753309,-0.013076661707168178,0.17783108450933569,0.3332083501113293,0.3686085440244523,-0.013061774537868798,-0.013182966865608488,-0.013075332031806573,-0.013046690136278693,-0.0130774000695347,-0.013214150744778873,0.33728161623939196,0.3443446639589895,0.18066057666143126,-0.01304829866055335,-0.014197488159549057,0.39895751389606393,-0.013046674939338249,0.17783632843571676,-0.016917125346187088,0.04272695749570612,0.34807764956551673,0.1778345883286893,0.04273005322661566,-0.013060553795853984,-0.01306904504334065,0.3796301211268023,0.46997843862165983,0.04273026297218783,0.17783497661374062,-0.013088647289766182,0.23166971589190385,-0.01306114597441285,0.17348598142835545,0.042722770431006564,0.37708923535016853,-0.013053734327148781,0.3356108424406364,-0.013048432924647775,0.042730234940840786,-0.013046674331945576,0.04273217934255328,0.4008102573774496,0.3701215205198104,0.17783778730932576,0.3441461032154614,-0.013073471945152007,0.17783729590254985,-0.013049574050159187,0.35049305716480267,0.37962724157724187,0.3635633629922446,-0.013498355182913169,0.04258190170771029,0.04271413764037246,0.370122141790893,-0.013046806555864576,0.37012064637861347,0.3480818762161049,0.03844126655805659,0.44276028912795656,-0.013047185539191318,0.04268656534447755,0.36356332408905856,-0.013066571923722303,0.3480787731592949,0.3101431135672575,-0.01322498807164378,0.006029086541450914,-0.01305125664685725,0.17752529172501647,-0.013051745601789058,0.4427544577437605,0.44805284169796666,0.47518540240225854,0.3333079458960142,0.36975243906103566,0.04272367663563868,-0.013050233846237387,-0.01305052462271412,0.04272680028531304,0.04273223878895331,0.3701186652996672,0.42683902733059276,-0.04728684234470773,0.03708248120146462,0.04266777221377646,0.17783545207773205,-0.013488376377107746,-0.035697142557133,-0.013048929192494957,-0.013052849219842571,-0.013055928752257836,-0.013056098195322755,0.3701180234974612,0.3618561887087376,0.04222962013649709,0.2598696345917099,0.3635615274594693,0.3770794414563564,-0.013066595142375298,0.04269097226003864,0.2598685273820606,0.379618694303822,0.25986916872066895,0.3442509095686892,0.36349310271797847,0.37012194157620076,0.37912927842615507,0.042697588998015644,0.44265787133459567,-0.013884790646107377,0.11911384002066515,0.042731946528596534,0.2598693039207886,0.25980291019644347,-0.013056447308452627,0.042731138898151506,0.17783514339747036,0.053119942998065064,0.3196351378631707,0.48309840757180733,0.37008783091086195,-0.01505114746295636,0.3770701944236198,0.2183395003672837,-0.013050204928784,-0.01611616453268809,0.04267894662952512,0.37931981227903144,0.37006843006126044,-0.013048078930739029,0.42885512547574134,0.3635508887420451,0.35047820440799793,0.042724205258975946,0.3701198692182721,0.006028499326673018,0.3480806810401665,0.48394857285342596,0.3504936079053563,0.3700979240546533,0.4490581826292924,0.35584148770850504,0.3470737512843867,0.3699923978090676,0.21086704276845017,0.31700010365510106,0.0427317750358701,-0.013047705139316539,0.4426937172163429,0.32751280024358953,-0.0516333907968343,0.4255385784455252,0.1774182205593492,0.04273160313134484,0.21086350655238376,0.3625746012840472,0.3504894626268606,0.1778354525647762,0.36948752426381926,0.3847725052159993,0.38477360638879227,0.4068947505993575,-0.013057188004770745,0.3635484267824686,0.36355985260426954,0.18065533042263723,0.17782821056828926,-0.07954034126268403,0.1778187161568402,-0.017182547232879396,0.2590973595296085,0.3844789791127417,-0.013212198362747753,0.17783377801013542,-0.019835875842999895,0.12122015795860518,-0.013047561381580643,-0.013065244944161234,0.34435433145226835,0.4449504020698898,0.379627585885754,0.3699090151656303,0.36356309642661566],\"type\":\"scatter3d\"},{\"customdata\":[[\"Proof-of-BibleHash\"],[\"SHA-256 + Hive\"],[\"Proof-of-Authority\"],[\"ECC 256K1\"],[\"Leased POS\"]],\"hovertemplate\":\"<b>%{hovertext}</b><br><br>Class=%{marker.color}<br>PC1=%{x}<br>PC2=%{y}<br>PC3=%{z}<br>Algorithm=%{customdata[0]}<extra></extra>\",\"hovertext\":[\"BiblePay\",\"LitecoinCash\",\"Poa Network\",\"Acute Angle Cloud\",\"Waves\"],\"legendgroup\":\"1\",\"marker\":{\"color\":[1,1,1,1,1],\"coloraxis\":\"coloraxis\",\"symbol\":\"square\"},\"mode\":\"markers\",\"name\":\"1\",\"scene\":\"scene\",\"showlegend\":true,\"x\":[-0.20252771006028106,-0.33913975693072385,-0.43102706355384046,-0.3642841455246353,-0.45042144823114405],\"y\":[2.824437667951647,3.329166803630722,3.1622339442321725,2.6899394376131274,3.5007920445573637],\"z\":[10.80135120322557,21.76773194103727,11.598337139375843,13.770719105221986,9.263603350106319],\"type\":\"scatter3d\"},{\"customdata\":[[\"TRC10\"]],\"hovertemplate\":\"<b>%{hovertext}</b><br><br>Class=%{marker.color}<br>PC1=%{x}<br>PC2=%{y}<br>PC3=%{z}<br>Algorithm=%{customdata[0]}<extra></extra>\",\"hovertext\":[\"BitTorrent\"],\"legendgroup\":\"2\",\"marker\":{\"color\":[2],\"coloraxis\":\"coloraxis\",\"symbol\":\"x\"},\"mode\":\"markers\",\"name\":\"2\",\"scene\":\"scene\",\"showlegend\":true,\"x\":[34.06442651481399],\"y\":[1.9038206456427704],\"z\":[-0.3124914351366916],\"type\":\"scatter3d\"}],                        {\"template\":{\"data\":{\"bar\":[{\"error_x\":{\"color\":\"#2a3f5f\"},\"error_y\":{\"color\":\"#2a3f5f\"},\"marker\":{\"line\":{\"color\":\"#E5ECF6\",\"width\":0.5},\"pattern\":{\"fillmode\":\"overlay\",\"size\":10,\"solidity\":0.2}},\"type\":\"bar\"}],\"barpolar\":[{\"marker\":{\"line\":{\"color\":\"#E5ECF6\",\"width\":0.5},\"pattern\":{\"fillmode\":\"overlay\",\"size\":10,\"solidity\":0.2}},\"type\":\"barpolar\"}],\"carpet\":[{\"aaxis\":{\"endlinecolor\":\"#2a3f5f\",\"gridcolor\":\"white\",\"linecolor\":\"white\",\"minorgridcolor\":\"white\",\"startlinecolor\":\"#2a3f5f\"},\"baxis\":{\"endlinecolor\":\"#2a3f5f\",\"gridcolor\":\"white\",\"linecolor\":\"white\",\"minorgridcolor\":\"white\",\"startlinecolor\":\"#2a3f5f\"},\"type\":\"carpet\"}],\"choropleth\":[{\"colorbar\":{\"outlinewidth\":0,\"ticks\":\"\"},\"type\":\"choropleth\"}],\"contour\":[{\"colorbar\":{\"outlinewidth\":0,\"ticks\":\"\"},\"colorscale\":[[0.0,\"#0d0887\"],[0.1111111111111111,\"#46039f\"],[0.2222222222222222,\"#7201a8\"],[0.3333333333333333,\"#9c179e\"],[0.4444444444444444,\"#bd3786\"],[0.5555555555555556,\"#d8576b\"],[0.6666666666666666,\"#ed7953\"],[0.7777777777777778,\"#fb9f3a\"],[0.8888888888888888,\"#fdca26\"],[1.0,\"#f0f921\"]],\"type\":\"contour\"}],\"contourcarpet\":[{\"colorbar\":{\"outlinewidth\":0,\"ticks\":\"\"},\"type\":\"contourcarpet\"}],\"heatmap\":[{\"colorbar\":{\"outlinewidth\":0,\"ticks\":\"\"},\"colorscale\":[[0.0,\"#0d0887\"],[0.1111111111111111,\"#46039f\"],[0.2222222222222222,\"#7201a8\"],[0.3333333333333333,\"#9c179e\"],[0.4444444444444444,\"#bd3786\"],[0.5555555555555556,\"#d8576b\"],[0.6666666666666666,\"#ed7953\"],[0.7777777777777778,\"#fb9f3a\"],[0.8888888888888888,\"#fdca26\"],[1.0,\"#f0f921\"]],\"type\":\"heatmap\"}],\"heatmapgl\":[{\"colorbar\":{\"outlinewidth\":0,\"ticks\":\"\"},\"colorscale\":[[0.0,\"#0d0887\"],[0.1111111111111111,\"#46039f\"],[0.2222222222222222,\"#7201a8\"],[0.3333333333333333,\"#9c179e\"],[0.4444444444444444,\"#bd3786\"],[0.5555555555555556,\"#d8576b\"],[0.6666666666666666,\"#ed7953\"],[0.7777777777777778,\"#fb9f3a\"],[0.8888888888888888,\"#fdca26\"],[1.0,\"#f0f921\"]],\"type\":\"heatmapgl\"}],\"histogram\":[{\"marker\":{\"pattern\":{\"fillmode\":\"overlay\",\"size\":10,\"solidity\":0.2}},\"type\":\"histogram\"}],\"histogram2d\":[{\"colorbar\":{\"outlinewidth\":0,\"ticks\":\"\"},\"colorscale\":[[0.0,\"#0d0887\"],[0.1111111111111111,\"#46039f\"],[0.2222222222222222,\"#7201a8\"],[0.3333333333333333,\"#9c179e\"],[0.4444444444444444,\"#bd3786\"],[0.5555555555555556,\"#d8576b\"],[0.6666666666666666,\"#ed7953\"],[0.7777777777777778,\"#fb9f3a\"],[0.8888888888888888,\"#fdca26\"],[1.0,\"#f0f921\"]],\"type\":\"histogram2d\"}],\"histogram2dcontour\":[{\"colorbar\":{\"outlinewidth\":0,\"ticks\":\"\"},\"colorscale\":[[0.0,\"#0d0887\"],[0.1111111111111111,\"#46039f\"],[0.2222222222222222,\"#7201a8\"],[0.3333333333333333,\"#9c179e\"],[0.4444444444444444,\"#bd3786\"],[0.5555555555555556,\"#d8576b\"],[0.6666666666666666,\"#ed7953\"],[0.7777777777777778,\"#fb9f3a\"],[0.8888888888888888,\"#fdca26\"],[1.0,\"#f0f921\"]],\"type\":\"histogram2dcontour\"}],\"mesh3d\":[{\"colorbar\":{\"outlinewidth\":0,\"ticks\":\"\"},\"type\":\"mesh3d\"}],\"parcoords\":[{\"line\":{\"colorbar\":{\"outlinewidth\":0,\"ticks\":\"\"}},\"type\":\"parcoords\"}],\"pie\":[{\"automargin\":true,\"type\":\"pie\"}],\"scatter\":[{\"marker\":{\"colorbar\":{\"outlinewidth\":0,\"ticks\":\"\"}},\"type\":\"scatter\"}],\"scatter3d\":[{\"line\":{\"colorbar\":{\"outlinewidth\":0,\"ticks\":\"\"}},\"marker\":{\"colorbar\":{\"outlinewidth\":0,\"ticks\":\"\"}},\"type\":\"scatter3d\"}],\"scattercarpet\":[{\"marker\":{\"colorbar\":{\"outlinewidth\":0,\"ticks\":\"\"}},\"type\":\"scattercarpet\"}],\"scattergeo\":[{\"marker\":{\"colorbar\":{\"outlinewidth\":0,\"ticks\":\"\"}},\"type\":\"scattergeo\"}],\"scattergl\":[{\"marker\":{\"colorbar\":{\"outlinewidth\":0,\"ticks\":\"\"}},\"type\":\"scattergl\"}],\"scattermapbox\":[{\"marker\":{\"colorbar\":{\"outlinewidth\":0,\"ticks\":\"\"}},\"type\":\"scattermapbox\"}],\"scatterpolar\":[{\"marker\":{\"colorbar\":{\"outlinewidth\":0,\"ticks\":\"\"}},\"type\":\"scatterpolar\"}],\"scatterpolargl\":[{\"marker\":{\"colorbar\":{\"outlinewidth\":0,\"ticks\":\"\"}},\"type\":\"scatterpolargl\"}],\"scatterternary\":[{\"marker\":{\"colorbar\":{\"outlinewidth\":0,\"ticks\":\"\"}},\"type\":\"scatterternary\"}],\"surface\":[{\"colorbar\":{\"outlinewidth\":0,\"ticks\":\"\"},\"colorscale\":[[0.0,\"#0d0887\"],[0.1111111111111111,\"#46039f\"],[0.2222222222222222,\"#7201a8\"],[0.3333333333333333,\"#9c179e\"],[0.4444444444444444,\"#bd3786\"],[0.5555555555555556,\"#d8576b\"],[0.6666666666666666,\"#ed7953\"],[0.7777777777777778,\"#fb9f3a\"],[0.8888888888888888,\"#fdca26\"],[1.0,\"#f0f921\"]],\"type\":\"surface\"}],\"table\":[{\"cells\":{\"fill\":{\"color\":\"#EBF0F8\"},\"line\":{\"color\":\"white\"}},\"header\":{\"fill\":{\"color\":\"#C8D4E3\"},\"line\":{\"color\":\"white\"}},\"type\":\"table\"}]},\"layout\":{\"annotationdefaults\":{\"arrowcolor\":\"#2a3f5f\",\"arrowhead\":0,\"arrowwidth\":1},\"autotypenumbers\":\"strict\",\"coloraxis\":{\"colorbar\":{\"outlinewidth\":0,\"ticks\":\"\"}},\"colorscale\":{\"diverging\":[[0,\"#8e0152\"],[0.1,\"#c51b7d\"],[0.2,\"#de77ae\"],[0.3,\"#f1b6da\"],[0.4,\"#fde0ef\"],[0.5,\"#f7f7f7\"],[0.6,\"#e6f5d0\"],[0.7,\"#b8e186\"],[0.8,\"#7fbc41\"],[0.9,\"#4d9221\"],[1,\"#276419\"]],\"sequential\":[[0.0,\"#0d0887\"],[0.1111111111111111,\"#46039f\"],[0.2222222222222222,\"#7201a8\"],[0.3333333333333333,\"#9c179e\"],[0.4444444444444444,\"#bd3786\"],[0.5555555555555556,\"#d8576b\"],[0.6666666666666666,\"#ed7953\"],[0.7777777777777778,\"#fb9f3a\"],[0.8888888888888888,\"#fdca26\"],[1.0,\"#f0f921\"]],\"sequentialminus\":[[0.0,\"#0d0887\"],[0.1111111111111111,\"#46039f\"],[0.2222222222222222,\"#7201a8\"],[0.3333333333333333,\"#9c179e\"],[0.4444444444444444,\"#bd3786\"],[0.5555555555555556,\"#d8576b\"],[0.6666666666666666,\"#ed7953\"],[0.7777777777777778,\"#fb9f3a\"],[0.8888888888888888,\"#fdca26\"],[1.0,\"#f0f921\"]]},\"colorway\":[\"#636efa\",\"#EF553B\",\"#00cc96\",\"#ab63fa\",\"#FFA15A\",\"#19d3f3\",\"#FF6692\",\"#B6E880\",\"#FF97FF\",\"#FECB52\"],\"font\":{\"color\":\"#2a3f5f\"},\"geo\":{\"bgcolor\":\"white\",\"lakecolor\":\"white\",\"landcolor\":\"#E5ECF6\",\"showlakes\":true,\"showland\":true,\"subunitcolor\":\"white\"},\"hoverlabel\":{\"align\":\"left\"},\"hovermode\":\"closest\",\"mapbox\":{\"style\":\"light\"},\"paper_bgcolor\":\"white\",\"plot_bgcolor\":\"#E5ECF6\",\"polar\":{\"angularaxis\":{\"gridcolor\":\"white\",\"linecolor\":\"white\",\"ticks\":\"\"},\"bgcolor\":\"#E5ECF6\",\"radialaxis\":{\"gridcolor\":\"white\",\"linecolor\":\"white\",\"ticks\":\"\"}},\"scene\":{\"xaxis\":{\"backgroundcolor\":\"#E5ECF6\",\"gridcolor\":\"white\",\"gridwidth\":2,\"linecolor\":\"white\",\"showbackground\":true,\"ticks\":\"\",\"zerolinecolor\":\"white\"},\"yaxis\":{\"backgroundcolor\":\"#E5ECF6\",\"gridcolor\":\"white\",\"gridwidth\":2,\"linecolor\":\"white\",\"showbackground\":true,\"ticks\":\"\",\"zerolinecolor\":\"white\"},\"zaxis\":{\"backgroundcolor\":\"#E5ECF6\",\"gridcolor\":\"white\",\"gridwidth\":2,\"linecolor\":\"white\",\"showbackground\":true,\"ticks\":\"\",\"zerolinecolor\":\"white\"}},\"shapedefaults\":{\"line\":{\"color\":\"#2a3f5f\"}},\"ternary\":{\"aaxis\":{\"gridcolor\":\"white\",\"linecolor\":\"white\",\"ticks\":\"\"},\"baxis\":{\"gridcolor\":\"white\",\"linecolor\":\"white\",\"ticks\":\"\"},\"bgcolor\":\"#E5ECF6\",\"caxis\":{\"gridcolor\":\"white\",\"linecolor\":\"white\",\"ticks\":\"\"}},\"title\":{\"x\":0.05},\"xaxis\":{\"automargin\":true,\"gridcolor\":\"white\",\"linecolor\":\"white\",\"ticks\":\"\",\"title\":{\"standoff\":15},\"zerolinecolor\":\"white\",\"zerolinewidth\":2},\"yaxis\":{\"automargin\":true,\"gridcolor\":\"white\",\"linecolor\":\"white\",\"ticks\":\"\",\"title\":{\"standoff\":15},\"zerolinecolor\":\"white\",\"zerolinewidth\":2}}},\"scene\":{\"domain\":{\"x\":[0.0,1.0],\"y\":[0.0,1.0]},\"xaxis\":{\"title\":{\"text\":\"PC1\"}},\"yaxis\":{\"title\":{\"text\":\"PC2\"}},\"zaxis\":{\"title\":{\"text\":\"PC3\"}}},\"coloraxis\":{\"colorbar\":{\"title\":{\"text\":\"Class\"}},\"colorscale\":[[0.0,\"#0d0887\"],[0.1111111111111111,\"#46039f\"],[0.2222222222222222,\"#7201a8\"],[0.3333333333333333,\"#9c179e\"],[0.4444444444444444,\"#bd3786\"],[0.5555555555555556,\"#d8576b\"],[0.6666666666666666,\"#ed7953\"],[0.7777777777777778,\"#fb9f3a\"],[0.8888888888888888,\"#fdca26\"],[1.0,\"#f0f921\"]]},\"legend\":{\"title\":{\"text\":\"Class\"},\"tracegroupgap\":0,\"x\":0,\"y\":1},\"margin\":{\"t\":60},\"width\":800},                        {\"responsive\": true}                    ).then(function(){\n",
       "                            \n",
       "var gd = document.getElementById('d5aa2626-e8e4-40af-a382-02a0d6a825d7');\n",
       "var x = new MutationObserver(function (mutations, observer) {{\n",
       "        var display = window.getComputedStyle(gd).display;\n",
       "        if (!display || display === 'none') {{\n",
       "            console.log([gd, 'removed!']);\n",
       "            Plotly.purge(gd);\n",
       "            observer.disconnect();\n",
       "        }}\n",
       "}});\n",
       "\n",
       "// Listen for the removal of the full notebook cells\n",
       "var notebookContainer = gd.closest('#notebook-container');\n",
       "if (notebookContainer) {{\n",
       "    x.observe(notebookContainer, {childList: true});\n",
       "}}\n",
       "\n",
       "// Listen for the clearing of the current output cell\n",
       "var outputEl = gd.closest('.output');\n",
       "if (outputEl) {{\n",
       "    x.observe(outputEl, {childList: true});\n",
       "}}\n",
       "\n",
       "                        })                };                });            </script>        </div>"
      ]
     },
     "metadata": {},
     "output_type": "display_data"
    }
   ],
   "source": [
    "# Creating a 3D-Scatter with the PCA data and the clusters\n",
    "# YOUR CODE HERE\n",
    "fig = px.scatter_3d(\n",
    "    clustered_df,\n",
    "    x=\"PC1\",\n",
    "    y=\"PC2\",\n",
    "    z=\"PC3\",\n",
    "    color=\"Class\",\n",
    "    symbol=\"Class\",\n",
    "    width=800,\n",
    "    hover_name=\"CoinName\",\n",
    "    hover_data=[\"Algorithm\"],\n",
    ")\n",
    "fig.update_layout(legend=dict(x=0, y=1))\n",
    "fig.show()"
   ]
  },
  {
   "cell_type": "code",
   "execution_count": 57,
   "metadata": {},
   "outputs": [
    {
     "data": {},
     "metadata": {},
     "output_type": "display_data"
    },
    {
     "data": {
      "application/vnd.holoviews_exec.v0+json": "",
      "text/html": [
       "<div id='1238'>\n",
       "\n",
       "\n",
       "\n",
       "\n",
       "\n",
       "  <div class=\"bk-root\" id=\"0d541087-55e7-4bc7-929b-110c73e669c1\" data-root-id=\"1238\"></div>\n",
       "</div>\n",
       "<script type=\"application/javascript\">(function(root) {\n",
       "  function embed_document(root) {\n",
       "    var docs_json = {\"ee737f49-d56d-4da3-8b23-63c11333cbd5\":{\"defs\":[{\"extends\":null,\"module\":null,\"name\":\"ReactiveHTML1\",\"overrides\":[],\"properties\":[]},{\"extends\":null,\"module\":null,\"name\":\"FlexBox1\",\"overrides\":[],\"properties\":[{\"default\":\"flex-start\",\"kind\":null,\"name\":\"align_content\"},{\"default\":\"flex-start\",\"kind\":null,\"name\":\"align_items\"},{\"default\":\"row\",\"kind\":null,\"name\":\"flex_direction\"},{\"default\":\"wrap\",\"kind\":null,\"name\":\"flex_wrap\"},{\"default\":\"flex-start\",\"kind\":null,\"name\":\"justify_content\"}]},{\"extends\":null,\"module\":null,\"name\":\"TemplateActions1\",\"overrides\":[],\"properties\":[{\"default\":0,\"kind\":null,\"name\":\"open_modal\"},{\"default\":0,\"kind\":null,\"name\":\"close_modal\"}]},{\"extends\":null,\"module\":null,\"name\":\"MaterialTemplateActions1\",\"overrides\":[],\"properties\":[{\"default\":0,\"kind\":null,\"name\":\"open_modal\"},{\"default\":0,\"kind\":null,\"name\":\"close_modal\"}]}],\"roots\":{\"references\":[{\"attributes\":{},\"id\":\"1241\",\"type\":\"Selection\"},{\"attributes\":{\"editor\":{\"id\":\"1268\"},\"field\":\"PC2\",\"formatter\":{\"id\":\"1267\"},\"title\":\"PC2\"},\"id\":\"1269\",\"type\":\"TableColumn\"},{\"attributes\":{},\"id\":\"1248\",\"type\":\"StringEditor\"},{\"attributes\":{},\"id\":\"1268\",\"type\":\"NumberEditor\"},{\"attributes\":{},\"id\":\"1242\",\"type\":\"StringFormatter\"},{\"attributes\":{},\"id\":\"1290\",\"type\":\"UnionRenderers\"},{\"attributes\":{\"editor\":{\"id\":\"1253\"},\"field\":\"TotalCoinsMined\",\"formatter\":{\"id\":\"1252\"},\"title\":\"TotalCoinsMined\"},\"id\":\"1254\",\"type\":\"TableColumn\"},{\"attributes\":{},\"id\":\"1278\",\"type\":\"StringEditor\"},{\"attributes\":{\"data\":{\"Algorithm\":[\"Scrypt\",\"Scrypt\",\"X13\",\"SHA-256\",\"Ethash\",\"Scrypt\",\"X11\",\"CryptoNight-V7\",\"Ethash\",\"Equihash\",\"SHA-512\",\"Multiple\",\"SHA-256\",\"SHA-256\",\"Scrypt\",\"X15\",\"X11\",\"Scrypt\",\"Scrypt\",\"Scrypt\",\"Multiple\",\"Scrypt\",\"SHA-256\",\"Scrypt\",\"Scrypt\",\"Scrypt\",\"Quark\",\"Groestl\",\"Scrypt\",\"Scrypt\",\"Scrypt\",\"Scrypt\",\"Scrypt\",\"X11\",\"Scrypt\",\"Groestl\",\"Multiple\",\"SHA-256\",\"Scrypt\",\"Scrypt\",\"Scrypt\",\"Scrypt\",\"PoS\",\"Scrypt\",\"Scrypt\",\"NeoScrypt\",\"Scrypt\",\"Scrypt\",\"Scrypt\",\"Scrypt\",\"X11\",\"Scrypt\",\"X11\",\"SHA-256\",\"Scrypt\",\"Scrypt\",\"Scrypt\",\"SHA3\",\"Scrypt\",\"HybridScryptHash256\",\"Scrypt\",\"Scrypt\",\"SHA-256\",\"Scrypt\",\"X13\",\"Scrypt\",\"SHA-256\",\"Scrypt\",\"X13\",\"NeoScrypt\",\"Scrypt\",\"Scrypt\",\"Scrypt\",\"Scrypt\",\"Scrypt\",\"Scrypt\",\"X11\",\"X11\",\"SHA-256\",\"Multiple\",\"SHA-256\",\"PHI1612\",\"X11\",\"SHA-256\",\"SHA-256\",\"SHA-256\",\"X11\",\"Scrypt\",\"Scrypt\",\"Scrypt\",\"Scrypt\",\"Lyra2REv2\",\"Scrypt\",\"X11\",\"Multiple\",\"SHA-256\",\"X13\",\"Scrypt\",\"CryptoNight\",\"CryptoNight\",\"Shabal256\",\"Counterparty\",\"Scrypt\",\"SHA-256\",\"Groestl\",\"Scrypt\",\"Scrypt\",\"Scrypt\",\"X13\",\"Scrypt\",\"Scrypt\",\"Scrypt\",\"Scrypt\",\"X13\",\"Scrypt\",\"Stanford Folding\",\"X11\",\"Multiple\",\"QuBit\",\"Scrypt\",\"Scrypt\",\"Scrypt\",\"M7 POW\",\"Scrypt\",\"SHA-256\",\"Scrypt\",\"X11\",\"SHA3\",\"X11\",\"Lyra2RE\",\"SHA-256\",\"QUAIT\",\"X11\",\"X11\",\"Scrypt\",\"Scrypt\",\"Scrypt\",\"Ethash\",\"X13\",\"Blake2b\",\"SHA-256\",\"X15\",\"X11\",\"SHA-256\",\"BLAKE256\",\"Scrypt\",\"1GB AES Pattern Search\",\"SHA-256\",\"X11\",\"Scrypt\",\"SHA-256\",\"SHA-256\",\"NIST5\",\"Scrypt\",\"Scrypt\",\"X11\",\"Dagger\",\"Scrypt\",\"X11GOST\",\"X11\",\"Scrypt\",\"SHA-256\",\"Scrypt\",\"PoS\",\"Scrypt\",\"X11\",\"X11\",\"SHA-256\",\"SHA-256\",\"NIST5\",\"X11\",\"Scrypt\",\"POS 3.0\",\"Scrypt\",\"Scrypt\",\"Scrypt\",\"X13\",\"X11\",\"X11\",\"Equihash\",\"X11\",\"Scrypt\",\"CryptoNight\",\"SHA-256\",\"SHA-256\",\"X11\",\"Scrypt\",\"Multiple\",\"Scrypt\",\"Scrypt\",\"Scrypt\",\"SHA-256\",\"Scrypt\",\"Scrypt\",\"SHA-256D\",\"PoS\",\"Scrypt\",\"X11\",\"Lyra2Z\",\"PoS\",\"X13\",\"X14\",\"PoS\",\"SHA-256D\",\"Ethash\",\"Equihash\",\"DPoS\",\"X11\",\"Scrypt\",\"X11\",\"X13\",\"X11\",\"PoS\",\"Scrypt\",\"Scrypt\",\"X11\",\"PoS\",\"X11\",\"SHA-256\",\"Scrypt\",\"X11\",\"Scrypt\",\"Scrypt\",\"X11\",\"CryptoNight\",\"Scrypt\",\"Scrypt\",\"Scrypt\",\"Scrypt\",\"Quark\",\"QuBit\",\"Scrypt\",\"CryptoNight\",\"Lyra2RE\",\"Scrypt\",\"SHA-256\",\"X11\",\"Scrypt\",\"X11\",\"Scrypt\",\"CryptoNight-V7\",\"Scrypt\",\"Scrypt\",\"Scrypt\",\"X13\",\"X11\",\"Equihash\",\"Scrypt\",\"Scrypt\",\"Lyra2RE\",\"Scrypt\",\"Dagger-Hashimoto\",\"X11\",\"Blake2S\",\"X11\",\"Scrypt\",\"PoS\",\"X11\",\"NIST5\",\"PoS\",\"X11\",\"Scrypt\",\"Scrypt\",\"Scrypt\",\"SHA-256\",\"X11\",\"Scrypt\",\"Scrypt\",\"SHA-256\",\"PoS\",\"Scrypt\",\"X15\",\"SHA-256\",\"Scrypt\",\"POS 3.0\",\"CryptoNight-V7\",\"536\",\"Argon2d\",\"Blake2b\",\"Cloverhash\",\"CryptoNight\",\"NIST5\",\"X11\",\"NIST5\",\"Skein\",\"Scrypt\",\"X13\",\"Scrypt\",\"X11\",\"X11\",\"Scrypt\",\"CryptoNight\",\"X13\",\"Time Travel\",\"Scrypt\",\"Keccak\",\"SkunkHash v2 Raptor\",\"X11\",\"Skein\",\"SHA-256\",\"X11\",\"Scrypt\",\"VeChainThor Authority\",\"Scrypt\",\"PoS\",\"Scrypt\",\"Scrypt\",\"Scrypt\",\"Scrypt\",\"Scrypt\",\"Scrypt\",\"Scrypt\",\"CryptoNight\",\"SHA-512\",\"Ouroboros\",\"X11\",\"Equihash\",\"NeoScrypt\",\"X11\",\"Scrypt\",\"NeoScrypt\",\"Lyra2REv2\",\"Equihash\",\"Scrypt\",\"SHA-256\",\"NIST5\",\"PHI1612\",\"Dagger\",\"Scrypt\",\"Quark\",\"Scrypt\",\"POS 2.0\",\"Scrypt\",\"SHA-256\",\"X11\",\"NeoScrypt\",\"Ethash\",\"NeoScrypt\",\"X11\",\"DPoS\",\"NIST5\",\"X13\",\"Multiple\",\"Scrypt\",\"CryptoNight\",\"CryptoNight\",\"Ethash\",\"NIST5\",\"Quark\",\"X11\",\"CryptoNight-V7\",\"Scrypt\",\"Scrypt\",\"Scrypt\",\"X11\",\"BLAKE256\",\"X11\",\"NeoScrypt\",\"Quark\",\"NeoScrypt\",\"Scrypt\",\"Scrypt\",\"Scrypt\",\"X11\",\"X11\",\"SHA-256\",\"C11\",\"POS 3.0\",\"Ethash\",\"Scrypt\",\"CryptoNight\",\"SkunkHash\",\"Scrypt\",\"CryptoNight\",\"Scrypt\",\"Dagger\",\"Lyra2REv2\",\"X13\",\"Proof-of-BibleHash\",\"SHA-256 + Hive\",\"Scrypt\",\"Scrypt\",\"X11\",\"C11\",\"Proof-of-Authority\",\"X11\",\"XEVAN\",\"Scrypt\",\"VBFT\",\"Ethash\",\"CryptoNight\",\"Scrypt\",\"IMesh\",\"NIST5\",\"Scrypt\",\"Scrypt\",\"Equihash\",\"Scrypt\",\"Lyra2Z\",\"Green Protocol\",\"PoS\",\"Scrypt\",\"Semux BFT consensus\",\"X11\",\"Quark\",\"PoS\",\"CryptoNight\",\"X16R\",\"Scrypt\",\"NIST5\",\"Lyra2RE\",\"XEVAN\",\"Tribus\",\"Scrypt\",\"Lyra2Z\",\"CryptoNight\",\"CryptoNight Heavy\",\"CryptoNight\",\"Scrypt\",\"Scrypt\",\"Jump Consistent Hash\",\"SHA-256D\",\"CryptoNight\",\"Scrypt\",\"X15\",\"Scrypt\",\"Quark\",\"SHA-256\",\"DPoS\",\"X16R\",\"HMQ1725\",\"X11\",\"X16R\",\"Quark\",\"Quark\",\"Scrypt\",\"Lyra2REv2\",\"Quark\",\"Scrypt\",\"Scrypt\",\"CryptoNight-V7\",\"Cryptonight-GPU\",\"XEVAN\",\"CryptoNight Heavy\",\"X11\",\"X11\",\"Scrypt\",\"PoS\",\"SHA-256\",\"Keccak\",\"X11\",\"X11\",\"Scrypt\",\"SHA-512\",\"X16R\",\"ECC 256K1\",\"Equihash\",\"XEVAN\",\"Lyra2Z\",\"SHA-256\",\"XEVAN\",\"X11\",\"CryptoNight\",\"Quark\",\"Blake\",\"Blake\",\"Equihash\",\"Exosis\",\"Scrypt\",\"Scrypt\",\"Equihash\",\"Quark\",\"Equihash\",\"Quark\",\"Scrypt\",\"QuBit\",\"X11\",\"Scrypt\",\"XEVAN\",\"SHA-256D\",\"X11\",\"SHA-256\",\"X13\",\"SHA-256\",\"X11\",\"DPoS\",\"Scrypt\",\"Scrypt\",\"X11\",\"NeoScrypt\",\"Scrypt\",\"Blake\",\"Scrypt\",\"SHA-256\",\"Scrypt\",\"X11\",\"Scrypt\",\"Scrypt\",\"SHA-256\",\"X11\",\"SHA-256\",\"Scrypt\",\"Scrypt\",\"Scrypt\",\"Groestl\",\"X11\",\"Scrypt\",\"PoS\",\"Scrypt\",\"Scrypt\",\"X11\",\"SHA-256\",\"DPoS\",\"Scrypt\",\"Scrypt\",\"NeoScrypt\",\"Multiple\",\"X13\",\"Equihash+Scrypt\",\"DPoS\",\"Ethash\",\"DPoS\",\"SHA-256\",\"Leased POS\",\"PoS\",\"TRC10\",\"PoS\",\"SHA-256\",\"Scrypt\",\"CryptoNight\",\"Equihash\",\"Scrypt\"],\"Class\":{\"__ndarray__\":\"AAAAAAAAAAAAAAAAAwAAAAMAAAADAAAAAAAAAAMAAAADAAAAAwAAAAAAAAADAAAAAAAAAAAAAAADAAAAAAAAAAMAAAADAAAAAAAAAAAAAAADAAAAAwAAAAMAAAADAAAAAwAAAAAAAAADAAAAAwAAAAMAAAAAAAAAAwAAAAAAAAADAAAAAwAAAAAAAAAAAAAAAwAAAAMAAAADAAAAAwAAAAMAAAADAAAAAAAAAAAAAAADAAAAAwAAAAMAAAADAAAAAwAAAAAAAAAAAAAAAwAAAAAAAAADAAAAAwAAAAMAAAADAAAAAAAAAAMAAAADAAAAAAAAAAMAAAAAAAAAAAAAAAAAAAADAAAAAwAAAAMAAAAAAAAAAAAAAAAAAAAAAAAAAAAAAAMAAAADAAAAAwAAAAAAAAAAAAAAAwAAAAAAAAADAAAAAAAAAAAAAAADAAAAAwAAAAMAAAADAAAAAAAAAAAAAAADAAAAAAAAAAMAAAADAAAAAAAAAAAAAAADAAAAAAAAAAAAAAADAAAAAwAAAAAAAAAAAAAAAwAAAAAAAAAAAAAAAwAAAAAAAAADAAAAAAAAAAMAAAAAAAAAAwAAAAAAAAAAAAAAAwAAAAMAAAAAAAAAAwAAAAMAAAADAAAAAAAAAAMAAAADAAAAAwAAAAMAAAADAAAAAAAAAAAAAAADAAAAAwAAAAMAAAAAAAAAAwAAAAAAAAADAAAAAwAAAAAAAAADAAAAAAAAAAMAAAAAAAAAAAAAAAMAAAADAAAAAAAAAAMAAAADAAAAAAAAAAAAAAADAAAAAAAAAAMAAAAAAAAAAAAAAAAAAAADAAAAAwAAAAMAAAADAAAAAAAAAAAAAAAAAAAAAAAAAAAAAAADAAAAAwAAAAAAAAAAAAAAAAAAAAAAAAAAAAAAAwAAAAAAAAAAAAAAAAAAAAAAAAAAAAAAAwAAAAAAAAADAAAAAAAAAAAAAAADAAAAAAAAAAMAAAAAAAAAAAAAAAMAAAAAAAAAAwAAAAAAAAADAAAAAAAAAAMAAAAAAAAAAAAAAAAAAAAAAAAAAwAAAAAAAAAAAAAAAAAAAAAAAAAAAAAAAwAAAAMAAAAAAAAAAAAAAAMAAAADAAAAAAAAAAAAAAAAAAAAAAAAAAAAAAADAAAAAAAAAAAAAAAAAAAAAAAAAAAAAAAAAAAAAAAAAAAAAAADAAAAAAAAAAAAAAAAAAAAAAAAAAAAAAAAAAAAAwAAAAMAAAADAAAAAAAAAAAAAAAAAAAAAAAAAAMAAAAAAAAAAwAAAAAAAAAAAAAAAwAAAAAAAAADAAAAAwAAAAAAAAADAAAAAwAAAAAAAAADAAAAAAAAAAAAAAAAAAAAAwAAAAAAAAAAAAAAAwAAAAAAAAAAAAAAAAAAAAAAAAAAAAAAAAAAAAAAAAADAAAAAAAAAAMAAAAAAAAAAAAAAAAAAAAAAAAAAwAAAAAAAAADAAAAAAAAAAMAAAADAAAAAwAAAAMAAAAAAAAAAwAAAAAAAAAAAAAAAwAAAAAAAAADAAAAAwAAAAMAAAAAAAAAAwAAAAAAAAADAAAAAwAAAAMAAAAAAAAAAwAAAAAAAAADAAAAAAAAAAAAAAAAAAAAAwAAAAAAAAADAAAAAwAAAAMAAAADAAAAAwAAAAAAAAAAAAAAAwAAAAAAAAAAAAAAAAAAAAMAAAAAAAAAAwAAAAAAAAADAAAAAAAAAAMAAAAAAAAAAAAAAAAAAAAAAAAAAwAAAAAAAAAAAAAAAwAAAAAAAAAAAAAAAAAAAAMAAAADAAAAAwAAAAMAAAAAAAAAAAAAAAAAAAAAAAAAAwAAAAAAAAADAAAAAwAAAAMAAAAAAAAAAAAAAAMAAAADAAAAAAAAAAAAAAADAAAAAAAAAAMAAAADAAAAAwAAAAAAAAADAAAAAwAAAAAAAAAAAAAAAAAAAAMAAAADAAAAAwAAAAAAAAAAAAAAAAAAAAMAAAADAAAAAAAAAAMAAAADAAAAAwAAAAMAAAAAAAAAAQAAAAEAAAADAAAAAwAAAAMAAAAAAAAAAQAAAAAAAAAAAAAAAAAAAAAAAAADAAAAAwAAAAMAAAADAAAAAAAAAAAAAAAAAAAAAwAAAAAAAAADAAAAAAAAAAAAAAAAAAAAAAAAAAMAAAAAAAAAAAAAAAMAAAAAAAAAAAAAAAMAAAADAAAAAAAAAAMAAAAAAAAAAwAAAAMAAAADAAAAAwAAAAAAAAAAAAAAAwAAAAAAAAADAAAAAAAAAAAAAAAAAAAAAAAAAAAAAAAAAAAAAwAAAAMAAAADAAAAAAAAAAAAAAAAAAAAAAAAAAAAAAAAAAAAAwAAAAAAAAADAAAAAwAAAAMAAAADAAAAAAAAAAAAAAAAAAAAAAAAAAMAAAAAAAAAAAAAAAMAAAAAAAAAAAAAAAMAAAABAAAAAwAAAAAAAAADAAAAAwAAAAAAAAAAAAAAAwAAAAAAAAADAAAAAwAAAAAAAAADAAAAAwAAAAAAAAADAAAAAAAAAAMAAAAAAAAAAAAAAAMAAAAAAAAAAAAAAAAAAAAAAAAAAAAAAAMAAAADAAAAAwAAAAAAAAAAAAAAAAAAAAMAAAAAAAAAAwAAAAAAAAADAAAAAAAAAAAAAAAAAAAAAAAAAAMAAAAAAAAAAAAAAAAAAAADAAAAAAAAAAMAAAAAAAAAAwAAAAAAAAAAAAAAAAAAAAMAAAADAAAAAAAAAAAAAAAAAAAAAAAAAAAAAAAAAAAAAwAAAAAAAAADAAAAAAAAAAMAAAAAAAAAAAAAAAEAAAAAAAAAAgAAAAAAAAAAAAAAAAAAAAMAAAADAAAAAAAAAA==\",\"dtype\":\"int32\",\"order\":\"little\",\"shape\":[532]},\"CoinName\":[\"42 Coin\",\"404Coin\",\"EliteCoin\",\"Bitcoin\",\"Ethereum\",\"Litecoin\",\"Dash\",\"Monero\",\"Ethereum Classic\",\"ZCash\",\"Bitshares\",\"DigiByte\",\"BitcoinDark\",\"PayCoin\",\"ProsperCoin\",\"KoboCoin\",\"Spreadcoin\",\"Argentum\",\"Aurora Coin\",\"BlueCoin\",\"MyriadCoin\",\"MoonCoin\",\"ZetaCoin\",\"SexCoin\",\"Quatloo\",\"EnergyCoin\",\"QuarkCoin\",\"Riecoin\",\"Digitalcoin \",\"BitBar\",\"Catcoin\",\"CryptoBullion\",\"CannaCoin\",\"CryptCoin\",\"CasinoCoin\",\"Diamond\",\"Verge\",\"DevCoin\",\"EarthCoin\",\"E-Gulden\",\"Einsteinium\",\"Emerald\",\"Exclusive Coin\",\"FlutterCoin\",\"Franko\",\"FeatherCoin\",\"GrandCoin\",\"GlobalCoin\",\"GoldCoin\",\"HoboNickels\",\"HyperStake\",\"Infinite Coin\",\"IOCoin\",\"IXcoin\",\"KrugerCoin\",\"LuckyCoin\",\"Litebar \",\"MaxCoin\",\"MegaCoin\",\"MediterraneanCoin\",\"MintCoin\",\"MinCoin\",\"MazaCoin\",\"Nautilus Coin\",\"NavCoin\",\"NobleCoin\",\"Namecoin\",\"NyanCoin\",\"OpalCoin\",\"Orbitcoin\",\"PotCoin\",\"PhoenixCoin\",\"Reddcoin\",\"RonPaulCoin\",\"StableCoin\",\"SmartCoin\",\"SuperCoin\",\"SyncCoin\",\"SysCoin\",\"TeslaCoin\",\"TigerCoin\",\"TittieCoin\",\"TorCoin\",\"TerraCoin\",\"UnbreakableCoin\",\"Unobtanium\",\"UroCoin\",\"UnitaryStatus Dollar\",\"UltraCoin\",\"ViaCoin\",\"VeriCoin\",\"Vertcoin\",\"WorldCoin\",\"X11 Coin\",\"Crypti\",\"JouleCoin\",\"StealthCoin\",\"ZCC Coin\",\"ByteCoin\",\"DigitalNote \",\"BurstCoin\",\"StorjCoin\",\"MonaCoin\",\"Neutron\",\"FairCoin\",\"Gulden\",\"RubyCoin\",\"PesetaCoin\",\"Kore\",\"Wild Beast Coin\",\"Dnotes\",\"Flo\",\"8BIT Coin\",\"Sativa Coin\",\"ArtByte\",\"Folding Coin\",\"Ucoin\",\"Unitus\",\"CypherPunkCoin\",\"OmniCron\",\"Vtorrent\",\"GreenCoin\",\"Cryptonite\",\"MasterCoin\",\"SoonCoin\",\"1Credit\",\"IslaCoin\",\"Nexus\",\"MarsCoin \",\"Crypto\",\"Anarchists Prime\",\"Droidz\",\"BowsCoin\",\"Squall Coin\",\"Song Coin\",\"BitZeny\",\"Diggits\",\"Expanse\",\"Paycon\",\"Siacoin\",\"Emercoin\",\"EverGreenCoin\",\"MindCoin\",\"I0coin\",\"Decred\",\"Revolution VR\",\"HOdlcoin\",\"EDRCoin\",\"Hitcoin\",\"Gamecredits\",\"DubaiCoin\",\"CarpeDiemCoin\",\"PWR Coin\",\"BillaryCoin\",\"GPU Coin\",\"Adzcoin\",\"SoilCoin\",\"YoCoin\",\"SibCoin\",\"EuropeCoin\",\"ZeitCoin\",\"SwingCoin\",\"SafeExchangeCoin\",\"Nebuchadnezzar\",\"Francs\",\"BolivarCoin\",\"Ratecoin\",\"Revenu\",\"Clockcoin\",\"VIP Tokens\",\"BitSend\",\"Omni\",\"Let it Ride\",\"PutinCoin\",\"iBankCoin\",\"Frankywillcoin\",\"MudraCoin\",\"PizzaCoin\",\"Lutetium Coin\",\"Komodo\",\"GoldBlocks\",\"CarterCoin\",\"Karbo\",\"BitTokens\",\"ZayedCoin\",\"MustangCoin\",\"ZoneCoin\",\"Circuits of Value\",\"RootCoin\",\"DopeCoin\",\"BitCurrency\",\"DollarCoin\",\"Swiscoin\",\"Shilling\",\"BuzzCoin\",\"Opair\",\"PesoBit\",\"Halloween Coin\",\"ZCoin\",\"CoffeeCoin\",\"RoyalCoin\",\"GanjaCoin V2\",\"TeamUP\",\"LanaCoin\",\"Elementrem\",\"ZClassic\",\"ARK\",\"InsaneCoin\",\"KiloCoin\",\"ArtexCoin\",\"EmberCoin\",\"XenixCoin\",\"FreeCoin\",\"PLNCoin\",\"AquariusCoin\",\"Kurrent\",\"Creatio\",\"Eternity\",\"Eurocoin\",\"BitcoinFast\",\"Stakenet\",\"BitConnect Coin\",\"MoneyCoin\",\"Enigma\",\"Cannabis Industry Coin\",\"Russiacoin\",\"PandaCoin\",\"GameUnits\",\"GAKHcoin\",\"Allsafe\",\"LiteCreed\",\"OsmiumCoin\",\"Bikercoins\",\"HexxCoin\",\"Klingon Empire Darsek\",\"Internet of People\",\"KushCoin\",\"Printerium\",\"PacCoin\",\"Impeach\",\"Citadel\",\"Zilbercoin\",\"FirstCoin\",\"BeaverCoin\",\"FindCoin\",\"VaultCoin\",\"Zero\",\"OpenChat\",\"Canada eCoin\",\"Zoin\",\"RenosCoin\",\"DubaiCoin\",\"VirtacoinPlus\",\"TajCoin\",\"Impact\",\"EB3coin\",\"Atmos\",\"HappyCoin\",\"Coinonat\",\"MacronCoin\",\"Condensate\",\"Independent Money System\",\"ArgusCoin\",\"LomoCoin\",\"ProCurrency\",\"GoldReserve\",\"BenjiRolls\",\"GrowthCoin\",\"ILCoin\",\"Phreak\",\"Degas Coin\",\"HTML5 Coin\",\"Ultimate Secure Cash\",\"EquiTrader\",\"QTUM\",\"Quantum Resistant Ledger\",\"Espers\",\"Dynamic\",\"Nano\",\"ChanCoin\",\"Dinastycoin\",\"Denarius\",\"DigitalPrice\",\"Virta Unique Coin\",\"Bitcoin Planet\",\"Unify\",\"BritCoin\",\"SocialCoin\",\"ArcticCoin\",\"DAS\",\"Linda\",\"LeviarCoin\",\"DeepOnion\",\"Bitcore\",\"gCn Coin\",\"SmartCash\",\"Signatum\",\"Onix\",\"Cream\",\"Bitcoin Cash\",\"Monoeci\",\"Draftcoin\",\"Vechain\",\"Sojourn Coin\",\"Stakecoin\",\"NewYorkCoin\",\"FrazCoin\",\"Kronecoin\",\"AdCoin\",\"Linx\",\"CoinonatX\",\"Ethereum Dark\",\"Sumokoin\",\"Obsidian\",\"Cardano\",\"Regalcoin\",\"BitcoinZ\",\"TrezarCoin\",\"Elements\",\"TerraNovaCoin\",\"VIVO Coin\",\"Rupee\",\"Bitcoin Gold\",\"WomenCoin\",\"Theresa May Coin\",\"NamoCoin\",\"LUXCoin\",\"Pirl\",\"Xios\",\"Bitcloud 2.0\",\"eBoost\",\"KekCoin\",\"BlackholeCoin\",\"Infinity Economics\",\"Pura\",\"Innova\",\"Ellaism\",\"GoByte\",\"Magnet\",\"Lamden Tau\",\"Electra\",\"Bitcoin Diamond\",\"SHIELD\",\"Cash & Back Coin\",\"UltraNote\",\"BitCoal\",\"DaxxCoin\",\"Bulwark\",\"Kalkulus\",\"AC3\",\"Lethean\",\"GermanCoin\",\"LiteCoin Ultra\",\"PopularCoin\",\"PhantomX\",\"Photon\",\"Sucre\",\"SparksPay\",\"Digiwage\",\"GunCoin\",\"IrishCoin\",\"Trollcoin\",\"Litecoin Plus\",\"Monkey Project\",\"Pioneer Coin\",\"UnitedBitcoin\",\"Interzone\",\"TokenPay\",\"1717 Masonic Commemorative Token\",\"My Big Coin\",\"TurtleCoin\",\"MUNcoin\",\"Unified Society USDEX\",\"Niobio Cash\",\"ShareChain\",\"Travelflex\",\"KREDS\",\"Tokyo Coin\",\"BiblePay\",\"LitecoinCash\",\"BitFlip\",\"LottoCoin\",\"Crypto Improvement Fund\",\"Stipend\",\"Poa Network\",\"Pushi\",\"Ellerium\",\"Velox\",\"Ontology\",\"Callisto Network\",\"BitTube\",\"Poseidon\",\"Aidos Kuneen\",\"Bitspace\",\"Briacoin\",\"Ignition\",\"Bitrolium\",\"MedicCoin\",\"Alpenschillling\",\"Bitcoin Green\",\"Deviant Coin\",\"Abjcoin\",\"Semux\",\"FuturoCoin\",\"Carebit\",\"Zealium\",\"Monero Classic\",\"Proton\",\"iDealCash\",\"Jumpcoin\",\"Infinex\",\"Bitcoin Incognito\",\"KEYCO\",\"HollyWoodCoin\",\"GINcoin\",\"PlatinCoin\",\"Loki\",\"Newton Coin\",\"Swisscoin\",\"Xt3ch\",\"MassGrid\",\"TheVig\",\"PluraCoin\",\"EmaratCoin\",\"Dekado\",\"Lynx\",\"Poseidon Quark\",\"BitcoinWSpectrum\",\"Muse\",\"Motion\",\"PlusOneCoin\",\"Axe\",\"Trivechain\",\"Dystem\",\"Giant\",\"Peony Coin\",\"Absolute Coin\",\"Vitae\",\"HexCoin\",\"TPCash\",\"Webchain\",\"Ryo\",\"Urals Coin\",\"Qwertycoin\",\"ARENON\",\"EUNO\",\"MMOCoin\",\"Ketan\",\"Project Pai\",\"XDNA\",\"PAXEX\",\"Azart\",\"ThunderStake\",\"Kcash\",\"Xchange\",\"Acute Angle Cloud\",\"CrypticCoin\",\"Bettex coin\",\"Actinium\",\"Bitcoin SV\",\"BitMoney\",\"Junson Ming Chan Coin\",\"FREDEnergy\",\"HerbCoin\",\"Universal Molecule\",\"Lithium\",\"PirateCash\",\"Exosis\",\"Block-Logic\",\"Oduwa\",\"Beam\",\"Galilel\",\"Bithereum\",\"Crypto Sports\",\"Credit\",\"SLICE\",\"Dash Platinum\",\"Nasdacoin\",\"Beetle Coin\",\"Titan Coin\",\"Award\",\"BLAST\",\"Bitcoin Rhodium\",\"GlobalToken\",\"Insane Coin\",\"ALAX\",\"LiteDoge\",\"SolarCoin\",\"TruckCoin\",\"UFO Coin\",\"OrangeCoin\",\"BlakeCoin\",\"BitstarCoin\",\"NeosCoin\",\"HyperCoin\",\"PinkCoin\",\"Crypto Escudo\",\"AudioCoin\",\"IncaKoin\",\"Piggy Coin\",\"Crown Coin\",\"Genstake\",\"SmileyCoin\",\"XiaoMiCoin\",\"Groestlcoin\",\"CapriCoin\",\" ClubCoin\",\"Radium\",\"Bata\",\"Pakcoin\",\"Creditbit \",\"OKCash\",\"Lisk\",\"HiCoin\",\"WhiteCoin\",\"FriendshipCoin\",\"JoinCoin\",\"Triangles Coin\",\"Vollar\",\"EOS\",\"Reality Clash\",\"Oxycoin\",\"TigerCash\",\"Waves\",\"Particl\",\"BitTorrent\",\"Nxt\",\"ZEPHYR\",\"Gapcoin\",\"Beldex\",\"Horizen\",\"BitcoinPlus\"],\"PC1\":{\"__ndarray__\":\"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\",\"dtype\":\"float64\",\"order\":\"little\",\"shape\":[532]},\"PC2\":{\"__ndarray__\":\"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\",\"dtype\":\"float64\",\"order\":\"little\",\"shape\":[532]},\"PC3\":{\"__ndarray__\":\"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\",\"dtype\":\"float64\",\"order\":\"little\",\"shape\":[532]},\"ProofType\":[\"PoW/PoS\",\"PoW/PoS\",\"PoW/PoS\",\"PoW\",\"PoW\",\"PoW\",\"PoW/PoS\",\"PoW\",\"PoW\",\"PoW\",\"PoS\",\"PoW\",\"PoW/PoS\",\"PoS\",\"PoW\",\"PoW/PoS\",\"PoW\",\"PoW\",\"PoW/PoS\",\"PoW/PoS\",\"PoW\",\"PoW\",\"PoW\",\"PoW\",\"PoW\",\"PoW/PoS\",\"PoW\",\"PoW\",\"PoW\",\"PoW/PoS\",\"PoW\",\"PoW/PoS\",\"PoW\",\"PoW\",\"PoC\",\"PoW/PoS\",\"PoW\",\"PoW\",\"PoW\",\"PoW\",\"PoW\",\"PoW\",\"PoS\",\"PoS/PoW/PoT\",\"PoW\",\"PoW\",\"PoW\",\"PoW\",\"PoW\",\"PoW/PoS\",\"PoS\",\"PoW\",\"PoW/PoS\",\"PoW\",\"PoW\",\"PoW\",\"PoW\",\"PoW/PoS\",\"PoW\",\"PoW\",\"PoS\",\"PoW\",\"PoW/PoS\",\"PoS\",\"PoW/PoS\",\"PoW\",\"PoW\",\"PoW\",\"PoW/PoS\",\"PoW/PoS\",\"PoW/PoS\",\"PoW/PoS\",\"PoW/PoS\",\"PoW\",\"PoW\",\"PoW\",\"PoS\",\"PoW/PoS\",\"PoW\",\"PoS\",\"PoW\",\"PoS\",\"PoW/PoS\",\"PoW\",\"PoW\",\"PoW\",\"PoW\",\"PoW/PoS\",\"PoW/PoS\",\"PoW\",\"PoST\",\"PoW\",\"PoW\",\"PoW/PoS\",\"PoS\",\"PoW\",\"PoW/PoS\",\"PoW/PoS\",\"PoW\",\"PoW\",\"PoC\",\"PoS\",\"PoW\",\"PoW/PoS\",\"PoW/PoS\",\"PoW\",\"PoS\",\"PoW\",\"PoW/PoS\",\"PoW\",\"PoS\",\"PoW\",\"PoW/PoS\",\"PoW/PoS\",\"PoW\",\"PoW\",\"PoS\",\"PoW\",\"PoW\",\"PoW\",\"PoW/PoS\",\"PoW\",\"PoW\",\"PoW\",\"PoW\",\"PoW\",\"PoW/PoS\",\"PoW/nPoS\",\"PoW\",\"PoW\",\"PoW\",\"PoW/PoS\",\"PoW\",\"PoS/PoW\",\"PoW\",\"PoW\",\"PoS\",\"PoW\",\"PoW/PoS\",\"PoW\",\"PoW/PoS\",\"PoW/PoS\",\"PoW\",\"PoW\",\"PoW/PoS\",\"PoW\",\"PoW\",\"PoW/PoS\",\"PoW/PoS\",\"PoW\",\"PoW/PoS\",\"PoW\",\"PoW/PoS\",\"PoW/PoS\",\"PoS\",\"PoW\",\"PoW\",\"PoW\",\"PoW\",\"PoW/PoS\",\"PoS\",\"PoW/PoS\",\"PoC\",\"PoS\",\"PoW\",\"PoW\",\"PoW/PoS\",\"PoW/PoS\",\"PoW/PoS\",\"PoW/PoS\",\"PoW/PoS\",\"PoW\",\"PoS\",\"PoW/PoS\",\"PoW/PoS\",\"PoW/PoS\",\"PoS\",\"PoW\",\"PoS\",\"dPoW/PoW\",\"PoW/PoS\",\"PoW/PoS\",\"PoW\",\"PoW/PoS\",\"PoW\",\"PoW/PoS\",\"PoW/PoS\",\"PoW\",\"PoW/PoS\",\"PoW\",\"PoS\",\"PoW\",\"PoW/PoW\",\"PoW\",\"PoW/PoS\",\"PoS\",\"PoW/PoS\",\"PoW/PoS\",\"PoW\",\"PoS\",\"PoS\",\"PoW/PoS\",\"PoS\",\"PoW/PoS\",\"PoW\",\"PoW\",\"DPoS\",\"PoW/PoS\",\"PoW\",\"PoW\",\"PoW/PoS\",\"PoW/PoS\",\"PoS\",\"PoW/PoS\",\"PoW/PoS\",\"PoW\",\"PoS\",\"PoW/PoS\",\"PoW/PoS\",\"PoW/PoS\",\"TPoS\",\"PoW/PoS\",\"PoW/PoS\",\"PoW/PoS\",\"PoW\",\"PoW/PoS\",\"PoS\",\"PoW/PoS\",\"PoW/PoS\",\"PoS\",\"PoW/PoS\",\"PoW\",\"PoW\",\"PoW\",\"PoW/PoS\",\"PoW/PoS\",\"PoW/PoS\",\"PoW/PoS\",\"PoW\",\"PoW/PoS\",\"PoW\",\"PoS\",\"PoW/PoS \",\"PoW\",\"PoS\",\"PoW\",\"PoW\",\"PoW/PoS\",\"PoW\",\"PoW\",\"PoS\",\"PoW\",\"PoW/PoS\",\"PoW/PoS\",\"PoW/PoS\",\"PoW\",\"PoS\",\"PoW/PoS\",\"PoW\",\"PoS\",\"PoW/PoS\",\"PoW/PoS\",\"PoW/PoS\",\"PoW/PoS\",\"PoS\",\"PoW/PoS\",\"PoW\",\"PoS\",\"PoW\",\"PoS\",\"PoW/PoS\",\"PoW/PoS\",\"PoS\",\"PoW\",\"PoS\",\"PoW\",\"PoW/PoS\",\"PoW\",\"PoW\",\"PoW\",\"PoW\",\"PoW/PoS\",\"PoW\",\"PoW/PoS\",\"PoW/PoS\",\"PoW\",\"PoW/PoS\",\"PoW\",\"PoW\",\"PoW\",\"PoW/PoS\",\"PoW\",\"PoW/PoS\",\"PoW\",\"PoW\",\"PoW\",\"PoS\",\"PoW\",\"PoW/PoS\",\"PoW\",\"PoW/PoS\",\"PoS\",\"Proof of Authority\",\"PoW\",\"PoS\",\"PoW\",\"PoW\",\"PoW\",\"PoW\",\"PoW\",\"PoW/PoS\",\"PoW/PoS\",\"PoW\",\"PoS\",\"PoS\",\"PoW/PoS\",\"PoW\",\"PoW/PoS\",\"PoW\",\"PoW/PoS\",\"PoW\",\"PoS\",\"PoW\",\"PoW/PoS\",\"PoW/PoS\",\"PoW/PoS\",\"PoW/PoS\",\"PoW\",\"PoW/PoS\",\"PoW/PoS\",\"PoW\",\"PoS\",\"PoW/PoS\",\"PoS\",\"PoW\",\"PoW\",\"PoW\",\"PoW\",\"PoW/PoS\",\"DPoS\",\"PoW/PoS\",\"PoW/PoS\",\"PoW\",\"PoW/PoS\",\"PoW\",\"PoW\",\"PoW\",\"PoS\",\"PoS\",\"PoW\",\"PoW\",\"PoW/PoS\",\"PoW/PoS\",\"PoW\",\"PoW/PoS\",\"PoW\",\"PoW\",\"PoW\",\"PoS\",\"PoW\",\"PoW\",\"PoW/PoS\",\"PoW/PoS\",\"PoS\",\"PoW\",\"PoW\",\"PoW\",\"PoS\",\"PoS\",\"PoW and PoS\",\"PoW\",\"PoW\",\"PoW/PoS\",\"PoW\",\"PoW\",\"PoW\",\"PoW\",\"PoS\",\"POBh\",\"PoW + Hive\",\"PoW\",\"PoW\",\"PoW\",\"PoW/PoS\",\"PoA\",\"PoW/PoS\",\"PoW/PoS\",\"PoS\",\"PoS\",\"PoW\",\"PoW\",\"PoW\",\"PoW\",\"PoW/PoS\",\"PoW/PoS\",\"PoW/PoS\",\"PoW\",\"PoS\",\"PoW\",\"PoS\",\"PoS\",\"PoW/PoS\",\"DPoS\",\"PoW\",\"PoW/PoS\",\"PoS\",\"PoW\",\"PoS\",\"PoW/PoS\",\"PoW\",\"PoW\",\"PoS/PoW\",\"PoW\",\"PoS\",\"PoW\",\"PoW\",\"PoW\",\"PoW\",\"PoW/PoS\",\"PoS\",\"PoW\",\"PoW/PoS\",\"PoW\",\"PoW/PoS\",\"PoS\",\"HPoW\",\"PoS\",\"PoS\",\"PoS\",\"PoW\",\"PoW\",\"PoW\",\"PoW/PoS\",\"PoS\",\"PoW/PoS\",\"PoS\",\"PoW/PoS\",\"PoS\",\"PoW\",\"PoW/PoS\",\"PoW\",\"PoW\",\"PoW\",\"PoW\",\"PoS\",\"PoW/PoS\",\"PoS\",\"PoS\",\"PoW\",\"PoW/PoS\",\"PoS\",\"PoW\",\"PoW/PoS\",\"Zero-Knowledge Proof\",\"PoW\",\"DPOS\",\"PoW\",\"PoS\",\"PoW\",\"PoW\",\"Pos\",\"PoS\",\"PoW\",\"PoW/PoS\",\"PoW\",\"PoW\",\"PoS\",\"PoW\",\"PoW\",\"PoW/PoS\",\"PoW\",\"PoW/PoS\",\"PoW\",\"PoS\",\"PoW/PoS\",\"PoW\",\"PoS\",\"PoW/PoS\",\"PoW/PoS\",\"PoW/PoS\",\"PoW/PoS\",\"PoW\",\"PoW\",\"PoW\",\"PoW/PoS\",\"DPoS\",\"PoW/PoS\",\"PoW\",\"PoW/PoS\",\"PoW\",\"PoW/PoS\",\"PoW\",\"PoW/PoS\",\"PoS\",\"PoW/PoS\",\"PoW/PoS\",\"PoW\",\"PoW/PoS\",\"PoW/PoS\",\"PoW/PoS\",\"PoW\",\"PoW/PoS\",\"PoW\",\"PoW/PoS\",\"PoW\",\"PoW/PoS\",\"PoW/PoS\",\"PoS\",\"PoW\",\"PoW\",\"Proof of Trust\",\"PoW/PoS\",\"DPoS\",\"PoS\",\"PoW/PoS\",\"PoW/PoS\",\"PoW\",\"PoW/PoS\",\"PoW\",\"DPoS\",\"PoW\",\"DPoS\",\"PoS\",\"LPoS\",\"PoS\",\"DPoS\",\"PoS/LPoS\",\"DPoS\",\"PoW/PoS\",\"PoW\",\"PoW\",\"PoS\"],\"TotalCoinSupply\":[\"42\",\"532000000\",\"314159265359\",\"21000000\",\"0\",\"84000000\",\"22000000\",\"0\",\"210000000\",\"21000000\",\"3600570502\",\"21000000000\",\"22000000\",\"12500000\",\"21000000\",\"350000000\",\"20000000\",\"64000000\",\"16768584\",\"0\",\"2000000000\",\"384000000000\",\"169795588\",\"250000000\",\"100000000\",\"0\",\"247000000\",\"84000000\",\"48166000\",\"500000\",\"21000000 \",\"1000000\",\"13140000\",\"18000000\",\"40000000000\",\"4380000\",\"16555000000\",\"21000000000\",\"13500000000\",\"21000000 \",\"299792458\",\"32000000\",\"0\",\"0\",\"11235813\",\"336000000\",\"1420609614\",\"70000000\",\"72245700\",\"120000000\",\"0\",\"90600000000\",\"22000000\",\"21000000\",\"265420800\",\"20000000\",\"1350000\",\"100000000\",\"42000000\",\"200000000\",\"0\",\"10000000\",\"2419200000\",\"16180000\",\"0\",\"15000000000\",\"21000000\",\"337000000\",\"0\",\"3770000\",\"420000000\",\"98000000\",\"0\",\"21000000\",\"250000000\",\"51200000\",\"0\",\"1000\",\"888000000\",\"100000000\",\"47011968\",\"2300000000\",\"10000000\",\"42000000\",\"80000000\",\"250000\",\"0\",\"1600000000\",\"100000000\",\"23000000\",\"0\",\"84000000\",\"265420800\",\"5500000\",\"0\",\"45000000\",\"0\",\"1000000000\",\"184467440735\",\"10000000000\",\"2158812800\",\"500000000\",\"105120000\",\"68000000\",\"0\",\"1680000000\",\"0\",\"166386000\",\"12000000\",\"2628000\",\"500000000\",\"160000000\",\"0\",\"10000000\",\"1000000000\",\"1000000000\",\"20000000\",\"0\",\"0\",\"3371337\",\"20000000\",\"10000000000\",\"1840000000\",\"619478\",\"21000000\",\"92000000000\",\"0\",\"78000000\",\"33000000\",\"65789100\",\"53760000\",\"5060000\",\"21000000\",\"0\",\"210240000\",\"250000000\",\"100000000\",\"16906397\",\"50000000\",\"0\",\"1000000000\",\"26298000\",\"16000000\",\"21000000\",\"21000000\",\"210000000\",\"81962100\",\"22000000\",\"26550000000\",\"84000000\",\"10500000\",\"21626280000 \",\"0\",\"42000000\",\"221052632\",\"84000000\",\"30000000\",\"168351300\",\"24000000\",\"384000000\",\" 99000000000\",\"40000000\",\"2147483647\",\"20000000\",\"20000000\",\"25000000\",\"75000000\",\"222725000\",\"525000000\",\"90000000\",\"139000000\",\"616448\",\"33500000\",\"2000000000\",\"44333333\",\"100000000\",\"200000000\",\"25000000\",\"657000000\",\"200000000\",\"50000000\",\"90000000\",\"10000000\",\"21000000\",\"9736000\",\"3000000\",\"21000000\",\"1200000000\",\"0\",\"200000000\",\"0\",\"10638298\",\"3100000000\",\"30000000\",\"20000000000\",\"74000000\",\"0\",\"1500000000\",\"21400000\",\"39999898\",\"2500124\",\"100000000\",\"301000000\",\"7506000000\",\"26205539\",\"21000000\",\"125000000\",\"30000000\",\"10000000000\",\"500000000\",\"850000000\",\"3853326.77707314\",\"50000000\",\"38540000 \",\"42000000\",\"228000000\",\"20000000\",\"60000000\",\"20000000\",\"33000000\",\"76500000\",\"28000000\",\"650659833\",\"5000000\",\"21000000\",\"144000000\",\"32514916898\",\"13000000\",\"3315789\",\"15000000\",\"78835200\",\"2714286\",\"25000000\",\"9999999\",\"500000000\",\"21000000\",\"9354000\",\"20000000\",\"100000000000\",\"21933333\",\"185000000\",\"55000000\",\"110000000\",\"3360000\",\"14524851.4827\",\"1000000000\",\"17000000\",\"1000000000\",\"100000000 \",\"21000000\",\"34426423\",\"2232901\",\"100000000\",\"36900000\",\"110000000\",\"4000000000\",\"110290030\",\"100000000\",\"48252000\",\"400000000\",\"500000000\",\"21212121\",\"28600000\",\"1000000000\",\"75000000000\",\"40000000\",\"35520400\",\"2000000000\",\"2500000000\",\"30000000\",\"105000000\",\"90000000000\",\"200084200\",\"72000000\",\"100000000\",\"105000000\",\"50000000000\",\"0\",\"340282367\",\"30000000\",\"2000000000\",\"10000000\",\"100000000\",\"120000000\",\"100000000\",\"19276800\",\"30000000\",\" 75000000\",\"60000000\",\"18900000\",\"50000000000\",\"54000000\",\"18898187.6216583\",\"21000000\",\"200000000000\",\"5000000000\",\"137500000\",\"1100000000\",\"100000000\",\"21000000\",\"9507271\",\"17405891.19707116\",\"86712634466\",\"10500000000\",\"61599965\",\"0\",\"20000000\",\"84000000\",\"100000000\",\"100000000\",\"48252000\",\"4200000\",\"88888888\",\"91388946\",\"45000000000\",\"27000000\",\"21000000000\",\"400000000\",\"1800000000\",\"15733333\",\"27000000\",\"24000000\",\"21000000\",\"25000000000\",\"100000000\",\"1200000000\",\"60000000\",\"156306732.71\",\"21000000\",\"200000000\",\"100000000\",\"21000000\",\"14788275.991\",\"9000000000\",\"350000000\",\"45000000\",\"280000000\",\"31800000\",\"144000000\",\"500000000\",\"30000000000\",\"210000000\",\"660000000\",\"210000000\",\"85000000000\",\"12500000\",\"10000000000\",\"27716121\",\"20000000\",\"550000000\",\"999481516\",\"50000000000\",\"150000000\",\"4999999999\",\"50000000\",\" 90000000000\",\"19800000\",\"21000000\",\"120000000\",\"500000000\",\"64000000\",\"900000000\",\"4000000\",\"21000000\",\"23000000\",\"20166000\",\"23000000\",\"25000000\",\"1618033\",\"30000000\",\"1000000000000\",\"16600000\",\"232000000\",\"336000000\",\"10000000000\",\"100000000\",\"1100000000\",\"800000000\",\"5200000000\",\"840000000\",\"40000000\",\"18406979840\",\"500000000\",\"19340594\",\"252460800\",\"25000000\",\"60000000\",\"124000000\",\"1000000000\",\"6500000000\",\"1000000000\",\"21000000\",\"25000000\",\"50000000\",\"3000000\",\"5000000\",\"70000000\",\"500000000\",\"300000000\",\"21000000\",\"88000000\",\"30000000\",\"100000000\",\"100000000\",\"200000000\",\"80000000\",\"18400000\",\"45000000\",\"5121951220\",\"21000000\",\"26280000\",\"21000000\",\"18000000\",\"26000000\",\"10500000\",\"600000518\",\"150000000\",\"184000000000\",\"10200000000\",\"44000000\",\"168000000\",\"100000000\",\"1000000000\",\"84000000\",\"90000000\",\"92000000000\",\"650000000 \",\"100262205\",\"18081806 \",\"22075700\",\"21000000\",\"21000000\",\"82546564\",\"21000000\",\"5151000\",\"16880000000\",\"52500000\",\"100000000\",\"22105263\",\"1000000000\",\"1750000000\",\"88188888\",\"210000000\",\"184470000000\",\"55000000\",\"50000000\",\"260000000\",\"210000000\",\"2100000000\",\"366000000\",\"100000000\",\"25000000\",\"18000000000\",\"1000000000\",\"100000000\",\"1000000000\",\"7600000000\",\"50000000\",\"84000000\",\"21000000\",\"70000000000\",\"0\",\"8080000000\",\"54000000\",\"105120001.44\",\"25228800\",\"105000000\",\"21000000\",\"120000000\",\"21000000\",\"262800000\",\"19035999\",\"30886000\",\"13370000\",\"74800000000\",\"100000000\",\"19700000\",\"84000000\",\"500000000\",\"5000000000\",\"420000000\",\"64000000\",\"2100000\",\"168000000\",\"30000000\",\"1000000000\",\"35000000000\",\"98100000000\",\"0\",\"4000000000\",\"200000000\",\"7000000000\",\"54256119\",\"21000000\",\"0\",\"500000000\",\"1000000000\",\"10500000000\",\"190000000\",\"1000000000\",\"42000000\",\"15000000\",\"50000000000\",\"400000000\",\"105000000\",\"208000000\",\"160000000\",\"9000000\",\"5000000\",\"182000000\",\"16504333\",\"105000000\",\"159918400\",\"10008835635\",\"300000000\",\"60168145\",\"2800000\",\"120000\",\"2100000000\",\"0\",\"24487944\",\"0\",\"1000000000\",\"100000000\",\"8634140\",\"990000000000\",\"1000000000\",\"2000000000\",\"250000000\",\"1400222610\",\"21000000\",\"1000000\"],\"TotalCoinsMined\":{\"__ndarray__\":\"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\",\"dtype\":\"float64\",\"order\":\"little\",\"shape\":[532]}},\"selected\":{\"id\":\"1241\"},\"selection_policy\":{\"id\":\"1290\"}},\"id\":\"1240\",\"type\":\"ColumnDataSource\"},{\"attributes\":{},\"id\":\"1273\",\"type\":\"NumberEditor\"},{\"attributes\":{\"editor\":{\"id\":\"1248\"},\"field\":\"ProofType\",\"formatter\":{\"id\":\"1247\"},\"title\":\"ProofType\"},\"id\":\"1249\",\"type\":\"TableColumn\"},{\"attributes\":{},\"id\":\"1277\",\"type\":\"StringFormatter\"},{\"attributes\":{},\"id\":\"1247\",\"type\":\"StringFormatter\"},{\"attributes\":{\"format\":\"0,0.0[00000]\"},\"id\":\"1252\",\"type\":\"NumberFormatter\"},{\"attributes\":{\"editor\":{\"id\":\"1263\"},\"field\":\"PC1\",\"formatter\":{\"id\":\"1262\"},\"title\":\"PC1\"},\"id\":\"1264\",\"type\":\"TableColumn\"},{\"attributes\":{},\"id\":\"1243\",\"type\":\"StringEditor\"},{\"attributes\":{},\"id\":\"1283\",\"type\":\"IntEditor\"},{\"attributes\":{\"editor\":{\"id\":\"1278\"},\"field\":\"CoinName\",\"formatter\":{\"id\":\"1277\"},\"title\":\"CoinName\"},\"id\":\"1279\",\"type\":\"TableColumn\"},{\"attributes\":{},\"id\":\"1258\",\"type\":\"StringEditor\"},{\"attributes\":{},\"id\":\"1253\",\"type\":\"NumberEditor\"},{\"attributes\":{},\"id\":\"1282\",\"type\":\"NumberFormatter\"},{\"attributes\":{},\"id\":\"1257\",\"type\":\"StringFormatter\"},{\"attributes\":{\"columns\":[{\"id\":\"1244\"},{\"id\":\"1249\"},{\"id\":\"1254\"},{\"id\":\"1259\"},{\"id\":\"1264\"},{\"id\":\"1269\"},{\"id\":\"1274\"},{\"id\":\"1279\"},{\"id\":\"1284\"}],\"height\":300,\"reorderable\":false,\"source\":{\"id\":\"1240\"},\"view\":{\"id\":\"1289\"},\"width\":700},\"id\":\"1287\",\"type\":\"DataTable\"},{\"attributes\":{\"editor\":{\"id\":\"1258\"},\"field\":\"TotalCoinSupply\",\"formatter\":{\"id\":\"1257\"},\"title\":\"TotalCoinSupply\"},\"id\":\"1259\",\"type\":\"TableColumn\"},{\"attributes\":{\"margin\":[5,5,5,5],\"name\":\"HSpacer01983\",\"sizing_mode\":\"stretch_width\"},\"id\":\"1294\",\"type\":\"Spacer\"},{\"attributes\":{\"format\":\"0,0.0[00000]\"},\"id\":\"1262\",\"type\":\"NumberFormatter\"},{\"attributes\":{},\"id\":\"1263\",\"type\":\"NumberEditor\"},{\"attributes\":{\"editor\":{\"id\":\"1243\"},\"field\":\"Algorithm\",\"formatter\":{\"id\":\"1242\"},\"title\":\"Algorithm\"},\"id\":\"1244\",\"type\":\"TableColumn\"},{\"attributes\":{\"editor\":{\"id\":\"1283\"},\"field\":\"Class\",\"formatter\":{\"id\":\"1282\"},\"title\":\"Class\"},\"id\":\"1284\",\"type\":\"TableColumn\"},{\"attributes\":{\"source\":{\"id\":\"1240\"}},\"id\":\"1289\",\"type\":\"CDSView\"},{\"attributes\":{\"format\":\"0,0.0[00000]\"},\"id\":\"1267\",\"type\":\"NumberFormatter\"},{\"attributes\":{\"children\":[{\"id\":\"1239\"},{\"id\":\"1287\"},{\"id\":\"1294\"}],\"margin\":[0,0,0,0],\"name\":\"Row01978\",\"tags\":[\"embedded\"]},\"id\":\"1238\",\"type\":\"Row\"},{\"attributes\":{\"margin\":[5,5,5,5],\"name\":\"HSpacer01982\",\"sizing_mode\":\"stretch_width\"},\"id\":\"1239\",\"type\":\"Spacer\"},{\"attributes\":{\"format\":\"0,0.0[00000]\"},\"id\":\"1272\",\"type\":\"NumberFormatter\"},{\"attributes\":{\"editor\":{\"id\":\"1273\"},\"field\":\"PC3\",\"formatter\":{\"id\":\"1272\"},\"title\":\"PC3\"},\"id\":\"1274\",\"type\":\"TableColumn\"}],\"root_ids\":[\"1238\"]},\"title\":\"Bokeh Application\",\"version\":\"2.4.2\"}};\n",
       "    var render_items = [{\"docid\":\"ee737f49-d56d-4da3-8b23-63c11333cbd5\",\"root_ids\":[\"1238\"],\"roots\":{\"1238\":\"0d541087-55e7-4bc7-929b-110c73e669c1\"}}];\n",
       "    root.Bokeh.embed.embed_items_notebook(docs_json, render_items);\n",
       "  }\n",
       "  if (root.Bokeh !== undefined && root.Bokeh.Panel !== undefined) {\n",
       "    embed_document(root);\n",
       "  } else {\n",
       "    var attempts = 0;\n",
       "    var timer = setInterval(function(root) {\n",
       "      if (root.Bokeh !== undefined && root.Bokeh.Panel !== undefined) {\n",
       "        clearInterval(timer);\n",
       "        embed_document(root);\n",
       "      } else if (document.readyState == \"complete\") {\n",
       "        attempts++;\n",
       "        if (attempts > 200) {\n",
       "          clearInterval(timer);\n",
       "          console.log(\"Bokeh: ERROR: Unable to run BokehJS code because BokehJS library is missing\");\n",
       "        }\n",
       "      }\n",
       "    }, 25, root)\n",
       "  }\n",
       "})(window);</script>"
      ],
      "text/plain": [
       ":Table   [Algorithm,ProofType,TotalCoinsMined,TotalCoinSupply,PC1,PC2,PC3,CoinName,Class]"
      ]
     },
     "execution_count": 57,
     "metadata": {
      "application/vnd.holoviews_exec.v0+json": {
       "id": "1238"
      }
     },
     "output_type": "execute_result"
    }
   ],
   "source": [
    "# Create a table with tradable cryptocurrencies.\n",
    "# YOUR CODE HERE\n",
    "clustered_df.hvplot.table(sortable=True)"
   ]
  },
  {
   "cell_type": "code",
   "execution_count": 58,
   "metadata": {},
   "outputs": [
    {
     "name": "stdout",
     "output_type": "stream",
     "text": [
      "<bound method DataFrame.count of         Algorithm ProofType  TotalCoinsMined TotalCoinSupply       PC1  \\\n",
      "42         Scrypt   PoW/PoS     4.199995e+01              42 -0.336009   \n",
      "404        Scrypt   PoW/PoS     1.055185e+09       532000000 -0.319344   \n",
      "1337          X13   PoW/PoS     2.927942e+10    314159265359  2.293279   \n",
      "BTC       SHA-256       PoW     1.792718e+07        21000000 -0.139994   \n",
      "ETH        Ethash       PoW     1.076842e+08               0 -0.144831   \n",
      "...           ...       ...              ...             ...       ...   \n",
      "ZEPH      SHA-256      DPoS     2.000000e+09      2000000000  2.478218   \n",
      "GAP        Scrypt   PoW/PoS     1.493105e+07       250000000 -0.334054   \n",
      "BDX   CryptoNight       PoW     9.802226e+08      1400222610  0.321628   \n",
      "ZEN      Equihash       PoW     7.296538e+06        21000000 -0.163080   \n",
      "XBC        Scrypt       PoS     1.283270e+05         1000000 -0.283140   \n",
      "\n",
      "           PC2       PC3     CoinName  Class  \n",
      "42    1.017551 -0.552529      42 Coin      0  \n",
      "404   1.017857 -0.552719      404Coin      0  \n",
      "1337  1.736133 -0.636878    EliteCoin      0  \n",
      "BTC  -1.340185  0.177835      Bitcoin      3  \n",
      "ETH  -2.046274  0.379615     Ethereum      3  \n",
      "...        ...       ...          ...    ...  \n",
      "ZEPH  0.697841  0.016341       ZEPHYR      0  \n",
      "GAP   1.017450 -0.552542      Gapcoin      0  \n",
      "BDX  -2.313605  0.369909       Beldex      3  \n",
      "ZEN  -2.033114  0.363563      Horizen      3  \n",
      "XBC   0.808348 -0.234082  BitcoinPlus      0  \n",
      "\n",
      "[532 rows x 9 columns]>\n"
     ]
    }
   ],
   "source": [
    "# Print the total number of tradable cryptocurrencies.\n",
    "# YOUR CODE HERE\n",
    "print(clustered_df.count) "
   ]
  },
  {
   "cell_type": "code",
   "execution_count": 59,
   "metadata": {},
   "outputs": [
    {
     "name": "stdout",
     "output_type": "stream",
     "text": [
      "[[4.20000000e-11 0.00000000e+00]\n",
      " [5.32000000e-04 1.06585544e-03]\n",
      " [3.14159265e-01 2.95755135e-02]\n",
      " ...\n",
      " [1.40022261e-03 9.90135079e-04]\n",
      " [2.10000000e-05 7.37028150e-06]\n",
      " [1.00000000e-06 1.29582282e-07]]\n"
     ]
    }
   ],
   "source": [
    "# Scaling data to create the scatter plot with tradable cryptocurrencies.\n",
    "# YOUR CODE HERE\n",
    "scaled = MinMaxScaler().fit_transform(clustered_df[[\"TotalCoinSupply\",\"TotalCoinsMined\"]])\n",
    "print(scaled)"
   ]
  },
  {
   "cell_type": "code",
   "execution_count": 60,
   "metadata": {},
   "outputs": [
    {
     "data": {
      "text/html": [
       "<div>\n",
       "<style scoped>\n",
       "    .dataframe tbody tr th:only-of-type {\n",
       "        vertical-align: middle;\n",
       "    }\n",
       "\n",
       "    .dataframe tbody tr th {\n",
       "        vertical-align: top;\n",
       "    }\n",
       "\n",
       "    .dataframe thead th {\n",
       "        text-align: right;\n",
       "    }\n",
       "</style>\n",
       "<table border=\"1\" class=\"dataframe\">\n",
       "  <thead>\n",
       "    <tr style=\"text-align: right;\">\n",
       "      <th></th>\n",
       "      <th>TotalCoinSuppy</th>\n",
       "      <th>TotalCoinsMined</th>\n",
       "      <th>CoinName</th>\n",
       "      <th>Class</th>\n",
       "    </tr>\n",
       "  </thead>\n",
       "  <tbody>\n",
       "    <tr>\n",
       "      <th>42</th>\n",
       "      <td>4.200000e-11</td>\n",
       "      <td>0.000000</td>\n",
       "      <td>42 Coin</td>\n",
       "      <td>0</td>\n",
       "    </tr>\n",
       "    <tr>\n",
       "      <th>404</th>\n",
       "      <td>5.320000e-04</td>\n",
       "      <td>0.001066</td>\n",
       "      <td>404Coin</td>\n",
       "      <td>0</td>\n",
       "    </tr>\n",
       "    <tr>\n",
       "      <th>1337</th>\n",
       "      <td>3.141593e-01</td>\n",
       "      <td>0.029576</td>\n",
       "      <td>EliteCoin</td>\n",
       "      <td>0</td>\n",
       "    </tr>\n",
       "    <tr>\n",
       "      <th>BTC</th>\n",
       "      <td>2.100000e-05</td>\n",
       "      <td>0.000018</td>\n",
       "      <td>Bitcoin</td>\n",
       "      <td>3</td>\n",
       "    </tr>\n",
       "    <tr>\n",
       "      <th>ETH</th>\n",
       "      <td>0.000000e+00</td>\n",
       "      <td>0.000109</td>\n",
       "      <td>Ethereum</td>\n",
       "      <td>3</td>\n",
       "    </tr>\n",
       "    <tr>\n",
       "      <th>LTC</th>\n",
       "      <td>8.400000e-05</td>\n",
       "      <td>0.000064</td>\n",
       "      <td>Litecoin</td>\n",
       "      <td>3</td>\n",
       "    </tr>\n",
       "    <tr>\n",
       "      <th>DASH</th>\n",
       "      <td>2.200000e-05</td>\n",
       "      <td>0.000009</td>\n",
       "      <td>Dash</td>\n",
       "      <td>0</td>\n",
       "    </tr>\n",
       "    <tr>\n",
       "      <th>XMR</th>\n",
       "      <td>0.000000e+00</td>\n",
       "      <td>0.000017</td>\n",
       "      <td>Monero</td>\n",
       "      <td>3</td>\n",
       "    </tr>\n",
       "    <tr>\n",
       "      <th>ETC</th>\n",
       "      <td>2.100000e-04</td>\n",
       "      <td>0.000115</td>\n",
       "      <td>Ethereum Classic</td>\n",
       "      <td>3</td>\n",
       "    </tr>\n",
       "    <tr>\n",
       "      <th>ZEC</th>\n",
       "      <td>2.100000e-05</td>\n",
       "      <td>0.000007</td>\n",
       "      <td>ZCash</td>\n",
       "      <td>3</td>\n",
       "    </tr>\n",
       "  </tbody>\n",
       "</table>\n",
       "</div>"
      ],
      "text/plain": [
       "      TotalCoinSuppy  TotalCoinsMined          CoinName  Class\n",
       "42      4.200000e-11         0.000000           42 Coin      0\n",
       "404     5.320000e-04         0.001066           404Coin      0\n",
       "1337    3.141593e-01         0.029576         EliteCoin      0\n",
       "BTC     2.100000e-05         0.000018           Bitcoin      3\n",
       "ETH     0.000000e+00         0.000109          Ethereum      3\n",
       "LTC     8.400000e-05         0.000064          Litecoin      3\n",
       "DASH    2.200000e-05         0.000009              Dash      0\n",
       "XMR     0.000000e+00         0.000017            Monero      3\n",
       "ETC     2.100000e-04         0.000115  Ethereum Classic      3\n",
       "ZEC     2.100000e-05         0.000007             ZCash      3"
      ]
     },
     "execution_count": 60,
     "metadata": {},
     "output_type": "execute_result"
    }
   ],
   "source": [
    "# Create a new DataFrame that has the scaled data with the clustered_df DataFrame index.\n",
    "# YOUR CODE HERE\n",
    "\n",
    "new_df = pd.DataFrame(    \n",
    "    data = scaled,columns = [\"TotalCoinSuppy\",\"TotalCoinsMined\"], index = clustered_df.index\n",
    ")\n",
    "\n",
    "# Add the \"CoinName\" column from the clustered_df DataFrame to the new DataFrame.\n",
    "# YOUR CODE HERE\n",
    "\n",
    "new_df = pd.concat([new_df,clustered_df['CoinName']],axis = 1)\n",
    "\n",
    "\n",
    "# Add the \"Class\" column from the clustered_df DataFrame to the new DataFrame. \n",
    "# YOUR CODE HERE\n",
    "\n",
    "plot_df = pd.concat([new_df,clustered_df[\"Class\"]],axis = 1)\n",
    "\n",
    "plot_df.head(10)"
   ]
  },
  {
   "cell_type": "code",
   "execution_count": 61,
   "metadata": {},
   "outputs": [
    {
     "data": {},
     "metadata": {},
     "output_type": "display_data"
    },
    {
     "data": {
      "application/vnd.holoviews_exec.v0+json": "",
      "text/html": [
       "<div id='1306'>\n",
       "\n",
       "\n",
       "\n",
       "\n",
       "\n",
       "  <div class=\"bk-root\" id=\"98e5adbe-3931-4966-9a86-83e609ae2fb8\" data-root-id=\"1306\"></div>\n",
       "</div>\n",
       "<script type=\"application/javascript\">(function(root) {\n",
       "  function embed_document(root) {\n",
       "    var docs_json = {\"69c5e3e2-558e-4d5b-99c2-de36f3a304c4\":{\"defs\":[{\"extends\":null,\"module\":null,\"name\":\"ReactiveHTML1\",\"overrides\":[],\"properties\":[]},{\"extends\":null,\"module\":null,\"name\":\"FlexBox1\",\"overrides\":[],\"properties\":[{\"default\":\"flex-start\",\"kind\":null,\"name\":\"align_content\"},{\"default\":\"flex-start\",\"kind\":null,\"name\":\"align_items\"},{\"default\":\"row\",\"kind\":null,\"name\":\"flex_direction\"},{\"default\":\"wrap\",\"kind\":null,\"name\":\"flex_wrap\"},{\"default\":\"flex-start\",\"kind\":null,\"name\":\"justify_content\"}]},{\"extends\":null,\"module\":null,\"name\":\"TemplateActions1\",\"overrides\":[],\"properties\":[{\"default\":0,\"kind\":null,\"name\":\"open_modal\"},{\"default\":0,\"kind\":null,\"name\":\"close_modal\"}]},{\"extends\":null,\"module\":null,\"name\":\"MaterialTemplateActions1\",\"overrides\":[],\"properties\":[{\"default\":0,\"kind\":null,\"name\":\"open_modal\"},{\"default\":0,\"kind\":null,\"name\":\"close_modal\"}]}],\"roots\":{\"references\":[{\"attributes\":{},\"id\":\"1328\",\"type\":\"BasicTicker\"},{\"attributes\":{\"coordinates\":null,\"group\":null,\"text\":\"ScaledCoinsValue\",\"text_color\":\"black\",\"text_font_size\":\"12pt\"},\"id\":\"1315\",\"type\":\"Title\"},{\"attributes\":{},\"id\":\"1351\",\"type\":\"Selection\"},{\"attributes\":{},\"id\":\"1324\",\"type\":\"BasicTicker\"},{\"attributes\":{\"axis\":{\"id\":\"1323\"},\"coordinates\":null,\"grid_line_color\":null,\"group\":null,\"ticker\":null},\"id\":\"1326\",\"type\":\"Grid\"},{\"attributes\":{\"angle\":{\"value\":0.0},\"fill_alpha\":{\"value\":1.0},\"fill_color\":{\"value\":\"#30a2da\"},\"hatch_alpha\":{\"value\":1.0},\"hatch_color\":{\"value\":\"#30a2da\"},\"hatch_scale\":{\"value\":12.0},\"hatch_weight\":{\"value\":1.0},\"line_alpha\":{\"value\":1.0},\"line_cap\":{\"value\":\"butt\"},\"line_color\":{\"value\":\"#30a2da\"},\"line_dash\":{\"value\":[]},\"line_dash_offset\":{\"value\":0},\"line_join\":{\"value\":\"bevel\"},\"line_width\":{\"value\":1},\"marker\":{\"value\":\"circle\"},\"size\":{\"value\":5.477225575051661},\"x\":{\"field\":\"TotalCoinsMined\"},\"y\":{\"field\":\"TotalCoinSuppy\"}},\"id\":\"1370\",\"type\":\"Scatter\"},{\"attributes\":{\"data\":{\"Class\":[0,0,0,0,0,0,0,0,0,0,0,0,0,0,0,0,0,0,0,0,0,0,0,0,0,0,0,0,0,0,0,0,0,0,0,0,0,0,0,0,0,0,0,0,0,0,0,0,0,0,0,0,0,0,0,0,0,0,0,0,0,0,0,0,0,0,0,0,0,0,0,0,0,0,0,0,0,0,0,0,0,0,0,0,0,0,0,0,0,0,0,0,0,0,0,0,0,0,0,0,0,0,0,0,0,0,0,0,0,0,0,0,0,0,0,0,0,0,0,0,0,0,0,0,0,0,0,0,0,0,0,0,0,0,0,0,0,0,0,0,0,0,0,0,0,0,0,0,0,0,0,0,0,0,0,0,0,0,0,0,0,0,0,0,0,0,0,0,0,0,0,0,0,0,0,0,0,0,0,0,0,0,0,0,0,0,0,0,0,0,0,0,0,0,0,0,0,0,0,0,0,0,0,0,0,0,0,0,0,0,0,0,0,0,0,0,0,0,0,0,0,0,0,0,0,0,0,0,0,0,0,0,0,0,0,0,0,0,0,0,0,0,0,0,0,0,0,0,0,0,0,0,0,0,0,0,0,0,0,0,0,0,0,0,0,0,0,0,0,0,0,0,0,0,0,0,0,0,0,0,0,0,0,0,0,0,0,0],\"CoinName\":[\"42 Coin\",\"404Coin\",\"EliteCoin\",\"Dash\",\"Bitshares\",\"BitcoinDark\",\"PayCoin\",\"KoboCoin\",\"Aurora Coin\",\"BlueCoin\",\"EnergyCoin\",\"BitBar\",\"CryptoBullion\",\"CasinoCoin\",\"Diamond\",\"Exclusive Coin\",\"FlutterCoin\",\"HoboNickels\",\"HyperStake\",\"IOCoin\",\"MaxCoin\",\"MintCoin\",\"MazaCoin\",\"Nautilus Coin\",\"NavCoin\",\"OpalCoin\",\"Orbitcoin\",\"PotCoin\",\"PhoenixCoin\",\"Reddcoin\",\"SuperCoin\",\"SyncCoin\",\"TeslaCoin\",\"TittieCoin\",\"TorCoin\",\"UnitaryStatus Dollar\",\"UltraCoin\",\"VeriCoin\",\"X11 Coin\",\"Crypti\",\"StealthCoin\",\"ZCC Coin\",\"BurstCoin\",\"StorjCoin\",\"Neutron\",\"FairCoin\",\"RubyCoin\",\"Kore\",\"Dnotes\",\"8BIT Coin\",\"Sativa Coin\",\"Ucoin\",\"Vtorrent\",\"IslaCoin\",\"Nexus\",\"Droidz\",\"Squall Coin\",\"Diggits\",\"Paycon\",\"Emercoin\",\"EverGreenCoin\",\"Decred\",\"EDRCoin\",\"Hitcoin\",\"DubaiCoin\",\"PWR Coin\",\"BillaryCoin\",\"GPU Coin\",\"EuropeCoin\",\"ZeitCoin\",\"SwingCoin\",\"SafeExchangeCoin\",\"Nebuchadnezzar\",\"Ratecoin\",\"Revenu\",\"Clockcoin\",\"VIP Tokens\",\"BitSend\",\"Let it Ride\",\"PutinCoin\",\"iBankCoin\",\"Frankywillcoin\",\"MudraCoin\",\"Lutetium Coin\",\"GoldBlocks\",\"CarterCoin\",\"BitTokens\",\"MustangCoin\",\"ZoneCoin\",\"RootCoin\",\"BitCurrency\",\"Swiscoin\",\"BuzzCoin\",\"Opair\",\"PesoBit\",\"Halloween Coin\",\"CoffeeCoin\",\"RoyalCoin\",\"GanjaCoin V2\",\"TeamUP\",\"LanaCoin\",\"ARK\",\"InsaneCoin\",\"EmberCoin\",\"XenixCoin\",\"FreeCoin\",\"PLNCoin\",\"AquariusCoin\",\"Creatio\",\"Eternity\",\"Eurocoin\",\"BitcoinFast\",\"Stakenet\",\"BitConnect Coin\",\"MoneyCoin\",\"Enigma\",\"Russiacoin\",\"PandaCoin\",\"GameUnits\",\"GAKHcoin\",\"Allsafe\",\"LiteCreed\",\"Klingon Empire Darsek\",\"Internet of People\",\"KushCoin\",\"Printerium\",\"Impeach\",\"Zilbercoin\",\"FirstCoin\",\"FindCoin\",\"OpenChat\",\"RenosCoin\",\"VirtacoinPlus\",\"TajCoin\",\"Impact\",\"Atmos\",\"HappyCoin\",\"MacronCoin\",\"Condensate\",\"Independent Money System\",\"ArgusCoin\",\"LomoCoin\",\"ProCurrency\",\"GoldReserve\",\"GrowthCoin\",\"Phreak\",\"Degas Coin\",\"HTML5 Coin\",\"Ultimate Secure Cash\",\"QTUM\",\"Espers\",\"Denarius\",\"Virta Unique Coin\",\"Bitcoin Planet\",\"BritCoin\",\"Linda\",\"DeepOnion\",\"Signatum\",\"Cream\",\"Monoeci\",\"Draftcoin\",\"Vechain\",\"Stakecoin\",\"CoinonatX\",\"Ethereum Dark\",\"Obsidian\",\"Cardano\",\"Regalcoin\",\"TrezarCoin\",\"TerraNovaCoin\",\"Rupee\",\"WomenCoin\",\"Theresa May Coin\",\"NamoCoin\",\"LUXCoin\",\"Xios\",\"Bitcloud 2.0\",\"KekCoin\",\"BlackholeCoin\",\"Infinity Economics\",\"Magnet\",\"Lamden Tau\",\"Electra\",\"Bitcoin Diamond\",\"Cash & Back Coin\",\"Bulwark\",\"Kalkulus\",\"GermanCoin\",\"LiteCoin Ultra\",\"PhantomX\",\"Digiwage\",\"Trollcoin\",\"Litecoin Plus\",\"Monkey Project\",\"TokenPay\",\"1717 Masonic Commemorative Token\",\"My Big Coin\",\"Unified Society USDEX\",\"Tokyo Coin\",\"Stipend\",\"Pushi\",\"Ellerium\",\"Velox\",\"Ontology\",\"Bitspace\",\"Briacoin\",\"Ignition\",\"MedicCoin\",\"Bitcoin Green\",\"Deviant Coin\",\"Abjcoin\",\"Semux\",\"Carebit\",\"Zealium\",\"Proton\",\"iDealCash\",\"Bitcoin Incognito\",\"HollyWoodCoin\",\"Swisscoin\",\"Xt3ch\",\"TheVig\",\"EmaratCoin\",\"Dekado\",\"Lynx\",\"Poseidon Quark\",\"BitcoinWSpectrum\",\"Muse\",\"Trivechain\",\"Dystem\",\"Giant\",\"Peony Coin\",\"Absolute Coin\",\"Vitae\",\"TPCash\",\"ARENON\",\"EUNO\",\"MMOCoin\",\"Ketan\",\"XDNA\",\"PAXEX\",\"ThunderStake\",\"Kcash\",\"Bettex coin\",\"BitMoney\",\"Junson Ming Chan Coin\",\"HerbCoin\",\"PirateCash\",\"Oduwa\",\"Galilel\",\"Crypto Sports\",\"Credit\",\"Dash Platinum\",\"Nasdacoin\",\"Beetle Coin\",\"Titan Coin\",\"Award\",\"Insane Coin\",\"ALAX\",\"LiteDoge\",\"TruckCoin\",\"OrangeCoin\",\"BitstarCoin\",\"NeosCoin\",\"HyperCoin\",\"PinkCoin\",\"AudioCoin\",\"IncaKoin\",\"Piggy Coin\",\"Genstake\",\"XiaoMiCoin\",\"CapriCoin\",\" ClubCoin\",\"Radium\",\"Creditbit \",\"OKCash\",\"Lisk\",\"HiCoin\",\"WhiteCoin\",\"FriendshipCoin\",\"Triangles Coin\",\"EOS\",\"Oxycoin\",\"TigerCash\",\"Particl\",\"Nxt\",\"ZEPHYR\",\"Gapcoin\",\"BitcoinPlus\"],\"TotalCoinSuppy\":{\"__ndarray__\":\"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\",\"dtype\":\"float64\",\"order\":\"little\",\"shape\":[288]},\"TotalCoinsMined\":{\"__ndarray__\":\"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\",\"dtype\":\"float64\",\"order\":\"little\",\"shape\":[288]}},\"selected\":{\"id\":\"1351\"},\"selection_policy\":{\"id\":\"1365\"}},\"id\":\"1350\",\"type\":\"ColumnDataSource\"},{\"attributes\":{\"fill_alpha\":{\"value\":0.2},\"fill_color\":{\"value\":\"#e5ae38\"},\"hatch_alpha\":{\"value\":0.2},\"hatch_color\":{\"value\":\"#e5ae38\"},\"line_alpha\":{\"value\":0.2},\"line_color\":{\"value\":\"#e5ae38\"},\"size\":{\"value\":5.477225575051661},\"x\":{\"field\":\"TotalCoinsMined\"},\"y\":{\"field\":\"TotalCoinSuppy\"}},\"id\":\"1398\",\"type\":\"Scatter\"},{\"attributes\":{},\"id\":\"1321\",\"type\":\"LinearScale\"},{\"attributes\":{\"axis_label\":\"TotalCoinSuppy\",\"coordinates\":null,\"formatter\":{\"id\":\"1348\"},\"group\":null,\"major_label_policy\":{\"id\":\"1349\"},\"ticker\":{\"id\":\"1328\"}},\"id\":\"1327\",\"type\":\"LinearAxis\"},{\"attributes\":{},\"id\":\"1345\",\"type\":\"BasicTickFormatter\"},{\"attributes\":{\"axis_label\":\"TotalCoinsMined\",\"coordinates\":null,\"formatter\":{\"id\":\"1345\"},\"group\":null,\"major_label_policy\":{\"id\":\"1346\"},\"ticker\":{\"id\":\"1324\"}},\"id\":\"1323\",\"type\":\"LinearAxis\"},{\"attributes\":{\"source\":{\"id\":\"1417\"}},\"id\":\"1424\",\"type\":\"CDSView\"},{\"attributes\":{},\"id\":\"1394\",\"type\":\"Selection\"},{\"attributes\":{\"source\":{\"id\":\"1371\"}},\"id\":\"1378\",\"type\":\"CDSView\"},{\"attributes\":{\"axis\":{\"id\":\"1327\"},\"coordinates\":null,\"dimension\":1,\"grid_line_color\":null,\"group\":null,\"ticker\":null},\"id\":\"1330\",\"type\":\"Grid\"},{\"attributes\":{\"angle\":{\"value\":0.0},\"fill_alpha\":{\"value\":1.0},\"fill_color\":{\"value\":\"#fc4f30\"},\"hatch_alpha\":{\"value\":1.0},\"hatch_color\":{\"value\":\"#fc4f30\"},\"hatch_scale\":{\"value\":12.0},\"hatch_weight\":{\"value\":1.0},\"line_alpha\":{\"value\":1.0},\"line_cap\":{\"value\":\"butt\"},\"line_color\":{\"value\":\"#fc4f30\"},\"line_dash\":{\"value\":[]},\"line_dash_offset\":{\"value\":0},\"line_join\":{\"value\":\"bevel\"},\"line_width\":{\"value\":1},\"marker\":{\"value\":\"circle\"},\"size\":{\"value\":5.477225575051661},\"x\":{\"field\":\"TotalCoinsMined\"},\"y\":{\"field\":\"TotalCoinSuppy\"}},\"id\":\"1392\",\"type\":\"Scatter\"},{\"attributes\":{\"label\":{\"value\":\"0\"},\"renderers\":[{\"id\":\"1356\"}]},\"id\":\"1369\",\"type\":\"LegendItem\"},{\"attributes\":{},\"id\":\"1438\",\"type\":\"UnionRenderers\"},{\"attributes\":{},\"id\":\"1319\",\"type\":\"LinearScale\"},{\"attributes\":{\"data\":{\"Class\":[3,3,3,3,3,3,3,3,3,3,3,3,3,3,3,3,3,3,3,3,3,3,3,3,3,3,3,3,3,3,3,3,3,3,3,3,3,3,3,3,3,3,3,3,3,3,3,3,3,3,3,3,3,3,3,3,3,3,3,3,3,3,3,3,3,3,3,3,3,3,3,3,3,3,3,3,3,3,3,3,3,3,3,3,3,3,3,3,3,3,3,3,3,3,3,3,3,3,3,3,3,3,3,3,3,3,3,3,3,3,3,3,3,3,3,3,3,3,3,3,3,3,3,3,3,3,3,3,3,3,3,3,3,3,3,3,3,3,3,3,3,3,3,3,3,3,3,3,3,3,3,3,3,3,3,3,3,3,3,3,3,3,3,3,3,3,3,3,3,3,3,3,3,3,3,3,3,3,3,3,3,3,3,3,3,3,3,3,3,3,3,3,3,3,3,3,3,3,3,3,3,3,3,3,3,3,3,3,3,3,3,3,3,3,3,3,3,3,3,3,3,3,3,3,3,3,3,3,3,3,3,3,3,3,3,3,3,3],\"CoinName\":[\"Bitcoin\",\"Ethereum\",\"Litecoin\",\"Monero\",\"Ethereum Classic\",\"ZCash\",\"DigiByte\",\"ProsperCoin\",\"Spreadcoin\",\"Argentum\",\"MyriadCoin\",\"MoonCoin\",\"ZetaCoin\",\"SexCoin\",\"Quatloo\",\"QuarkCoin\",\"Riecoin\",\"Digitalcoin \",\"Catcoin\",\"CannaCoin\",\"CryptCoin\",\"Verge\",\"DevCoin\",\"EarthCoin\",\"E-Gulden\",\"Einsteinium\",\"Emerald\",\"Franko\",\"FeatherCoin\",\"GrandCoin\",\"GlobalCoin\",\"GoldCoin\",\"Infinite Coin\",\"IXcoin\",\"KrugerCoin\",\"LuckyCoin\",\"Litebar \",\"MegaCoin\",\"MediterraneanCoin\",\"MinCoin\",\"NobleCoin\",\"Namecoin\",\"NyanCoin\",\"RonPaulCoin\",\"StableCoin\",\"SmartCoin\",\"SysCoin\",\"TigerCoin\",\"TerraCoin\",\"UnbreakableCoin\",\"Unobtanium\",\"UroCoin\",\"ViaCoin\",\"Vertcoin\",\"WorldCoin\",\"JouleCoin\",\"ByteCoin\",\"DigitalNote \",\"MonaCoin\",\"Gulden\",\"PesetaCoin\",\"Wild Beast Coin\",\"Flo\",\"ArtByte\",\"Folding Coin\",\"Unitus\",\"CypherPunkCoin\",\"OmniCron\",\"GreenCoin\",\"Cryptonite\",\"MasterCoin\",\"SoonCoin\",\"1Credit\",\"MarsCoin \",\"Crypto\",\"Anarchists Prime\",\"BowsCoin\",\"Song Coin\",\"BitZeny\",\"Expanse\",\"Siacoin\",\"MindCoin\",\"I0coin\",\"Revolution VR\",\"HOdlcoin\",\"Gamecredits\",\"CarpeDiemCoin\",\"Adzcoin\",\"SoilCoin\",\"YoCoin\",\"SibCoin\",\"Francs\",\"BolivarCoin\",\"Omni\",\"PizzaCoin\",\"Komodo\",\"Karbo\",\"ZayedCoin\",\"Circuits of Value\",\"DopeCoin\",\"DollarCoin\",\"Shilling\",\"ZCoin\",\"Elementrem\",\"ZClassic\",\"KiloCoin\",\"ArtexCoin\",\"Kurrent\",\"Cannabis Industry Coin\",\"OsmiumCoin\",\"Bikercoins\",\"HexxCoin\",\"PacCoin\",\"Citadel\",\"BeaverCoin\",\"VaultCoin\",\"Zero\",\"Canada eCoin\",\"Zoin\",\"DubaiCoin\",\"EB3coin\",\"Coinonat\",\"BenjiRolls\",\"ILCoin\",\"EquiTrader\",\"Quantum Resistant Ledger\",\"Dynamic\",\"Nano\",\"ChanCoin\",\"Dinastycoin\",\"DigitalPrice\",\"Unify\",\"SocialCoin\",\"ArcticCoin\",\"DAS\",\"LeviarCoin\",\"Bitcore\",\"gCn Coin\",\"SmartCash\",\"Onix\",\"Bitcoin Cash\",\"Sojourn Coin\",\"NewYorkCoin\",\"FrazCoin\",\"Kronecoin\",\"AdCoin\",\"Linx\",\"Sumokoin\",\"BitcoinZ\",\"Elements\",\"VIVO Coin\",\"Bitcoin Gold\",\"Pirl\",\"eBoost\",\"Pura\",\"Innova\",\"Ellaism\",\"GoByte\",\"SHIELD\",\"UltraNote\",\"BitCoal\",\"DaxxCoin\",\"AC3\",\"Lethean\",\"PopularCoin\",\"Photon\",\"Sucre\",\"SparksPay\",\"GunCoin\",\"IrishCoin\",\"Pioneer Coin\",\"UnitedBitcoin\",\"Interzone\",\"TurtleCoin\",\"MUNcoin\",\"Niobio Cash\",\"ShareChain\",\"Travelflex\",\"KREDS\",\"BitFlip\",\"LottoCoin\",\"Crypto Improvement Fund\",\"Callisto Network\",\"BitTube\",\"Poseidon\",\"Aidos Kuneen\",\"Bitrolium\",\"Alpenschillling\",\"FuturoCoin\",\"Monero Classic\",\"Jumpcoin\",\"Infinex\",\"KEYCO\",\"GINcoin\",\"PlatinCoin\",\"Loki\",\"Newton Coin\",\"MassGrid\",\"PluraCoin\",\"Motion\",\"PlusOneCoin\",\"Axe\",\"HexCoin\",\"Webchain\",\"Ryo\",\"Urals Coin\",\"Qwertycoin\",\"Project Pai\",\"Azart\",\"Xchange\",\"CrypticCoin\",\"Actinium\",\"Bitcoin SV\",\"FREDEnergy\",\"Universal Molecule\",\"Lithium\",\"Exosis\",\"Block-Logic\",\"Beam\",\"Bithereum\",\"SLICE\",\"BLAST\",\"Bitcoin Rhodium\",\"GlobalToken\",\"SolarCoin\",\"UFO Coin\",\"BlakeCoin\",\"Crypto Escudo\",\"Crown Coin\",\"SmileyCoin\",\"Groestlcoin\",\"Bata\",\"Pakcoin\",\"JoinCoin\",\"Vollar\",\"Reality Clash\",\"Beldex\",\"Horizen\"],\"TotalCoinSuppy\":{\"__ndarray__\":\"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\",\"dtype\":\"float64\",\"order\":\"little\",\"shape\":[238]},\"TotalCoinsMined\":{\"__ndarray__\":\"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\",\"dtype\":\"float64\",\"order\":\"little\",\"shape\":[238]}},\"selected\":{\"id\":\"1418\"},\"selection_policy\":{\"id\":\"1438\"}},\"id\":\"1417\",\"type\":\"ColumnDataSource\"},{\"attributes\":{\"label\":{\"value\":\"3\"},\"renderers\":[{\"id\":\"1423\"}]},\"id\":\"1441\",\"type\":\"LegendItem\"},{\"attributes\":{},\"id\":\"1412\",\"type\":\"UnionRenderers\"},{\"attributes\":{\"tools\":[{\"id\":\"1310\"},{\"id\":\"1331\"},{\"id\":\"1332\"},{\"id\":\"1333\"},{\"id\":\"1334\"},{\"id\":\"1335\"}]},\"id\":\"1337\",\"type\":\"Toolbar\"},{\"attributes\":{\"coordinates\":null,\"data_source\":{\"id\":\"1417\"},\"glyph\":{\"id\":\"1420\"},\"group\":null,\"hover_glyph\":null,\"muted_glyph\":{\"id\":\"1422\"},\"nonselection_glyph\":{\"id\":\"1421\"},\"selection_glyph\":{\"id\":\"1442\"},\"view\":{\"id\":\"1424\"}},\"id\":\"1423\",\"type\":\"GlyphRenderer\"},{\"attributes\":{\"margin\":[5,5,5,5],\"name\":\"HSpacer02177\",\"sizing_mode\":\"stretch_width\"},\"id\":\"1587\",\"type\":\"Spacer\"},{\"attributes\":{\"bottom_units\":\"screen\",\"coordinates\":null,\"fill_alpha\":0.5,\"fill_color\":\"lightgrey\",\"group\":null,\"left_units\":\"screen\",\"level\":\"overlay\",\"line_alpha\":1.0,\"line_color\":\"black\",\"line_dash\":[4,4],\"line_width\":2,\"right_units\":\"screen\",\"syncable\":false,\"top_units\":\"screen\"},\"id\":\"1336\",\"type\":\"BoxAnnotation\"},{\"attributes\":{\"coordinates\":null,\"data_source\":{\"id\":\"1393\"},\"glyph\":{\"id\":\"1396\"},\"group\":null,\"hover_glyph\":null,\"muted_glyph\":{\"id\":\"1398\"},\"nonselection_glyph\":{\"id\":\"1397\"},\"selection_glyph\":{\"id\":\"1416\"},\"view\":{\"id\":\"1400\"}},\"id\":\"1399\",\"type\":\"GlyphRenderer\"},{\"attributes\":{},\"id\":\"1331\",\"type\":\"SaveTool\"},{\"attributes\":{},\"id\":\"1332\",\"type\":\"PanTool\"},{\"attributes\":{},\"id\":\"1372\",\"type\":\"Selection\"},{\"attributes\":{},\"id\":\"1335\",\"type\":\"ResetTool\"},{\"attributes\":{},\"id\":\"1333\",\"type\":\"WheelZoomTool\"},{\"attributes\":{\"angle\":{\"value\":0.0},\"fill_alpha\":{\"value\":1.0},\"fill_color\":{\"value\":\"#e5ae38\"},\"hatch_alpha\":{\"value\":1.0},\"hatch_color\":{\"value\":\"#e5ae38\"},\"hatch_scale\":{\"value\":12.0},\"hatch_weight\":{\"value\":1.0},\"line_alpha\":{\"value\":1.0},\"line_cap\":{\"value\":\"butt\"},\"line_color\":{\"value\":\"#e5ae38\"},\"line_dash\":{\"value\":[]},\"line_dash_offset\":{\"value\":0},\"line_join\":{\"value\":\"bevel\"},\"line_width\":{\"value\":1},\"marker\":{\"value\":\"circle\"},\"size\":{\"value\":5.477225575051661},\"x\":{\"field\":\"TotalCoinsMined\"},\"y\":{\"field\":\"TotalCoinSuppy\"}},\"id\":\"1416\",\"type\":\"Scatter\"},{\"attributes\":{\"overlay\":{\"id\":\"1336\"}},\"id\":\"1334\",\"type\":\"BoxZoomTool\"},{\"attributes\":{},\"id\":\"1346\",\"type\":\"AllLabels\"},{\"attributes\":{\"callback\":null,\"renderers\":[{\"id\":\"1356\"},{\"id\":\"1377\"},{\"id\":\"1399\"},{\"id\":\"1423\"}],\"tags\":[\"hv_created\"],\"tooltips\":[[\"Class\",\"@{Class}\"],[\"TotalCoinsMined\",\"@{TotalCoinsMined}\"],[\"TotalCoinSuppy\",\"@{TotalCoinSuppy}\"],[\"CoinName\",\"@{CoinName}\"]]},\"id\":\"1310\",\"type\":\"HoverTool\"},{\"attributes\":{\"fill_color\":{\"value\":\"#6d904f\"},\"hatch_color\":{\"value\":\"#6d904f\"},\"line_color\":{\"value\":\"#6d904f\"},\"size\":{\"value\":5.477225575051661},\"x\":{\"field\":\"TotalCoinsMined\"},\"y\":{\"field\":\"TotalCoinSuppy\"}},\"id\":\"1420\",\"type\":\"Scatter\"},{\"attributes\":{\"fill_alpha\":{\"value\":0.1},\"fill_color\":{\"value\":\"#30a2da\"},\"hatch_alpha\":{\"value\":0.1},\"hatch_color\":{\"value\":\"#30a2da\"},\"line_alpha\":{\"value\":0.1},\"line_color\":{\"value\":\"#30a2da\"},\"size\":{\"value\":5.477225575051661},\"x\":{\"field\":\"TotalCoinsMined\"},\"y\":{\"field\":\"TotalCoinSuppy\"}},\"id\":\"1354\",\"type\":\"Scatter\"},{\"attributes\":{},\"id\":\"1365\",\"type\":\"UnionRenderers\"},{\"attributes\":{\"click_policy\":\"mute\",\"coordinates\":null,\"group\":null,\"items\":[{\"id\":\"1369\"},{\"id\":\"1391\"},{\"id\":\"1415\"},{\"id\":\"1441\"}],\"location\":[0,0],\"title\":\"Class\"},\"id\":\"1368\",\"type\":\"Legend\"},{\"attributes\":{\"fill_alpha\":{\"value\":0.2},\"fill_color\":{\"value\":\"#30a2da\"},\"hatch_alpha\":{\"value\":0.2},\"hatch_color\":{\"value\":\"#30a2da\"},\"line_alpha\":{\"value\":0.2},\"line_color\":{\"value\":\"#30a2da\"},\"size\":{\"value\":5.477225575051661},\"x\":{\"field\":\"TotalCoinsMined\"},\"y\":{\"field\":\"TotalCoinSuppy\"}},\"id\":\"1355\",\"type\":\"Scatter\"},{\"attributes\":{},\"id\":\"1418\",\"type\":\"Selection\"},{\"attributes\":{\"label\":{\"value\":\"2\"},\"renderers\":[{\"id\":\"1399\"}]},\"id\":\"1415\",\"type\":\"LegendItem\"},{\"attributes\":{\"children\":[{\"id\":\"1307\"},{\"id\":\"1314\"},{\"id\":\"1587\"}],\"margin\":[0,0,0,0],\"name\":\"Row02172\",\"tags\":[\"embedded\"]},\"id\":\"1306\",\"type\":\"Row\"},{\"attributes\":{\"fill_color\":{\"value\":\"#30a2da\"},\"hatch_color\":{\"value\":\"#30a2da\"},\"line_color\":{\"value\":\"#30a2da\"},\"size\":{\"value\":5.477225575051661},\"x\":{\"field\":\"TotalCoinsMined\"},\"y\":{\"field\":\"TotalCoinSuppy\"}},\"id\":\"1353\",\"type\":\"Scatter\"},{\"attributes\":{\"coordinates\":null,\"data_source\":{\"id\":\"1350\"},\"glyph\":{\"id\":\"1353\"},\"group\":null,\"hover_glyph\":null,\"muted_glyph\":{\"id\":\"1355\"},\"nonselection_glyph\":{\"id\":\"1354\"},\"selection_glyph\":{\"id\":\"1370\"},\"view\":{\"id\":\"1357\"}},\"id\":\"1356\",\"type\":\"GlyphRenderer\"},{\"attributes\":{\"source\":{\"id\":\"1350\"}},\"id\":\"1357\",\"type\":\"CDSView\"},{\"attributes\":{\"margin\":[5,5,5,5],\"name\":\"HSpacer02176\",\"sizing_mode\":\"stretch_width\"},\"id\":\"1307\",\"type\":\"Spacer\"},{\"attributes\":{\"data\":{\"Class\":[2],\"CoinName\":[\"BitTorrent\"],\"TotalCoinSuppy\":{\"__ndarray__\":\"rkfhehSu7z8=\",\"dtype\":\"float64\",\"order\":\"little\",\"shape\":[1]},\"TotalCoinsMined\":{\"__ndarray__\":\"AAAAAAAA8D8=\",\"dtype\":\"float64\",\"order\":\"little\",\"shape\":[1]}},\"selected\":{\"id\":\"1394\"},\"selection_policy\":{\"id\":\"1412\"}},\"id\":\"1393\",\"type\":\"ColumnDataSource\"},{\"attributes\":{\"fill_alpha\":{\"value\":0.2},\"fill_color\":{\"value\":\"#6d904f\"},\"hatch_alpha\":{\"value\":0.2},\"hatch_color\":{\"value\":\"#6d904f\"},\"line_alpha\":{\"value\":0.2},\"line_color\":{\"value\":\"#6d904f\"},\"size\":{\"value\":5.477225575051661},\"x\":{\"field\":\"TotalCoinsMined\"},\"y\":{\"field\":\"TotalCoinSuppy\"}},\"id\":\"1422\",\"type\":\"Scatter\"},{\"attributes\":{\"label\":{\"value\":\"1\"},\"renderers\":[{\"id\":\"1377\"}]},\"id\":\"1391\",\"type\":\"LegendItem\"},{\"attributes\":{\"fill_color\":{\"value\":\"#e5ae38\"},\"hatch_color\":{\"value\":\"#e5ae38\"},\"line_color\":{\"value\":\"#e5ae38\"},\"size\":{\"value\":5.477225575051661},\"x\":{\"field\":\"TotalCoinsMined\"},\"y\":{\"field\":\"TotalCoinSuppy\"}},\"id\":\"1396\",\"type\":\"Scatter\"},{\"attributes\":{\"angle\":{\"value\":0.0},\"fill_alpha\":{\"value\":1.0},\"fill_color\":{\"value\":\"#6d904f\"},\"hatch_alpha\":{\"value\":1.0},\"hatch_color\":{\"value\":\"#6d904f\"},\"hatch_scale\":{\"value\":12.0},\"hatch_weight\":{\"value\":1.0},\"line_alpha\":{\"value\":1.0},\"line_cap\":{\"value\":\"butt\"},\"line_color\":{\"value\":\"#6d904f\"},\"line_dash\":{\"value\":[]},\"line_dash_offset\":{\"value\":0},\"line_join\":{\"value\":\"bevel\"},\"line_width\":{\"value\":1},\"marker\":{\"value\":\"circle\"},\"size\":{\"value\":5.477225575051661},\"x\":{\"field\":\"TotalCoinsMined\"},\"y\":{\"field\":\"TotalCoinSuppy\"}},\"id\":\"1442\",\"type\":\"Scatter\"},{\"attributes\":{\"end\":1.042857142857143,\"reset_end\":1.042857142857143,\"reset_start\":-0.04285714285714286,\"start\":-0.04285714285714286,\"tags\":[[[\"TotalCoinsMined\",\"TotalCoinsMined\",null]]]},\"id\":\"1308\",\"type\":\"Range1d\"},{\"attributes\":{\"data\":{\"Class\":[1,1,1,1,1],\"CoinName\":[\"BiblePay\",\"LitecoinCash\",\"Poa Network\",\"Acute Angle Cloud\",\"Waves\"],\"TotalCoinSuppy\":{\"__ndarray__\":\"lPYGX5hMdT+8eapDboZLP4RaKOGWizA//Knx0k1iUD8sQxzr4jYaPw==\",\"dtype\":\"float64\",\"order\":\"little\",\"shape\":[5]},\"TotalCoinsMined\":{\"__ndarray__\":\"j1gNkdpTXT+QpMXySiFFP5wZJXiPEis/ekNDBbiMUD/7RX5gv3oaPw==\",\"dtype\":\"float64\",\"order\":\"little\",\"shape\":[5]}},\"selected\":{\"id\":\"1372\"},\"selection_policy\":{\"id\":\"1388\"}},\"id\":\"1371\",\"type\":\"ColumnDataSource\"},{\"attributes\":{\"fill_color\":{\"value\":\"#fc4f30\"},\"hatch_color\":{\"value\":\"#fc4f30\"},\"line_color\":{\"value\":\"#fc4f30\"},\"size\":{\"value\":5.477225575051661},\"x\":{\"field\":\"TotalCoinsMined\"},\"y\":{\"field\":\"TotalCoinSuppy\"}},\"id\":\"1374\",\"type\":\"Scatter\"},{\"attributes\":{\"fill_alpha\":{\"value\":0.1},\"fill_color\":{\"value\":\"#fc4f30\"},\"hatch_alpha\":{\"value\":0.1},\"hatch_color\":{\"value\":\"#fc4f30\"},\"line_alpha\":{\"value\":0.1},\"line_color\":{\"value\":\"#fc4f30\"},\"size\":{\"value\":5.477225575051661},\"x\":{\"field\":\"TotalCoinsMined\"},\"y\":{\"field\":\"TotalCoinSuppy\"}},\"id\":\"1375\",\"type\":\"Scatter\"},{\"attributes\":{\"source\":{\"id\":\"1393\"}},\"id\":\"1400\",\"type\":\"CDSView\"},{\"attributes\":{\"coordinates\":null,\"data_source\":{\"id\":\"1371\"},\"glyph\":{\"id\":\"1374\"},\"group\":null,\"hover_glyph\":null,\"muted_glyph\":{\"id\":\"1376\"},\"nonselection_glyph\":{\"id\":\"1375\"},\"selection_glyph\":{\"id\":\"1392\"},\"view\":{\"id\":\"1378\"}},\"id\":\"1377\",\"type\":\"GlyphRenderer\"},{\"attributes\":{\"fill_alpha\":{\"value\":0.1},\"fill_color\":{\"value\":\"#6d904f\"},\"hatch_alpha\":{\"value\":0.1},\"hatch_color\":{\"value\":\"#6d904f\"},\"line_alpha\":{\"value\":0.1},\"line_color\":{\"value\":\"#6d904f\"},\"size\":{\"value\":5.477225575051661},\"x\":{\"field\":\"TotalCoinsMined\"},\"y\":{\"field\":\"TotalCoinSuppy\"}},\"id\":\"1421\",\"type\":\"Scatter\"},{\"attributes\":{},\"id\":\"1349\",\"type\":\"AllLabels\"},{\"attributes\":{\"fill_alpha\":{\"value\":0.2},\"fill_color\":{\"value\":\"#fc4f30\"},\"hatch_alpha\":{\"value\":0.2},\"hatch_color\":{\"value\":\"#fc4f30\"},\"line_alpha\":{\"value\":0.2},\"line_color\":{\"value\":\"#fc4f30\"},\"size\":{\"value\":5.477225575051661},\"x\":{\"field\":\"TotalCoinsMined\"},\"y\":{\"field\":\"TotalCoinSuppy\"}},\"id\":\"1376\",\"type\":\"Scatter\"},{\"attributes\":{},\"id\":\"1348\",\"type\":\"BasicTickFormatter\"},{\"attributes\":{\"below\":[{\"id\":\"1323\"}],\"center\":[{\"id\":\"1326\"},{\"id\":\"1330\"}],\"height\":300,\"left\":[{\"id\":\"1327\"}],\"margin\":[5,5,5,5],\"min_border_bottom\":10,\"min_border_left\":10,\"min_border_right\":10,\"min_border_top\":10,\"renderers\":[{\"id\":\"1356\"},{\"id\":\"1377\"},{\"id\":\"1399\"},{\"id\":\"1423\"}],\"right\":[{\"id\":\"1368\"}],\"sizing_mode\":\"fixed\",\"title\":{\"id\":\"1315\"},\"toolbar\":{\"id\":\"1337\"},\"width\":700,\"x_range\":{\"id\":\"1308\"},\"x_scale\":{\"id\":\"1319\"},\"y_range\":{\"id\":\"1309\"},\"y_scale\":{\"id\":\"1321\"}},\"id\":\"1314\",\"subtype\":\"Figure\",\"type\":\"Plot\"},{\"attributes\":{\"end\":1.1,\"reset_end\":1.1,\"reset_start\":-0.1,\"start\":-0.1,\"tags\":[[[\"TotalCoinSuppy\",\"TotalCoinSuppy\",null]]]},\"id\":\"1309\",\"type\":\"Range1d\"},{\"attributes\":{},\"id\":\"1388\",\"type\":\"UnionRenderers\"},{\"attributes\":{\"fill_alpha\":{\"value\":0.1},\"fill_color\":{\"value\":\"#e5ae38\"},\"hatch_alpha\":{\"value\":0.1},\"hatch_color\":{\"value\":\"#e5ae38\"},\"line_alpha\":{\"value\":0.1},\"line_color\":{\"value\":\"#e5ae38\"},\"size\":{\"value\":5.477225575051661},\"x\":{\"field\":\"TotalCoinsMined\"},\"y\":{\"field\":\"TotalCoinSuppy\"}},\"id\":\"1397\",\"type\":\"Scatter\"}],\"root_ids\":[\"1306\"]},\"title\":\"Bokeh Application\",\"version\":\"2.4.2\"}};\n",
       "    var render_items = [{\"docid\":\"69c5e3e2-558e-4d5b-99c2-de36f3a304c4\",\"root_ids\":[\"1306\"],\"roots\":{\"1306\":\"98e5adbe-3931-4966-9a86-83e609ae2fb8\"}}];\n",
       "    root.Bokeh.embed.embed_items_notebook(docs_json, render_items);\n",
       "  }\n",
       "  if (root.Bokeh !== undefined && root.Bokeh.Panel !== undefined) {\n",
       "    embed_document(root);\n",
       "  } else {\n",
       "    var attempts = 0;\n",
       "    var timer = setInterval(function(root) {\n",
       "      if (root.Bokeh !== undefined && root.Bokeh.Panel !== undefined) {\n",
       "        clearInterval(timer);\n",
       "        embed_document(root);\n",
       "      } else if (document.readyState == \"complete\") {\n",
       "        attempts++;\n",
       "        if (attempts > 200) {\n",
       "          clearInterval(timer);\n",
       "          console.log(\"Bokeh: ERROR: Unable to run BokehJS code because BokehJS library is missing\");\n",
       "        }\n",
       "      }\n",
       "    }, 25, root)\n",
       "  }\n",
       "})(window);</script>"
      ],
      "text/plain": [
       ":NdOverlay   [Class]\n",
       "   :Scatter   [TotalCoinsMined]   (TotalCoinSuppy,CoinName)"
      ]
     },
     "execution_count": 61,
     "metadata": {
      "application/vnd.holoviews_exec.v0+json": {
       "id": "1306"
      }
     },
     "output_type": "execute_result"
    }
   ],
   "source": [
    "# Create a hvplot.scatter plot using x=\"TotalCoinsMined\" and y=\"TotalCoinSupply\".\n",
    "# YOUR CODE HERE\n",
    "\n",
    "plot_df.hvplot.scatter(\n",
    "    x=\"TotalCoinsMined\", \n",
    "    y=\"TotalCoinSuppy\",\n",
    "    hover_cols=['CoinName'],\n",
    "    by='Class', \n",
    "    title= \"ScaledCoinsValue\")\n"
   ]
  },
  {
   "cell_type": "code",
   "execution_count": null,
   "metadata": {},
   "outputs": [],
   "source": []
  }
 ],
 "metadata": {
  "file_extension": ".py",
  "kernelspec": {
   "display_name": "PythonData",
   "language": "python",
   "name": "pythondata"
  },
  "language_info": {
   "codemirror_mode": {
    "name": "ipython",
    "version": 3
   },
   "file_extension": ".py",
   "mimetype": "text/x-python",
   "name": "python",
   "nbconvert_exporter": "python",
   "pygments_lexer": "ipython3",
   "version": "3.7.11"
  },
  "latex_envs": {
   "LaTeX_envs_menu_present": true,
   "autoclose": false,
   "autocomplete": true,
   "bibliofile": "biblio.bib",
   "cite_by": "apalike",
   "current_citInitial": 1,
   "eqLabelWithNumbers": true,
   "eqNumInitial": 1,
   "hotkeys": {
    "equation": "Ctrl-E",
    "itemize": "Ctrl-I"
   },
   "labels_anchors": false,
   "latex_user_defs": false,
   "report_style_numbering": false,
   "user_envs_cfg": false
  },
  "mimetype": "text/x-python",
  "name": "python",
  "npconvert_exporter": "python",
  "pygments_lexer": "ipython3",
  "version": 3
 },
 "nbformat": 4,
 "nbformat_minor": 2
}
